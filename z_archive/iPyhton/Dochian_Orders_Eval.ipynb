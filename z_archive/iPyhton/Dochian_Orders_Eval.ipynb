{
 "cells": [
  {
   "cell_type": "code",
   "execution_count": 1,
   "metadata": {
    "collapsed": false
   },
   "outputs": [
    {
     "name": "stdout",
     "output_type": "stream",
     "text": [
      "system:  3.5.1 |Anaconda 2.4.1 (64-bit)| (default, Dec  7 2015, 15:00:12) [MSC v.1900 64 bit (AMD64)]\n",
      "numpy:  1.10.1\n",
      "panda:  0.17.1\n"
     ]
    }
   ],
   "source": [
    "import sys\n",
    "import numpy as np\n",
    "import pandas as pd\n",
    "import matplotlib.pyplot as plt\n",
    "import matplotlib\n",
    "import datetime as DT\n",
    "import pickle\n",
    "print('system: ', sys.version)\n",
    "print('numpy: ', np.__version__)\n",
    "print('panda: ', pd.__version__)"
   ]
  },
  {
   "cell_type": "code",
   "execution_count": 2,
   "metadata": {
    "collapsed": false
   },
   "outputs": [],
   "source": [
    "# Create Trend Ranges, based on visual inspection of previous graph, and add Trends to Order dataframe\n",
    "trend_range = [0, 6, 33, 60, 77, 86, 150, 171, 207, 222, 271, 314, 331, 348]\n",
    "trend_labels = ['UP1', 'FLAT1', 'DOWN1', 'UP2', 'DOWN2', 'FLAT2', 'DOWN3', 'UP3', 'DOWN4', 'UP4', \n",
    "               'DOWN5', 'UP6', 'FLAT3']"
   ]
  },
  {
   "cell_type": "code",
   "execution_count": 3,
   "metadata": {
    "collapsed": true
   },
   "outputs": [],
   "source": [
    "with open('df_Ind.pickle', 'rb') as file:\n",
    "    df_Ind = pickle.load(file)\n",
    "    \n",
    "with open('df_ord.pickle', 'rb') as file:\n",
    "    df_ord = pickle.load(file)"
   ]
  },
  {
   "cell_type": "code",
   "execution_count": 5,
   "metadata": {
    "collapsed": false
   },
   "outputs": [],
   "source": [
    "#define Gain and Loss filters\n",
    "Gain = (df_ord['Profit'] > 0)\n",
    "Loss = (df_ord['Profit'] < 0)\n",
    "\n",
    "#define filters for trends\n",
    "up1 = (['Trend'] == 'UP1')\n",
    "flat1 = (['Trend'] == 'FLAT1')\n",
    "down1 = (['Trend'] == 'DOWN1')\n",
    "up2 = (['Trend'] == 'UP2')\n",
    "down2 = (['Trend'] == 'DOWN2')\n",
    "flat2 = (['Trend'] == 'FLAT2')\n",
    "down3 = (['Trend'] == 'DOWN3')\n",
    "up3 = (['Trend'] == 'UP3')\n",
    "down4 = (['Trend'] == 'DOWN4')\n",
    "up4 = (['Trend'] == 'UP4')\n",
    "down5 = (['Trend'] == 'DOWN5')\n",
    "up6 = (['Trend'] == 'UP6')\n",
    "flat3 = (['Trend'] == 'FLAT3')"
   ]
  },
  {
   "cell_type": "code",
   "execution_count": 6,
   "metadata": {
    "collapsed": false
   },
   "outputs": [],
   "source": [
    "# Pull Gain orders from Order dataframe\n",
    "gain = df_ord.loc[Gain, ('DateTime', 'Trend', 'Ticket', 'Profit', 'Type')]\n",
    "loss = df_ord.loc[Loss, ('DateTime', 'Trend', 'Ticket', 'Profit', 'Type')]"
   ]
  },
  {
   "cell_type": "code",
   "execution_count": 7,
   "metadata": {
    "collapsed": false
   },
   "outputs": [
    {
     "data": {
      "text/html": [
       "<div>\n",
       "<table border=\"1\" class=\"dataframe\">\n",
       "  <thead>\n",
       "    <tr style=\"text-align: right;\">\n",
       "      <th></th>\n",
       "      <th>DateTime</th>\n",
       "      <th>Date</th>\n",
       "      <th>Time</th>\n",
       "      <th>Ticket</th>\n",
       "      <th>Open/Close</th>\n",
       "      <th>BBAND(10)</th>\n",
       "      <th>BBAND(20)</th>\n",
       "      <th>BBAND(30)</th>\n",
       "      <th>BBAND(40)</th>\n",
       "      <th>BBAND(50)</th>\n",
       "      <th>...</th>\n",
       "      <th>MACD(14) MAIN</th>\n",
       "      <th>MACD(14) SIGNAL</th>\n",
       "      <th>MACD(16) MAIN</th>\n",
       "      <th>MACD(16) SIGNAL</th>\n",
       "      <th>MACD(18) MAIN</th>\n",
       "      <th>MACD(18) SIGNAL</th>\n",
       "      <th>MACD(20) MAIN</th>\n",
       "      <th>MACD(20) SIGNAL</th>\n",
       "      <th>DateTime_sec</th>\n",
       "      <th>Trend</th>\n",
       "    </tr>\n",
       "  </thead>\n",
       "  <tbody>\n",
       "    <tr>\n",
       "      <th>0</th>\n",
       "      <td>2015-01-02 08:00:00</td>\n",
       "      <td>2015-01-02</td>\n",
       "      <td>08:00:00</td>\n",
       "      <td>-1</td>\n",
       "      <td>ON_NewBar</td>\n",
       "      <td>1.209722</td>\n",
       "      <td>1.210053</td>\n",
       "      <td>1.210167</td>\n",
       "      <td>1.210231</td>\n",
       "      <td>1.210213</td>\n",
       "      <td>...</td>\n",
       "      <td>-0.000425</td>\n",
       "      <td>-0.000047</td>\n",
       "      <td>-0.000425</td>\n",
       "      <td>-0.000036</td>\n",
       "      <td>-0.000425</td>\n",
       "      <td>-0.000026</td>\n",
       "      <td>-0.000425</td>\n",
       "      <td>-0.000016</td>\n",
       "      <td>1420185600</td>\n",
       "      <td>NaN</td>\n",
       "    </tr>\n",
       "    <tr>\n",
       "      <th>1</th>\n",
       "      <td>2015-01-02 08:01:00</td>\n",
       "      <td>2015-01-02</td>\n",
       "      <td>08:01:00</td>\n",
       "      <td>-1</td>\n",
       "      <td>ON_NewBar</td>\n",
       "      <td>1.209193</td>\n",
       "      <td>1.209771</td>\n",
       "      <td>1.209984</td>\n",
       "      <td>1.210093</td>\n",
       "      <td>1.210109</td>\n",
       "      <td>...</td>\n",
       "      <td>-0.000757</td>\n",
       "      <td>-0.000105</td>\n",
       "      <td>-0.000757</td>\n",
       "      <td>-0.000088</td>\n",
       "      <td>-0.000757</td>\n",
       "      <td>-0.000073</td>\n",
       "      <td>-0.000757</td>\n",
       "      <td>-0.000059</td>\n",
       "      <td>1420185660</td>\n",
       "      <td>NaN</td>\n",
       "    </tr>\n",
       "    <tr>\n",
       "      <th>2</th>\n",
       "      <td>2015-01-02 08:02:00</td>\n",
       "      <td>2015-01-02</td>\n",
       "      <td>08:02:00</td>\n",
       "      <td>-1</td>\n",
       "      <td>ON_NewBar</td>\n",
       "      <td>1.208657</td>\n",
       "      <td>1.209489</td>\n",
       "      <td>1.209802</td>\n",
       "      <td>1.209957</td>\n",
       "      <td>1.210005</td>\n",
       "      <td>...</td>\n",
       "      <td>-0.001009</td>\n",
       "      <td>-0.000180</td>\n",
       "      <td>-0.001009</td>\n",
       "      <td>-0.000154</td>\n",
       "      <td>-0.001009</td>\n",
       "      <td>-0.000132</td>\n",
       "      <td>-0.001009</td>\n",
       "      <td>-0.000113</td>\n",
       "      <td>1420185720</td>\n",
       "      <td>NaN</td>\n",
       "    </tr>\n",
       "    <tr>\n",
       "      <th>3</th>\n",
       "      <td>2015-01-02 08:03:00</td>\n",
       "      <td>2015-01-02</td>\n",
       "      <td>08:03:00</td>\n",
       "      <td>-1</td>\n",
       "      <td>ON_NewBar</td>\n",
       "      <td>1.208082</td>\n",
       "      <td>1.209193</td>\n",
       "      <td>1.209604</td>\n",
       "      <td>1.209807</td>\n",
       "      <td>1.209895</td>\n",
       "      <td>...</td>\n",
       "      <td>-0.001229</td>\n",
       "      <td>-0.000271</td>\n",
       "      <td>-0.001229</td>\n",
       "      <td>-0.000234</td>\n",
       "      <td>-0.001229</td>\n",
       "      <td>-0.000204</td>\n",
       "      <td>-0.001229</td>\n",
       "      <td>-0.000179</td>\n",
       "      <td>1420185780</td>\n",
       "      <td>NaN</td>\n",
       "    </tr>\n",
       "    <tr>\n",
       "      <th>4</th>\n",
       "      <td>2015-01-02 08:04:00</td>\n",
       "      <td>2015-01-02</td>\n",
       "      <td>08:04:00</td>\n",
       "      <td>-1</td>\n",
       "      <td>ON_NewBar</td>\n",
       "      <td>1.207358</td>\n",
       "      <td>1.208821</td>\n",
       "      <td>1.209358</td>\n",
       "      <td>1.209620</td>\n",
       "      <td>1.209755</td>\n",
       "      <td>...</td>\n",
       "      <td>-0.001498</td>\n",
       "      <td>-0.000383</td>\n",
       "      <td>-0.001498</td>\n",
       "      <td>-0.000334</td>\n",
       "      <td>-0.001498</td>\n",
       "      <td>-0.000294</td>\n",
       "      <td>-0.001498</td>\n",
       "      <td>-0.000260</td>\n",
       "      <td>1420185840</td>\n",
       "      <td>NaN</td>\n",
       "    </tr>\n",
       "  </tbody>\n",
       "</table>\n",
       "<p>5 rows × 47 columns</p>\n",
       "</div>"
      ],
      "text/plain": [
       "             DateTime        Date      Time  Ticket Open/Close  BBAND(10)  \\\n",
       "0 2015-01-02 08:00:00  2015-01-02  08:00:00      -1  ON_NewBar   1.209722   \n",
       "1 2015-01-02 08:01:00  2015-01-02  08:01:00      -1  ON_NewBar   1.209193   \n",
       "2 2015-01-02 08:02:00  2015-01-02  08:02:00      -1  ON_NewBar   1.208657   \n",
       "3 2015-01-02 08:03:00  2015-01-02  08:03:00      -1  ON_NewBar   1.208082   \n",
       "4 2015-01-02 08:04:00  2015-01-02  08:04:00      -1  ON_NewBar   1.207358   \n",
       "\n",
       "   BBAND(20)  BBAND(30)  BBAND(40)  BBAND(50)  ...    MACD(14) MAIN  \\\n",
       "0   1.210053   1.210167   1.210231   1.210213  ...        -0.000425   \n",
       "1   1.209771   1.209984   1.210093   1.210109  ...        -0.000757   \n",
       "2   1.209489   1.209802   1.209957   1.210005  ...        -0.001009   \n",
       "3   1.209193   1.209604   1.209807   1.209895  ...        -0.001229   \n",
       "4   1.208821   1.209358   1.209620   1.209755  ...        -0.001498   \n",
       "\n",
       "   MACD(14) SIGNAL  MACD(16) MAIN  MACD(16) SIGNAL  MACD(18) MAIN  \\\n",
       "0        -0.000047      -0.000425        -0.000036      -0.000425   \n",
       "1        -0.000105      -0.000757        -0.000088      -0.000757   \n",
       "2        -0.000180      -0.001009        -0.000154      -0.001009   \n",
       "3        -0.000271      -0.001229        -0.000234      -0.001229   \n",
       "4        -0.000383      -0.001498        -0.000334      -0.001498   \n",
       "\n",
       "   MACD(18) SIGNAL  MACD(20) MAIN  MACD(20) SIGNAL  DateTime_sec  Trend  \n",
       "0        -0.000026      -0.000425        -0.000016    1420185600    NaN  \n",
       "1        -0.000073      -0.000757        -0.000059    1420185660    NaN  \n",
       "2        -0.000132      -0.001009        -0.000113    1420185720    NaN  \n",
       "3        -0.000204      -0.001229        -0.000179    1420185780    NaN  \n",
       "4        -0.000294      -0.001498        -0.000260    1420185840    NaN  \n",
       "\n",
       "[5 rows x 47 columns]"
      ]
     },
     "execution_count": 7,
     "metadata": {},
     "output_type": "execute_result"
    }
   ],
   "source": [
    "df_Ind.head()"
   ]
  },
  {
   "cell_type": "code",
   "execution_count": 19,
   "metadata": {
    "collapsed": true
   },
   "outputs": [],
   "source": [
    "rolling_window = 7\n",
    "df_Ind['bband100_std'] = pd.rolling_std(df_Ind['BBAND(100)'], rolling_window)\n",
    "df_Ind['macd12main_std'] = pd.rolling_std(df_Ind['MACD(12) MAIN'], rolling_window)\n",
    "df_Ind['macd2signal_std'] = pd.rolling_std(df_Ind['MACD(2) SIGNAL'], rolling_window)\n",
    "df_Ind['macd10signal_std'] = pd.rolling_std(df_Ind['MACD(10) SIGNAL'], rolling_window)\n",
    "df_Ind['macd12signal_std'] = pd.rolling_std(df_Ind['MACD(12) SIGNAL'], rolling_window)\n",
    "df_Ind['macd20signal_std'] = pd.rolling_std(df_Ind['MACD(20) SIGNAL'], rolling_window)"
   ]
  },
  {
   "cell_type": "code",
   "execution_count": 33,
   "metadata": {
    "collapsed": false
   },
   "outputs": [],
   "source": [
    "gain_merged = pd.merge(gain, df_Ind[['DateTime', 'BBAND(100)', 'MACD(12) MAIN', 'MACD(10) SIGNAL',\n",
    "                                'bband100_std', 'macd12main_std', 'macd10signal_std']], on='DateTime', how='inner')\n",
    "\n",
    "loss_merged = pd.merge(loss, df_Ind[['DateTime', 'BBAND(100)', 'MACD(12) MAIN', 'MACD(10) SIGNAL',\n",
    "                                'bband100_std', 'macd12main_std', 'macd10signal_std']], on='DateTime', how='inner')"
   ]
  },
  {
   "cell_type": "code",
   "execution_count": 35,
   "metadata": {
    "collapsed": false
   },
   "outputs": [],
   "source": [
    "gain_summary = gain_merged.groupby(['Trend']).mean()[['bband100_std', 'macd12main_std', 'macd10signal_std']]\n",
    "loss_summary = loss_merged.groupby(['Trend']).mean()[['bband100_std', 'macd12main_std', 'macd10signal_std']]"
   ]
  },
  {
   "cell_type": "code",
   "execution_count": 47,
   "metadata": {
    "collapsed": false
   },
   "outputs": [
    {
     "data": {
      "text/html": [
       "<div>\n",
       "<table border=\"1\" class=\"dataframe\">\n",
       "  <thead>\n",
       "    <tr style=\"text-align: right;\">\n",
       "      <th></th>\n",
       "      <th>bband100_std</th>\n",
       "      <th>macd12main_std</th>\n",
       "      <th>macd10signal_std</th>\n",
       "    </tr>\n",
       "    <tr>\n",
       "      <th>Trend</th>\n",
       "      <th></th>\n",
       "      <th></th>\n",
       "      <th></th>\n",
       "    </tr>\n",
       "  </thead>\n",
       "  <tbody>\n",
       "    <tr>\n",
       "      <th>DOWN1</th>\n",
       "      <td>0.000038</td>\n",
       "      <td>0.000072</td>\n",
       "      <td>0.000042</td>\n",
       "    </tr>\n",
       "    <tr>\n",
       "      <th>DOWN2</th>\n",
       "      <td>0.000035</td>\n",
       "      <td>0.000081</td>\n",
       "      <td>0.000067</td>\n",
       "    </tr>\n",
       "    <tr>\n",
       "      <th>DOWN3</th>\n",
       "      <td>0.000037</td>\n",
       "      <td>0.000082</td>\n",
       "      <td>0.000044</td>\n",
       "    </tr>\n",
       "    <tr>\n",
       "      <th>DOWN4</th>\n",
       "      <td>0.000034</td>\n",
       "      <td>0.000111</td>\n",
       "      <td>0.000052</td>\n",
       "    </tr>\n",
       "    <tr>\n",
       "      <th>DOWN5</th>\n",
       "      <td>0.000073</td>\n",
       "      <td>0.000111</td>\n",
       "      <td>0.000081</td>\n",
       "    </tr>\n",
       "    <tr>\n",
       "      <th>FLAT1</th>\n",
       "      <td>0.000068</td>\n",
       "      <td>0.000127</td>\n",
       "      <td>0.000088</td>\n",
       "    </tr>\n",
       "    <tr>\n",
       "      <th>FLAT2</th>\n",
       "      <td>0.000057</td>\n",
       "      <td>0.000118</td>\n",
       "      <td>0.000068</td>\n",
       "    </tr>\n",
       "    <tr>\n",
       "      <th>FLAT3</th>\n",
       "      <td>0.000100</td>\n",
       "      <td>0.000084</td>\n",
       "      <td>0.000071</td>\n",
       "    </tr>\n",
       "    <tr>\n",
       "      <th>UP1</th>\n",
       "      <td>0.000063</td>\n",
       "      <td>0.000069</td>\n",
       "      <td>0.000037</td>\n",
       "    </tr>\n",
       "    <tr>\n",
       "      <th>UP2</th>\n",
       "      <td>0.000041</td>\n",
       "      <td>0.000092</td>\n",
       "      <td>0.000058</td>\n",
       "    </tr>\n",
       "    <tr>\n",
       "      <th>UP3</th>\n",
       "      <td>0.000055</td>\n",
       "      <td>0.000077</td>\n",
       "      <td>0.000042</td>\n",
       "    </tr>\n",
       "    <tr>\n",
       "      <th>UP4</th>\n",
       "      <td>0.000057</td>\n",
       "      <td>0.000095</td>\n",
       "      <td>0.000047</td>\n",
       "    </tr>\n",
       "    <tr>\n",
       "      <th>UP6</th>\n",
       "      <td>0.000044</td>\n",
       "      <td>0.000074</td>\n",
       "      <td>0.000029</td>\n",
       "    </tr>\n",
       "  </tbody>\n",
       "</table>\n",
       "</div>"
      ],
      "text/plain": [
       "       bband100_std  macd12main_std  macd10signal_std\n",
       "Trend                                                \n",
       "DOWN1      0.000038        0.000072          0.000042\n",
       "DOWN2      0.000035        0.000081          0.000067\n",
       "DOWN3      0.000037        0.000082          0.000044\n",
       "DOWN4      0.000034        0.000111          0.000052\n",
       "DOWN5      0.000073        0.000111          0.000081\n",
       "FLAT1      0.000068        0.000127          0.000088\n",
       "FLAT2      0.000057        0.000118          0.000068\n",
       "FLAT3      0.000100        0.000084          0.000071\n",
       "UP1        0.000063        0.000069          0.000037\n",
       "UP2        0.000041        0.000092          0.000058\n",
       "UP3        0.000055        0.000077          0.000042\n",
       "UP4        0.000057        0.000095          0.000047\n",
       "UP6        0.000044        0.000074          0.000029"
      ]
     },
     "execution_count": 47,
     "metadata": {},
     "output_type": "execute_result"
    }
   ],
   "source": [
    "gain_summary"
   ]
  },
  {
   "cell_type": "code",
   "execution_count": 69,
   "metadata": {
    "collapsed": false
   },
   "outputs": [],
   "source": [
    "constant_df = pd.DataFrame ({'Trend': ['DOWN1', 'DOWN2', 'DOWN3', 'DOWN4', 'DOWN5', 'FLAT1', 'FLAT2', 'FLAT3', 'UP1',\n",
    "               'UP2', 'UP3', 'UP4', 'UP6']})\n",
    "\n",
    "#Gain Summary Chart\n",
    "constant_df['const_val1'] = .00006\n",
    "constant_df['const_val2'] = .000075\n",
    "\n",
    "gain_target = pd.merge(gain_summary.reset_index(), constant_df, how='outer')\n",
    "ax_gain = gain_target[['Trend', 'const_val1', 'const_val2']].plot(x='Trend', linestyle='-', marker=None, color='grey')\n",
    "gain_target[['Trend', 'bband100_std', 'macd12main_std', 'macd10signal_std']].plot(x='Trend', kind='bar', ax=ax_gain)\n",
    "plt.title('Gain Summary')\n",
    "\n",
    "\n",
    "#Loss Summary chart\n",
    "constant_df['const_val1'] = .00002\n",
    "loss_target = pd.merge(loss_summary.reset_index(), constant_df, how='outer')\n",
    "ax_loss = loss_target[['Trend', 'const_val1']].plot(x='Trend', linestyle='-', marker=None, color='grey')\n",
    "loss_target[['Trend', 'bband100_std', 'macd12main_std', 'macd10signal_std']].plot(x='Trend', kind='bar', ax=ax_loss)\n",
    "plt.title('Loss Summary')\n",
    "\n",
    "plt.show()\n"
   ]
  },
  {
   "cell_type": "code",
   "execution_count": 70,
   "metadata": {
    "collapsed": false
   },
   "outputs": [
    {
     "data": {
      "text/html": [
       "<div>\n",
       "<table border=\"1\" class=\"dataframe\">\n",
       "  <thead>\n",
       "    <tr style=\"text-align: right;\">\n",
       "      <th></th>\n",
       "      <th>bband100_std</th>\n",
       "      <th>macd12main_std</th>\n",
       "      <th>macd10signal_std</th>\n",
       "    </tr>\n",
       "  </thead>\n",
       "  <tbody>\n",
       "    <tr>\n",
       "      <th>count</th>\n",
       "      <td>13.000000</td>\n",
       "      <td>13.000000</td>\n",
       "      <td>13.000000</td>\n",
       "    </tr>\n",
       "    <tr>\n",
       "      <th>mean</th>\n",
       "      <td>0.000054</td>\n",
       "      <td>0.000092</td>\n",
       "      <td>0.000056</td>\n",
       "    </tr>\n",
       "    <tr>\n",
       "      <th>std</th>\n",
       "      <td>0.000019</td>\n",
       "      <td>0.000019</td>\n",
       "      <td>0.000018</td>\n",
       "    </tr>\n",
       "    <tr>\n",
       "      <th>min</th>\n",
       "      <td>0.000034</td>\n",
       "      <td>0.000069</td>\n",
       "      <td>0.000029</td>\n",
       "    </tr>\n",
       "    <tr>\n",
       "      <th>25%</th>\n",
       "      <td>0.000038</td>\n",
       "      <td>0.000077</td>\n",
       "      <td>0.000042</td>\n",
       "    </tr>\n",
       "    <tr>\n",
       "      <th>50%</th>\n",
       "      <td>0.000055</td>\n",
       "      <td>0.000084</td>\n",
       "      <td>0.000052</td>\n",
       "    </tr>\n",
       "    <tr>\n",
       "      <th>75%</th>\n",
       "      <td>0.000063</td>\n",
       "      <td>0.000111</td>\n",
       "      <td>0.000068</td>\n",
       "    </tr>\n",
       "    <tr>\n",
       "      <th>max</th>\n",
       "      <td>0.000100</td>\n",
       "      <td>0.000127</td>\n",
       "      <td>0.000088</td>\n",
       "    </tr>\n",
       "  </tbody>\n",
       "</table>\n",
       "</div>"
      ],
      "text/plain": [
       "       bband100_std  macd12main_std  macd10signal_std\n",
       "count     13.000000       13.000000         13.000000\n",
       "mean       0.000054        0.000092          0.000056\n",
       "std        0.000019        0.000019          0.000018\n",
       "min        0.000034        0.000069          0.000029\n",
       "25%        0.000038        0.000077          0.000042\n",
       "50%        0.000055        0.000084          0.000052\n",
       "75%        0.000063        0.000111          0.000068\n",
       "max        0.000100        0.000127          0.000088"
      ]
     },
     "execution_count": 70,
     "metadata": {},
     "output_type": "execute_result"
    }
   ],
   "source": [
    "gain_summary.describe()"
   ]
  },
  {
   "cell_type": "code",
   "execution_count": 71,
   "metadata": {
    "collapsed": false
   },
   "outputs": [
    {
     "data": {
      "text/html": [
       "<div>\n",
       "<table border=\"1\" class=\"dataframe\">\n",
       "  <thead>\n",
       "    <tr style=\"text-align: right;\">\n",
       "      <th></th>\n",
       "      <th>bband100_std</th>\n",
       "      <th>macd12main_std</th>\n",
       "      <th>macd10signal_std</th>\n",
       "    </tr>\n",
       "  </thead>\n",
       "  <tbody>\n",
       "    <tr>\n",
       "      <th>count</th>\n",
       "      <td>13.000000</td>\n",
       "      <td>13.000000</td>\n",
       "      <td>13.000000</td>\n",
       "    </tr>\n",
       "    <tr>\n",
       "      <th>mean</th>\n",
       "      <td>0.000049</td>\n",
       "      <td>0.000092</td>\n",
       "      <td>0.000046</td>\n",
       "    </tr>\n",
       "    <tr>\n",
       "      <th>std</th>\n",
       "      <td>0.000014</td>\n",
       "      <td>0.000020</td>\n",
       "      <td>0.000015</td>\n",
       "    </tr>\n",
       "    <tr>\n",
       "      <th>min</th>\n",
       "      <td>0.000025</td>\n",
       "      <td>0.000063</td>\n",
       "      <td>0.000029</td>\n",
       "    </tr>\n",
       "    <tr>\n",
       "      <th>25%</th>\n",
       "      <td>0.000043</td>\n",
       "      <td>0.000075</td>\n",
       "      <td>0.000035</td>\n",
       "    </tr>\n",
       "    <tr>\n",
       "      <th>50%</th>\n",
       "      <td>0.000050</td>\n",
       "      <td>0.000099</td>\n",
       "      <td>0.000041</td>\n",
       "    </tr>\n",
       "    <tr>\n",
       "      <th>75%</th>\n",
       "      <td>0.000054</td>\n",
       "      <td>0.000107</td>\n",
       "      <td>0.000050</td>\n",
       "    </tr>\n",
       "    <tr>\n",
       "      <th>max</th>\n",
       "      <td>0.000075</td>\n",
       "      <td>0.000126</td>\n",
       "      <td>0.000077</td>\n",
       "    </tr>\n",
       "  </tbody>\n",
       "</table>\n",
       "</div>"
      ],
      "text/plain": [
       "       bband100_std  macd12main_std  macd10signal_std\n",
       "count     13.000000       13.000000         13.000000\n",
       "mean       0.000049        0.000092          0.000046\n",
       "std        0.000014        0.000020          0.000015\n",
       "min        0.000025        0.000063          0.000029\n",
       "25%        0.000043        0.000075          0.000035\n",
       "50%        0.000050        0.000099          0.000041\n",
       "75%        0.000054        0.000107          0.000050\n",
       "max        0.000075        0.000126          0.000077"
      ]
     },
     "execution_count": 71,
     "metadata": {},
     "output_type": "execute_result"
    }
   ],
   "source": [
    "loss_summary.describe()"
   ]
  },
  {
   "cell_type": "code",
   "execution_count": 84,
   "metadata": {
    "collapsed": false
   },
   "outputs": [
    {
     "data": {
      "text/plain": [
       "55"
      ]
     },
     "execution_count": 84,
     "metadata": {},
     "output_type": "execute_result"
    }
   ],
   "source": [
    "len(gain_merged[(gain_merged['macd10signal_std'] > 0.000068)])"
   ]
  },
  {
   "cell_type": "code",
   "execution_count": 83,
   "metadata": {
    "collapsed": false
   },
   "outputs": [
    {
     "data": {
      "text/plain": [
       "24"
      ]
     },
     "execution_count": 83,
     "metadata": {},
     "output_type": "execute_result"
    }
   ],
   "source": [
    "len(loss_merged[(loss_merged['macd10signal_std'] > 0.000068)])"
   ]
  },
  {
   "cell_type": "code",
   "execution_count": null,
   "metadata": {
    "collapsed": true
   },
   "outputs": [],
   "source": []
  }
 ],
 "metadata": {
  "kernelspec": {
   "display_name": "Python 3",
   "language": "python",
   "name": "python3"
  },
  "language_info": {
   "codemirror_mode": {
    "name": "ipython",
    "version": 3
   },
   "file_extension": ".py",
   "mimetype": "text/x-python",
   "name": "python",
   "nbconvert_exporter": "python",
   "pygments_lexer": "ipython3",
   "version": "3.5.1"
  }
 },
 "nbformat": 4,
 "nbformat_minor": 0
}
