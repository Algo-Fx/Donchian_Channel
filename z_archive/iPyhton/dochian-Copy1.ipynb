{
 "cells": [
  {
   "cell_type": "code",
   "execution_count": 32,
   "metadata": {
    "collapsed": false
   },
   "outputs": [
    {
     "name": "stdout",
     "output_type": "stream",
     "text": [
      "system:  3.5.1 |Anaconda 2.4.1 (64-bit)| (default, Dec  7 2015, 15:00:12) [MSC v.1900 64 bit (AMD64)]\n",
      "numpy:  1.10.1\n",
      "panda:  0.17.1\n"
     ]
    }
   ],
   "source": [
    "import sys\n",
    "import numpy as np\n",
    "import pandas as pd\n",
    "import matplotlib.pyplot as plt\n",
    "import datetime as DT\n",
    "print('system: ', sys.version)\n",
    "print('numpy: ', np.__version__)\n",
    "print('panda: ', pd.__version__)"
   ]
  },
  {
   "cell_type": "code",
   "execution_count": 2,
   "metadata": {
    "collapsed": false
   },
   "outputs": [],
   "source": [
    "# read in Indicator data into dataframe\n",
    "parser = lambda date: pd.datetime.strptime(date, '%Y.%m.%d %H:%M:%S')\n",
    "df_Ind = pd.read_csv('../data/150001_Indicators.csv', parse_dates=[0], date_parser=parser)\n",
    "#rename 'Date' column to 'DateTime' and split apart\n",
    "df_Ind.rename(columns = {'Date': 'DateTime'}, inplace=True)\n",
    "temp = pd.DatetimeIndex(df_Ind['DateTime'])\n",
    "df_Ind['Date'] = temp.date\n",
    "df_Ind['Time'] = temp.time"
   ]
  },
  {
   "cell_type": "code",
   "execution_count": 3,
   "metadata": {
    "collapsed": false
   },
   "outputs": [
    {
     "data": {
      "text/html": [
       "<div>\n",
       "<table border=\"1\" class=\"dataframe\">\n",
       "  <thead>\n",
       "    <tr style=\"text-align: right;\">\n",
       "      <th></th>\n",
       "      <th>DateTime</th>\n",
       "      <th>Date</th>\n",
       "      <th>Time</th>\n",
       "      <th>Ticket</th>\n",
       "      <th>Open/Close</th>\n",
       "      <th>BBAND(10)</th>\n",
       "      <th>BBAND(20)</th>\n",
       "      <th>BBAND(30)</th>\n",
       "      <th>BBAND(40)</th>\n",
       "      <th>BBAND(50)</th>\n",
       "      <th>...</th>\n",
       "      <th>MACD(12) MAIN</th>\n",
       "      <th>MACD(12) SIGNAL</th>\n",
       "      <th>MACD(14) MAIN</th>\n",
       "      <th>MACD(14) SIGNAL</th>\n",
       "      <th>MACD(16) MAIN</th>\n",
       "      <th>MACD(16) SIGNAL</th>\n",
       "      <th>MACD(18) MAIN</th>\n",
       "      <th>MACD(18) SIGNAL</th>\n",
       "      <th>MACD(20) MAIN</th>\n",
       "      <th>MACD(20) SIGNAL</th>\n",
       "    </tr>\n",
       "  </thead>\n",
       "  <tbody>\n",
       "    <tr>\n",
       "      <th>0</th>\n",
       "      <td>2015-01-02 08:00:00</td>\n",
       "      <td>2015-01-02</td>\n",
       "      <td>08:00:00</td>\n",
       "      <td>-1</td>\n",
       "      <td>ON_NewBar</td>\n",
       "      <td>1.209722</td>\n",
       "      <td>1.210053</td>\n",
       "      <td>1.210167</td>\n",
       "      <td>1.210231</td>\n",
       "      <td>1.210213</td>\n",
       "      <td>...</td>\n",
       "      <td>-0.000425</td>\n",
       "      <td>-0.000060</td>\n",
       "      <td>-0.000425</td>\n",
       "      <td>-0.000047</td>\n",
       "      <td>-0.000425</td>\n",
       "      <td>-0.000036</td>\n",
       "      <td>-0.000425</td>\n",
       "      <td>-0.000026</td>\n",
       "      <td>-0.000425</td>\n",
       "      <td>-0.000016</td>\n",
       "    </tr>\n",
       "    <tr>\n",
       "      <th>1</th>\n",
       "      <td>2015-01-02 08:01:00</td>\n",
       "      <td>2015-01-02</td>\n",
       "      <td>08:01:00</td>\n",
       "      <td>-1</td>\n",
       "      <td>ON_NewBar</td>\n",
       "      <td>1.209193</td>\n",
       "      <td>1.209771</td>\n",
       "      <td>1.209984</td>\n",
       "      <td>1.210093</td>\n",
       "      <td>1.210109</td>\n",
       "      <td>...</td>\n",
       "      <td>-0.000757</td>\n",
       "      <td>-0.000126</td>\n",
       "      <td>-0.000757</td>\n",
       "      <td>-0.000105</td>\n",
       "      <td>-0.000757</td>\n",
       "      <td>-0.000088</td>\n",
       "      <td>-0.000757</td>\n",
       "      <td>-0.000073</td>\n",
       "      <td>-0.000757</td>\n",
       "      <td>-0.000059</td>\n",
       "    </tr>\n",
       "    <tr>\n",
       "      <th>2</th>\n",
       "      <td>2015-01-02 08:02:00</td>\n",
       "      <td>2015-01-02</td>\n",
       "      <td>08:02:00</td>\n",
       "      <td>-1</td>\n",
       "      <td>ON_NewBar</td>\n",
       "      <td>1.208657</td>\n",
       "      <td>1.209489</td>\n",
       "      <td>1.209802</td>\n",
       "      <td>1.209957</td>\n",
       "      <td>1.210005</td>\n",
       "      <td>...</td>\n",
       "      <td>-0.001009</td>\n",
       "      <td>-0.000211</td>\n",
       "      <td>-0.001009</td>\n",
       "      <td>-0.000180</td>\n",
       "      <td>-0.001009</td>\n",
       "      <td>-0.000154</td>\n",
       "      <td>-0.001009</td>\n",
       "      <td>-0.000132</td>\n",
       "      <td>-0.001009</td>\n",
       "      <td>-0.000113</td>\n",
       "    </tr>\n",
       "    <tr>\n",
       "      <th>3</th>\n",
       "      <td>2015-01-02 08:03:00</td>\n",
       "      <td>2015-01-02</td>\n",
       "      <td>08:03:00</td>\n",
       "      <td>-1</td>\n",
       "      <td>ON_NewBar</td>\n",
       "      <td>1.208082</td>\n",
       "      <td>1.209193</td>\n",
       "      <td>1.209604</td>\n",
       "      <td>1.209807</td>\n",
       "      <td>1.209895</td>\n",
       "      <td>...</td>\n",
       "      <td>-0.001229</td>\n",
       "      <td>-0.000315</td>\n",
       "      <td>-0.001229</td>\n",
       "      <td>-0.000271</td>\n",
       "      <td>-0.001229</td>\n",
       "      <td>-0.000234</td>\n",
       "      <td>-0.001229</td>\n",
       "      <td>-0.000204</td>\n",
       "      <td>-0.001229</td>\n",
       "      <td>-0.000179</td>\n",
       "    </tr>\n",
       "    <tr>\n",
       "      <th>4</th>\n",
       "      <td>2015-01-02 08:04:00</td>\n",
       "      <td>2015-01-02</td>\n",
       "      <td>08:04:00</td>\n",
       "      <td>-1</td>\n",
       "      <td>ON_NewBar</td>\n",
       "      <td>1.207358</td>\n",
       "      <td>1.208821</td>\n",
       "      <td>1.209358</td>\n",
       "      <td>1.209620</td>\n",
       "      <td>1.209755</td>\n",
       "      <td>...</td>\n",
       "      <td>-0.001498</td>\n",
       "      <td>-0.000444</td>\n",
       "      <td>-0.001498</td>\n",
       "      <td>-0.000383</td>\n",
       "      <td>-0.001498</td>\n",
       "      <td>-0.000334</td>\n",
       "      <td>-0.001498</td>\n",
       "      <td>-0.000294</td>\n",
       "      <td>-0.001498</td>\n",
       "      <td>-0.000260</td>\n",
       "    </tr>\n",
       "  </tbody>\n",
       "</table>\n",
       "<p>5 rows × 45 columns</p>\n",
       "</div>"
      ],
      "text/plain": [
       "             DateTime        Date      Time  Ticket Open/Close  BBAND(10)  \\\n",
       "0 2015-01-02 08:00:00  2015-01-02  08:00:00      -1  ON_NewBar   1.209722   \n",
       "1 2015-01-02 08:01:00  2015-01-02  08:01:00      -1  ON_NewBar   1.209193   \n",
       "2 2015-01-02 08:02:00  2015-01-02  08:02:00      -1  ON_NewBar   1.208657   \n",
       "3 2015-01-02 08:03:00  2015-01-02  08:03:00      -1  ON_NewBar   1.208082   \n",
       "4 2015-01-02 08:04:00  2015-01-02  08:04:00      -1  ON_NewBar   1.207358   \n",
       "\n",
       "   BBAND(20)  BBAND(30)  BBAND(40)  BBAND(50)       ...         MACD(12) MAIN  \\\n",
       "0   1.210053   1.210167   1.210231   1.210213       ...             -0.000425   \n",
       "1   1.209771   1.209984   1.210093   1.210109       ...             -0.000757   \n",
       "2   1.209489   1.209802   1.209957   1.210005       ...             -0.001009   \n",
       "3   1.209193   1.209604   1.209807   1.209895       ...             -0.001229   \n",
       "4   1.208821   1.209358   1.209620   1.209755       ...             -0.001498   \n",
       "\n",
       "   MACD(12) SIGNAL  MACD(14) MAIN  MACD(14) SIGNAL  MACD(16) MAIN  \\\n",
       "0        -0.000060      -0.000425        -0.000047      -0.000425   \n",
       "1        -0.000126      -0.000757        -0.000105      -0.000757   \n",
       "2        -0.000211      -0.001009        -0.000180      -0.001009   \n",
       "3        -0.000315      -0.001229        -0.000271      -0.001229   \n",
       "4        -0.000444      -0.001498        -0.000383      -0.001498   \n",
       "\n",
       "   MACD(16) SIGNAL  MACD(18) MAIN  MACD(18) SIGNAL  MACD(20) MAIN  \\\n",
       "0        -0.000036      -0.000425        -0.000026      -0.000425   \n",
       "1        -0.000088      -0.000757        -0.000073      -0.000757   \n",
       "2        -0.000154      -0.001009        -0.000132      -0.001009   \n",
       "3        -0.000234      -0.001229        -0.000204      -0.001229   \n",
       "4        -0.000334      -0.001498        -0.000294      -0.001498   \n",
       "\n",
       "   MACD(20) SIGNAL  \n",
       "0        -0.000016  \n",
       "1        -0.000059  \n",
       "2        -0.000113  \n",
       "3        -0.000179  \n",
       "4        -0.000260  \n",
       "\n",
       "[5 rows x 45 columns]"
      ]
     },
     "execution_count": 3,
     "metadata": {},
     "output_type": "execute_result"
    }
   ],
   "source": [
    "# rearange to put 'Date' and 'Time' up front behind 'DateTime'\n",
    "cols = df_Ind.columns.tolist()\n",
    "cols = cols[0:1] + cols[-2:] + cols[1:-2]\n",
    "#cols\n",
    "df_Ind = df_Ind[cols]\n",
    "df_Ind.head()"
   ]
  },
  {
   "cell_type": "code",
   "execution_count": 5,
   "metadata": {
    "collapsed": false
   },
   "outputs": [],
   "source": [
    "# read in order data\n",
    "df_ord = pd.read_csv('../data/150001_Orders.csv', parse_dates=[1], date_parser=parser)"
   ]
  },
  {
   "cell_type": "code",
   "execution_count": 6,
   "metadata": {
    "collapsed": true
   },
   "outputs": [],
   "source": [
    "#rename 'Date' column to 'DateTime' and split apart\n",
    "df_ord.rename(columns = {'Open Time': 'DateTime'}, inplace=True)\n",
    "temp = pd.DatetimeIndex(df_ord['DateTime'])\n",
    "df_ord['Date'] = temp.date\n",
    "df_ord['Time'] = temp.time"
   ]
  },
  {
   "cell_type": "markdown",
   "metadata": {},
   "source": [
    "import decimal\n",
    "df_ord['DateTime_Sec'] = df_ord.DateTime.map(lambda x: (x-DT.datetime(1970,1,1)).total_seconds())"
   ]
  },
  {
   "cell_type": "code",
   "execution_count": 7,
   "metadata": {
    "collapsed": false
   },
   "outputs": [],
   "source": [
    "# rearange to put 'Date' and 'Time' up front behind 'DateTime'\n",
    "cols = df_ord.columns.tolist()\n",
    "cols = cols[1:2] + cols[-2:] + cols[0:1] + cols[2:-2]\n",
    "#cols\n",
    "df_ord = df_ord[cols]"
   ]
  },
  {
   "cell_type": "markdown",
   "metadata": {
    "collapsed": true
   },
   "source": [
    "#Convert 'DateTime' to timestamp\n",
    "df_ord['DateTime'] = df_ord.DateTime.map(lambda x: DT.datetime.strptime(x, '%Y.%m.%d %H:%M:%S'))"
   ]
  },
  {
   "cell_type": "code",
   "execution_count": 8,
   "metadata": {
    "collapsed": false
   },
   "outputs": [
    {
     "data": {
      "text/html": [
       "<div>\n",
       "<table border=\"1\" class=\"dataframe\">\n",
       "  <thead>\n",
       "    <tr style=\"text-align: right;\">\n",
       "      <th></th>\n",
       "      <th>DateTime</th>\n",
       "      <th>Date</th>\n",
       "      <th>Time</th>\n",
       "      <th>Ticket</th>\n",
       "      <th>Type</th>\n",
       "      <th>Lots</th>\n",
       "      <th>Symbol</th>\n",
       "      <th>Open Price</th>\n",
       "      <th>StopLoss</th>\n",
       "      <th>TakeProfit</th>\n",
       "      <th>Close Time</th>\n",
       "      <th>Close Price</th>\n",
       "      <th>Commission</th>\n",
       "      <th>Swap</th>\n",
       "      <th>Profit</th>\n",
       "      <th>Comment</th>\n",
       "      <th>MagicNumber</th>\n",
       "      <th>Expiration</th>\n",
       "    </tr>\n",
       "  </thead>\n",
       "  <tbody>\n",
       "    <tr>\n",
       "      <th>0</th>\n",
       "      <td>2015-01-04 23:41:30</td>\n",
       "      <td>2015-01-04</td>\n",
       "      <td>23:41:30</td>\n",
       "      <td>1</td>\n",
       "      <td>OP_SELL</td>\n",
       "      <td>0.1</td>\n",
       "      <td>EURUSD</td>\n",
       "      <td>1.19540</td>\n",
       "      <td>1.19940</td>\n",
       "      <td>1.19040</td>\n",
       "      <td>2015.01.05 00:15:40</td>\n",
       "      <td>1.19360</td>\n",
       "      <td>0</td>\n",
       "      <td>-0.15</td>\n",
       "      <td>18.0</td>\n",
       "      <td>Sell</td>\n",
       "      <td>150001</td>\n",
       "      <td>1970.01.01 00:00:00</td>\n",
       "    </tr>\n",
       "    <tr>\n",
       "      <th>1</th>\n",
       "      <td>2015-01-06 09:51:40</td>\n",
       "      <td>2015-01-06</td>\n",
       "      <td>09:51:40</td>\n",
       "      <td>2</td>\n",
       "      <td>OP_SELL</td>\n",
       "      <td>0.1</td>\n",
       "      <td>EURUSD</td>\n",
       "      <td>1.19392</td>\n",
       "      <td>1.19792</td>\n",
       "      <td>1.18892</td>\n",
       "      <td>2015.01.06 10:20:40</td>\n",
       "      <td>1.19293</td>\n",
       "      <td>0</td>\n",
       "      <td>0.00</td>\n",
       "      <td>9.9</td>\n",
       "      <td>Sell</td>\n",
       "      <td>150001</td>\n",
       "      <td>1970.01.01 00:00:00</td>\n",
       "    </tr>\n",
       "    <tr>\n",
       "      <th>2</th>\n",
       "      <td>2015-01-06 12:04:59</td>\n",
       "      <td>2015-01-06</td>\n",
       "      <td>12:04:59</td>\n",
       "      <td>3</td>\n",
       "      <td>OP_SELL</td>\n",
       "      <td>0.1</td>\n",
       "      <td>EURUSD</td>\n",
       "      <td>1.19122</td>\n",
       "      <td>1.19522</td>\n",
       "      <td>1.18622</td>\n",
       "      <td>2015.01.06 12:16:59</td>\n",
       "      <td>1.18954</td>\n",
       "      <td>0</td>\n",
       "      <td>0.00</td>\n",
       "      <td>16.8</td>\n",
       "      <td>Sell</td>\n",
       "      <td>150001</td>\n",
       "      <td>1970.01.01 00:00:00</td>\n",
       "    </tr>\n",
       "    <tr>\n",
       "      <th>3</th>\n",
       "      <td>2015-01-07 13:20:40</td>\n",
       "      <td>2015-01-07</td>\n",
       "      <td>13:20:40</td>\n",
       "      <td>4</td>\n",
       "      <td>OP_SELL</td>\n",
       "      <td>0.1</td>\n",
       "      <td>EURUSD</td>\n",
       "      <td>1.18432</td>\n",
       "      <td>1.18832</td>\n",
       "      <td>1.17932</td>\n",
       "      <td>2015.01.07 13:52:40</td>\n",
       "      <td>1.18318</td>\n",
       "      <td>0</td>\n",
       "      <td>0.00</td>\n",
       "      <td>11.4</td>\n",
       "      <td>Sell</td>\n",
       "      <td>150001</td>\n",
       "      <td>1970.01.01 00:00:00</td>\n",
       "    </tr>\n",
       "    <tr>\n",
       "      <th>4</th>\n",
       "      <td>2015-01-08 04:07:00</td>\n",
       "      <td>2015-01-08</td>\n",
       "      <td>04:07:00</td>\n",
       "      <td>5</td>\n",
       "      <td>OP_BUY</td>\n",
       "      <td>0.1</td>\n",
       "      <td>EURUSD</td>\n",
       "      <td>1.18198</td>\n",
       "      <td>1.17798</td>\n",
       "      <td>1.18698</td>\n",
       "      <td>2015.01.08 11:02:18</td>\n",
       "      <td>1.17798</td>\n",
       "      <td>0</td>\n",
       "      <td>0.00</td>\n",
       "      <td>-40.0</td>\n",
       "      <td>Buy[sl]</td>\n",
       "      <td>150001</td>\n",
       "      <td>1970.01.01 00:00:00</td>\n",
       "    </tr>\n",
       "  </tbody>\n",
       "</table>\n",
       "</div>"
      ],
      "text/plain": [
       "             DateTime        Date      Time  Ticket     Type  Lots  Symbol  \\\n",
       "0 2015-01-04 23:41:30  2015-01-04  23:41:30       1  OP_SELL   0.1  EURUSD   \n",
       "1 2015-01-06 09:51:40  2015-01-06  09:51:40       2  OP_SELL   0.1  EURUSD   \n",
       "2 2015-01-06 12:04:59  2015-01-06  12:04:59       3  OP_SELL   0.1  EURUSD   \n",
       "3 2015-01-07 13:20:40  2015-01-07  13:20:40       4  OP_SELL   0.1  EURUSD   \n",
       "4 2015-01-08 04:07:00  2015-01-08  04:07:00       5   OP_BUY   0.1  EURUSD   \n",
       "\n",
       "   Open Price  StopLoss  TakeProfit           Close Time  Close Price  \\\n",
       "0     1.19540   1.19940     1.19040  2015.01.05 00:15:40      1.19360   \n",
       "1     1.19392   1.19792     1.18892  2015.01.06 10:20:40      1.19293   \n",
       "2     1.19122   1.19522     1.18622  2015.01.06 12:16:59      1.18954   \n",
       "3     1.18432   1.18832     1.17932  2015.01.07 13:52:40      1.18318   \n",
       "4     1.18198   1.17798     1.18698  2015.01.08 11:02:18      1.17798   \n",
       "\n",
       "   Commission  Swap  Profit  Comment  MagicNumber           Expiration  \n",
       "0           0 -0.15    18.0     Sell       150001  1970.01.01 00:00:00  \n",
       "1           0  0.00     9.9     Sell       150001  1970.01.01 00:00:00  \n",
       "2           0  0.00    16.8     Sell       150001  1970.01.01 00:00:00  \n",
       "3           0  0.00    11.4     Sell       150001  1970.01.01 00:00:00  \n",
       "4           0  0.00   -40.0  Buy[sl]       150001  1970.01.01 00:00:00  "
      ]
     },
     "execution_count": 8,
     "metadata": {},
     "output_type": "execute_result"
    }
   ],
   "source": [
    "df_ord.head()"
   ]
  },
  {
   "cell_type": "code",
   "execution_count": 9,
   "metadata": {
    "collapsed": false
   },
   "outputs": [],
   "source": [
    "# function returns sum of count of number of profit (+1) and loss trades (-1)\n",
    "def rolling_profit_count(dataframe):\n",
    "    count = 0\n",
    "    for profit in dataframe:\n",
    "        if (profit >= 0):\n",
    "            count = count + 1\n",
    "        else:\n",
    "            count = count -1\n",
    "    return count"
   ]
  },
  {
   "cell_type": "code",
   "execution_count": 18,
   "metadata": {
    "collapsed": false
   },
   "outputs": [],
   "source": [
    "# Add Rolling stats to Order DF\n",
    "window = 15\n",
    "df_ord['Roll_Profit_Count'] = pd.rolling_apply(df_ord['Profit'], window, rolling_profit_count,1)\n",
    "df_ord['Roll_Mean'] = pd.rolling_mean(df_ord['Profit'], window)\n",
    "df_ord['Roll_std'] = pd.rolling_std(df_ord['Profit'], window)\n",
    "df_ord['Roll_var'] = pd.rolling_var(df_ord['Profit'], window)"
   ]
  },
  {
   "cell_type": "code",
   "execution_count": 19,
   "metadata": {
    "collapsed": false
   },
   "outputs": [],
   "source": [
    "# plot rolling data, intent was to determine range of UP, DOWN and FLAT for nex step\n",
    "#plt.plot(df_ord['Ticket'], df_ord['Roll_std'])\n",
    "#plt.plot(df_ord['Ticket'], df_ord['Profit'], marker='x', linestyle=':')\n",
    "\n",
    "#plt.show()"
   ]
  },
  {
   "cell_type": "code",
   "execution_count": 20,
   "metadata": {
    "collapsed": false
   },
   "outputs": [],
   "source": [
    "# Create Trend Ranges, based on visual inspection of previous graph, and add Trends to Order dataframe\n",
    "trend_range = [0, 6, 33, 60, 77, 86, 150, 171, 207, 222, 271, 314, 331, 348]\n",
    "trend_labels = ['UP1', 'FLAT1', 'DOWN1', 'UP2', 'DOWN2', 'FLAT2', 'DOWN3', 'UP3', 'DOWN4', 'UP4', \n",
    "               'DOWN5', 'UP6', 'FLAT3']\n",
    "\n",
    "df_ord['Trend'] = pd.cut(df_ord.Ticket, trend_range, labels=trend_labels).astype('category')"
   ]
  },
  {
   "cell_type": "code",
   "execution_count": 22,
   "metadata": {
    "collapsed": false
   },
   "outputs": [
    {
     "data": {
      "text/html": [
       "<div>\n",
       "<table border=\"1\" class=\"dataframe\">\n",
       "  <thead>\n",
       "    <tr style=\"text-align: right;\">\n",
       "      <th></th>\n",
       "      <th>DateTime</th>\n",
       "      <th>Ticket</th>\n",
       "      <th>Profit</th>\n",
       "      <th>Trend</th>\n",
       "      <th>Roll_Profit_Count</th>\n",
       "      <th>Roll_Mean</th>\n",
       "      <th>Roll_std</th>\n",
       "    </tr>\n",
       "  </thead>\n",
       "  <tbody>\n",
       "    <tr>\n",
       "      <th>343</th>\n",
       "      <td>2015-12-14 13:14:24</td>\n",
       "      <td>344</td>\n",
       "      <td>-40</td>\n",
       "      <td>FLAT3</td>\n",
       "      <td>3</td>\n",
       "      <td>-0.853333</td>\n",
       "      <td>27.492515</td>\n",
       "    </tr>\n",
       "    <tr>\n",
       "      <th>344</th>\n",
       "      <td>2015-12-16 08:49:30</td>\n",
       "      <td>345</td>\n",
       "      <td>16</td>\n",
       "      <td>FLAT3</td>\n",
       "      <td>5</td>\n",
       "      <td>0.406667</td>\n",
       "      <td>27.823127</td>\n",
       "    </tr>\n",
       "    <tr>\n",
       "      <th>345</th>\n",
       "      <td>2015-12-16 18:59:05</td>\n",
       "      <td>346</td>\n",
       "      <td>-40</td>\n",
       "      <td>FLAT3</td>\n",
       "      <td>3</td>\n",
       "      <td>-4.906667</td>\n",
       "      <td>27.390078</td>\n",
       "    </tr>\n",
       "    <tr>\n",
       "      <th>346</th>\n",
       "      <td>2015-12-16 20:14:59</td>\n",
       "      <td>347</td>\n",
       "      <td>-40</td>\n",
       "      <td>FLAT3</td>\n",
       "      <td>3</td>\n",
       "      <td>-4.906667</td>\n",
       "      <td>27.390078</td>\n",
       "    </tr>\n",
       "    <tr>\n",
       "      <th>347</th>\n",
       "      <td>2015-12-17 00:01:30</td>\n",
       "      <td>348</td>\n",
       "      <td>16</td>\n",
       "      <td>FLAT3</td>\n",
       "      <td>3</td>\n",
       "      <td>-3.986667</td>\n",
       "      <td>27.873333</td>\n",
       "    </tr>\n",
       "  </tbody>\n",
       "</table>\n",
       "</div>"
      ],
      "text/plain": [
       "               DateTime  Ticket  Profit  Trend  Roll_Profit_Count  Roll_Mean  \\\n",
       "343 2015-12-14 13:14:24     344     -40  FLAT3                  3  -0.853333   \n",
       "344 2015-12-16 08:49:30     345      16  FLAT3                  5   0.406667   \n",
       "345 2015-12-16 18:59:05     346     -40  FLAT3                  3  -4.906667   \n",
       "346 2015-12-16 20:14:59     347     -40  FLAT3                  3  -4.906667   \n",
       "347 2015-12-17 00:01:30     348      16  FLAT3                  3  -3.986667   \n",
       "\n",
       "      Roll_std  \n",
       "343  27.492515  \n",
       "344  27.823127  \n",
       "345  27.390078  \n",
       "346  27.390078  \n",
       "347  27.873333  "
      ]
     },
     "execution_count": 22,
     "metadata": {},
     "output_type": "execute_result"
    }
   ],
   "source": [
    "# Order Dataframe with Trends added\n",
    "df_ord[['DateTime', 'Ticket', 'Profit', 'Trend', 'Roll_Profit_Count', 'Roll_Mean', 'Roll_std']].tail()"
   ]
  },
  {
   "cell_type": "code",
   "execution_count": 37,
   "metadata": {
    "collapsed": true
   },
   "outputs": [],
   "source": [
    "?map"
   ]
  },
  {
   "cell_type": "code",
   "execution_count": 43,
   "metadata": {
    "collapsed": false
   },
   "outputs": [],
   "source": [
    "# function to convert 'DateTime' to seconds\n",
    "seconds = lambda x: (x - DT.datetime(1970, 1, 1)).total_seconds()\n",
    "\n",
    "# Convert Date time in Order DF to seconds and pull that Series out\n",
    "df_ord['DateTime_sec'] = df_ord['DateTime'].apply(seconds)"
   ]
  },
  {
   "cell_type": "code",
   "execution_count": 44,
   "metadata": {
    "collapsed": false
   },
   "outputs": [],
   "source": [
    "# pull 'Times' of trend range changes from order dataframe\n",
    "# i.e. if 'Ticket' is in trend_range list, return the 'DateTime'\n",
    "trend_range_DT = df_ord[df_ord['Ticket'].isin(trend_range)]['DateTime_sec']"
   ]
  },
  {
   "cell_type": "code",
   "execution_count": null,
   "metadata": {
    "collapsed": false
   },
   "outputs": [],
   "source": [
    "# Convert Date time in Indicator DF to seconds and pull that Series out\n",
    "df_Ind['DateTime_sec'] = df_Ind['DateTime'].apply(seconds)"
   ]
  },
  {
   "cell_type": "code",
   "execution_count": 46,
   "metadata": {
    "collapsed": false
   },
   "outputs": [
    {
     "ename": "AttributeError",
     "evalue": "'DataFrame' object has no attribute 'DateTime_sec'",
     "output_type": "error",
     "traceback": [
      "\u001b[1;31m---------------------------------------------------------------------------\u001b[0m",
      "\u001b[1;31mAttributeError\u001b[0m                            Traceback (most recent call last)",
      "\u001b[1;32m<ipython-input-46-a4c6d9eb9f90>\u001b[0m in \u001b[0;36m<module>\u001b[1;34m()\u001b[0m\n\u001b[1;32m----> 1\u001b[1;33m \u001b[0mdf_Ind\u001b[0m\u001b[1;33m[\u001b[0m\u001b[1;34m'Trend'\u001b[0m\u001b[1;33m]\u001b[0m \u001b[1;33m=\u001b[0m \u001b[0mpd\u001b[0m\u001b[1;33m.\u001b[0m\u001b[0mcut\u001b[0m\u001b[1;33m(\u001b[0m\u001b[0mdf_Ind\u001b[0m\u001b[1;33m.\u001b[0m\u001b[0mDateTime_sec\u001b[0m\u001b[1;33m,\u001b[0m \u001b[0mtrend_range_DT\u001b[0m\u001b[1;33m,\u001b[0m \u001b[0mlabels\u001b[0m\u001b[1;33m=\u001b[0m\u001b[0mtrend_labels\u001b[0m\u001b[1;33m)\u001b[0m\u001b[1;33m.\u001b[0m\u001b[0mastype\u001b[0m\u001b[1;33m(\u001b[0m\u001b[1;34m'category'\u001b[0m\u001b[1;33m)\u001b[0m\u001b[1;33m\u001b[0m\u001b[0m\n\u001b[0m",
      "\u001b[1;32mC:\\Users\\kwilliams\\Google Drive\\dev\\python\\Anaconda3\\lib\\site-packages\\pandas\\core\\generic.py\u001b[0m in \u001b[0;36m__getattr__\u001b[1;34m(self, name)\u001b[0m\n\u001b[0;32m   2358\u001b[0m                 \u001b[1;32mreturn\u001b[0m \u001b[0mself\u001b[0m\u001b[1;33m[\u001b[0m\u001b[0mname\u001b[0m\u001b[1;33m]\u001b[0m\u001b[1;33m\u001b[0m\u001b[0m\n\u001b[0;32m   2359\u001b[0m             raise AttributeError(\"'%s' object has no attribute '%s'\" %\n\u001b[1;32m-> 2360\u001b[1;33m                                  (type(self).__name__, name))\n\u001b[0m\u001b[0;32m   2361\u001b[0m \u001b[1;33m\u001b[0m\u001b[0m\n\u001b[0;32m   2362\u001b[0m     \u001b[1;32mdef\u001b[0m \u001b[0m__setattr__\u001b[0m\u001b[1;33m(\u001b[0m\u001b[0mself\u001b[0m\u001b[1;33m,\u001b[0m \u001b[0mname\u001b[0m\u001b[1;33m,\u001b[0m \u001b[0mvalue\u001b[0m\u001b[1;33m)\u001b[0m\u001b[1;33m:\u001b[0m\u001b[1;33m\u001b[0m\u001b[0m\n",
      "\u001b[1;31mAttributeError\u001b[0m: 'DataFrame' object has no attribute 'DateTime_sec'"
     ]
    }
   ],
   "source": [
    "df_Ind['Trend'] = pd.cut(df_Ind.DateTime_sec, trend_range_DT, labels=trend_labels).astype('category')"
   ]
  },
  {
   "cell_type": "markdown",
   "metadata": {},
   "source": [
    "trend_range_DT2 = map(lambda x: DT.datetime.fromtimestamp(float(x)), trend_range_DT)"
   ]
  },
  {
   "cell_type": "markdown",
   "metadata": {},
   "source": [
    "trend_range_DT_Dec = map(lambda x: decimal.Decimal(x), trend_range_DT2)"
   ]
  },
  {
   "cell_type": "markdown",
   "metadata": {},
   "source": [
    "trend_range_DT_Dec"
   ]
  },
  {
   "cell_type": "markdown",
   "metadata": {},
   "source": [
    "--- Confirm data types"
   ]
  },
  {
   "cell_type": "markdown",
   "metadata": {},
   "source": [
    "trend_range_DT_dec"
   ]
  },
  {
   "cell_type": "markdown",
   "metadata": {
    "collapsed": false
   },
   "source": [
    "type(trend_range_DT[0])"
   ]
  },
  {
   "cell_type": "markdown",
   "metadata": {
    "collapsed": false
   },
   "source": [
    "type(df_Ind['DateTime'][0])"
   ]
  },
  {
   "cell_type": "code",
   "execution_count": 140,
   "metadata": {
    "collapsed": false
   },
   "outputs": [
    {
     "ename": "TypeError",
     "evalue": "unsupported type for timedelta days component: Timedelta",
     "output_type": "error",
     "traceback": [
      "\u001b[1;31m---------------------------------------------------------------------------\u001b[0m",
      "\u001b[1;31mTypeError\u001b[0m                                 Traceback (most recent call last)",
      "\u001b[1;32m<ipython-input-140-053bfca85831>\u001b[0m in \u001b[0;36m<module>\u001b[1;34m()\u001b[0m\n\u001b[1;32m----> 1\u001b[1;33m \u001b[0mdf_ord\u001b[0m\u001b[1;33m[\u001b[0m\u001b[1;34m'DateTime_dec'\u001b[0m\u001b[1;33m]\u001b[0m \u001b[1;33m=\u001b[0m \u001b[0mdf_ord\u001b[0m\u001b[1;33m[\u001b[0m\u001b[1;34m'DateTime'\u001b[0m\u001b[1;33m]\u001b[0m\u001b[1;33m.\u001b[0m\u001b[0mmap\u001b[0m\u001b[1;33m(\u001b[0m\u001b[1;32mlambda\u001b[0m \u001b[0mx\u001b[0m\u001b[1;33m:\u001b[0m \u001b[0mDT\u001b[0m\u001b[1;33m.\u001b[0m\u001b[0mtimedelta\u001b[0m\u001b[1;33m(\u001b[0m\u001b[0mx\u001b[0m \u001b[1;33m-\u001b[0m \u001b[0mDT\u001b[0m\u001b[1;33m.\u001b[0m\u001b[0mdatetime\u001b[0m\u001b[1;33m(\u001b[0m\u001b[1;36m1970\u001b[0m\u001b[1;33m,\u001b[0m \u001b[1;36m1\u001b[0m\u001b[1;33m,\u001b[0m \u001b[1;36m1\u001b[0m\u001b[1;33m,\u001b[0m \u001b[1;36m0\u001b[0m\u001b[1;33m,\u001b[0m \u001b[1;36m0\u001b[0m\u001b[1;33m,\u001b[0m \u001b[1;36m0\u001b[0m\u001b[1;33m)\u001b[0m\u001b[1;33m)\u001b[0m\u001b[1;33m)\u001b[0m\u001b[1;33m\u001b[0m\u001b[0m\n\u001b[0m",
      "\u001b[1;32mC:\\Users\\kwilliams\\Google Drive\\dev\\python\\Anaconda3\\lib\\site-packages\\pandas\\core\\series.py\u001b[0m in \u001b[0;36mmap\u001b[1;34m(self, arg, na_action)\u001b[0m\n\u001b[0;32m   2052\u001b[0m                                      index=self.index).__finalize__(self)\n\u001b[0;32m   2053\u001b[0m         \u001b[1;32melse\u001b[0m\u001b[1;33m:\u001b[0m\u001b[1;33m\u001b[0m\u001b[0m\n\u001b[1;32m-> 2054\u001b[1;33m             \u001b[0mmapped\u001b[0m \u001b[1;33m=\u001b[0m \u001b[0mmap_f\u001b[0m\u001b[1;33m(\u001b[0m\u001b[0mvalues\u001b[0m\u001b[1;33m,\u001b[0m \u001b[0marg\u001b[0m\u001b[1;33m)\u001b[0m\u001b[1;33m\u001b[0m\u001b[0m\n\u001b[0m\u001b[0;32m   2055\u001b[0m             return self._constructor(mapped,\n\u001b[0;32m   2056\u001b[0m                                      index=self.index).__finalize__(self)\n",
      "\u001b[1;32mpandas\\src\\inference.pyx\u001b[0m in \u001b[0;36mpandas.lib.map_infer (pandas\\lib.c:62578)\u001b[1;34m()\u001b[0m\n",
      "\u001b[1;32m<ipython-input-140-053bfca85831>\u001b[0m in \u001b[0;36m<lambda>\u001b[1;34m(x)\u001b[0m\n\u001b[1;32m----> 1\u001b[1;33m \u001b[0mdf_ord\u001b[0m\u001b[1;33m[\u001b[0m\u001b[1;34m'DateTime_dec'\u001b[0m\u001b[1;33m]\u001b[0m \u001b[1;33m=\u001b[0m \u001b[0mdf_ord\u001b[0m\u001b[1;33m[\u001b[0m\u001b[1;34m'DateTime'\u001b[0m\u001b[1;33m]\u001b[0m\u001b[1;33m.\u001b[0m\u001b[0mmap\u001b[0m\u001b[1;33m(\u001b[0m\u001b[1;32mlambda\u001b[0m \u001b[0mx\u001b[0m\u001b[1;33m:\u001b[0m \u001b[0mDT\u001b[0m\u001b[1;33m.\u001b[0m\u001b[0mtimedelta\u001b[0m\u001b[1;33m(\u001b[0m\u001b[0mx\u001b[0m \u001b[1;33m-\u001b[0m \u001b[0mDT\u001b[0m\u001b[1;33m.\u001b[0m\u001b[0mdatetime\u001b[0m\u001b[1;33m(\u001b[0m\u001b[1;36m1970\u001b[0m\u001b[1;33m,\u001b[0m \u001b[1;36m1\u001b[0m\u001b[1;33m,\u001b[0m \u001b[1;36m1\u001b[0m\u001b[1;33m,\u001b[0m \u001b[1;36m0\u001b[0m\u001b[1;33m,\u001b[0m \u001b[1;36m0\u001b[0m\u001b[1;33m,\u001b[0m \u001b[1;36m0\u001b[0m\u001b[1;33m)\u001b[0m\u001b[1;33m)\u001b[0m\u001b[1;33m)\u001b[0m\u001b[1;33m\u001b[0m\u001b[0m\n\u001b[0m",
      "\u001b[1;31mTypeError\u001b[0m: unsupported type for timedelta days component: Timedelta"
     ]
    }
   ],
   "source": [
    "df_ord['DateTime_dec'] = df_ord['DateTime'].map(lambda x: DT.timedelta(x - DT.datetime(1970, 1, 1, 0, 0, 0)))"
   ]
  },
  {
   "cell_type": "code",
   "execution_count": 138,
   "metadata": {
    "collapsed": false
   },
   "outputs": [
    {
     "data": {
      "text/html": [
       "<div>\n",
       "<table border=\"1\" class=\"dataframe\">\n",
       "  <thead>\n",
       "    <tr style=\"text-align: right;\">\n",
       "      <th></th>\n",
       "      <th>DateTime</th>\n",
       "      <th>Date</th>\n",
       "      <th>Time</th>\n",
       "      <th>Ticket</th>\n",
       "      <th>Type</th>\n",
       "      <th>Lots</th>\n",
       "      <th>Symbol</th>\n",
       "      <th>Open Price</th>\n",
       "      <th>StopLoss</th>\n",
       "      <th>TakeProfit</th>\n",
       "      <th>...</th>\n",
       "      <th>Profit</th>\n",
       "      <th>Comment</th>\n",
       "      <th>MagicNumber</th>\n",
       "      <th>Expiration</th>\n",
       "      <th>Roll_Profit_Count</th>\n",
       "      <th>Roll_Mean</th>\n",
       "      <th>Roll_std</th>\n",
       "      <th>Roll_var</th>\n",
       "      <th>Trend</th>\n",
       "      <th>DateTime_dec</th>\n",
       "    </tr>\n",
       "  </thead>\n",
       "  <tbody>\n",
       "    <tr>\n",
       "      <th>0</th>\n",
       "      <td>2015-01-04 23:41:30</td>\n",
       "      <td>2015-01-04</td>\n",
       "      <td>23:41:30</td>\n",
       "      <td>1</td>\n",
       "      <td>OP_SELL</td>\n",
       "      <td>0.1</td>\n",
       "      <td>EURUSD</td>\n",
       "      <td>1.19540</td>\n",
       "      <td>1.19940</td>\n",
       "      <td>1.19040</td>\n",
       "      <td>...</td>\n",
       "      <td>18.0</td>\n",
       "      <td>Sell</td>\n",
       "      <td>150001</td>\n",
       "      <td>1970.01.01 00:00:00</td>\n",
       "      <td>1</td>\n",
       "      <td>18.000</td>\n",
       "      <td>NaN</td>\n",
       "      <td>NaN</td>\n",
       "      <td>UP1</td>\n",
       "      <td>&lt;map object at 0x000000004F094908&gt;</td>\n",
       "    </tr>\n",
       "    <tr>\n",
       "      <th>1</th>\n",
       "      <td>2015-01-06 09:51:40</td>\n",
       "      <td>2015-01-06</td>\n",
       "      <td>09:51:40</td>\n",
       "      <td>2</td>\n",
       "      <td>OP_SELL</td>\n",
       "      <td>0.1</td>\n",
       "      <td>EURUSD</td>\n",
       "      <td>1.19392</td>\n",
       "      <td>1.19792</td>\n",
       "      <td>1.18892</td>\n",
       "      <td>...</td>\n",
       "      <td>9.9</td>\n",
       "      <td>Sell</td>\n",
       "      <td>150001</td>\n",
       "      <td>1970.01.01 00:00:00</td>\n",
       "      <td>2</td>\n",
       "      <td>13.950</td>\n",
       "      <td>5.727565</td>\n",
       "      <td>32.8050</td>\n",
       "      <td>UP1</td>\n",
       "      <td>&lt;map object at 0x000000004F094908&gt;</td>\n",
       "    </tr>\n",
       "    <tr>\n",
       "      <th>2</th>\n",
       "      <td>2015-01-06 12:04:59</td>\n",
       "      <td>2015-01-06</td>\n",
       "      <td>12:04:59</td>\n",
       "      <td>3</td>\n",
       "      <td>OP_SELL</td>\n",
       "      <td>0.1</td>\n",
       "      <td>EURUSD</td>\n",
       "      <td>1.19122</td>\n",
       "      <td>1.19522</td>\n",
       "      <td>1.18622</td>\n",
       "      <td>...</td>\n",
       "      <td>16.8</td>\n",
       "      <td>Sell</td>\n",
       "      <td>150001</td>\n",
       "      <td>1970.01.01 00:00:00</td>\n",
       "      <td>3</td>\n",
       "      <td>14.900</td>\n",
       "      <td>4.371499</td>\n",
       "      <td>19.1100</td>\n",
       "      <td>UP1</td>\n",
       "      <td>&lt;map object at 0x000000004F094908&gt;</td>\n",
       "    </tr>\n",
       "    <tr>\n",
       "      <th>3</th>\n",
       "      <td>2015-01-07 13:20:40</td>\n",
       "      <td>2015-01-07</td>\n",
       "      <td>13:20:40</td>\n",
       "      <td>4</td>\n",
       "      <td>OP_SELL</td>\n",
       "      <td>0.1</td>\n",
       "      <td>EURUSD</td>\n",
       "      <td>1.18432</td>\n",
       "      <td>1.18832</td>\n",
       "      <td>1.17932</td>\n",
       "      <td>...</td>\n",
       "      <td>11.4</td>\n",
       "      <td>Sell</td>\n",
       "      <td>150001</td>\n",
       "      <td>1970.01.01 00:00:00</td>\n",
       "      <td>4</td>\n",
       "      <td>14.025</td>\n",
       "      <td>3.975236</td>\n",
       "      <td>15.8025</td>\n",
       "      <td>UP1</td>\n",
       "      <td>&lt;map object at 0x000000004F094908&gt;</td>\n",
       "    </tr>\n",
       "    <tr>\n",
       "      <th>4</th>\n",
       "      <td>2015-01-08 04:07:00</td>\n",
       "      <td>2015-01-08</td>\n",
       "      <td>04:07:00</td>\n",
       "      <td>5</td>\n",
       "      <td>OP_BUY</td>\n",
       "      <td>0.1</td>\n",
       "      <td>EURUSD</td>\n",
       "      <td>1.18198</td>\n",
       "      <td>1.17798</td>\n",
       "      <td>1.18698</td>\n",
       "      <td>...</td>\n",
       "      <td>-40.0</td>\n",
       "      <td>Buy[sl]</td>\n",
       "      <td>150001</td>\n",
       "      <td>1970.01.01 00:00:00</td>\n",
       "      <td>3</td>\n",
       "      <td>3.220</td>\n",
       "      <td>24.404754</td>\n",
       "      <td>595.5920</td>\n",
       "      <td>UP1</td>\n",
       "      <td>&lt;map object at 0x000000004F094908&gt;</td>\n",
       "    </tr>\n",
       "  </tbody>\n",
       "</table>\n",
       "<p>5 rows × 24 columns</p>\n",
       "</div>"
      ],
      "text/plain": [
       "             DateTime        Date      Time  Ticket     Type  Lots  Symbol  \\\n",
       "0 2015-01-04 23:41:30  2015-01-04  23:41:30       1  OP_SELL   0.1  EURUSD   \n",
       "1 2015-01-06 09:51:40  2015-01-06  09:51:40       2  OP_SELL   0.1  EURUSD   \n",
       "2 2015-01-06 12:04:59  2015-01-06  12:04:59       3  OP_SELL   0.1  EURUSD   \n",
       "3 2015-01-07 13:20:40  2015-01-07  13:20:40       4  OP_SELL   0.1  EURUSD   \n",
       "4 2015-01-08 04:07:00  2015-01-08  04:07:00       5   OP_BUY   0.1  EURUSD   \n",
       "\n",
       "   Open Price  StopLoss  TakeProfit                 ...                  \\\n",
       "0     1.19540   1.19940     1.19040                 ...                   \n",
       "1     1.19392   1.19792     1.18892                 ...                   \n",
       "2     1.19122   1.19522     1.18622                 ...                   \n",
       "3     1.18432   1.18832     1.17932                 ...                   \n",
       "4     1.18198   1.17798     1.18698                 ...                   \n",
       "\n",
       "  Profit  Comment  MagicNumber           Expiration  Roll_Profit_Count  \\\n",
       "0   18.0     Sell       150001  1970.01.01 00:00:00                  1   \n",
       "1    9.9     Sell       150001  1970.01.01 00:00:00                  2   \n",
       "2   16.8     Sell       150001  1970.01.01 00:00:00                  3   \n",
       "3   11.4     Sell       150001  1970.01.01 00:00:00                  4   \n",
       "4  -40.0  Buy[sl]       150001  1970.01.01 00:00:00                  3   \n",
       "\n",
       "  Roll_Mean   Roll_std  Roll_var  Trend                        DateTime_dec  \n",
       "0    18.000        NaN       NaN    UP1  <map object at 0x000000004F094908>  \n",
       "1    13.950   5.727565   32.8050    UP1  <map object at 0x000000004F094908>  \n",
       "2    14.900   4.371499   19.1100    UP1  <map object at 0x000000004F094908>  \n",
       "3    14.025   3.975236   15.8025    UP1  <map object at 0x000000004F094908>  \n",
       "4     3.220  24.404754  595.5920    UP1  <map object at 0x000000004F094908>  \n",
       "\n",
       "[5 rows x 24 columns]"
      ]
     },
     "execution_count": 138,
     "metadata": {},
     "output_type": "execute_result"
    }
   ],
   "source": [
    "df_ord.head()"
   ]
  },
  {
   "cell_type": "code",
   "execution_count": 118,
   "metadata": {
    "collapsed": false
   },
   "outputs": [],
   "source": [
    "def timesort(dt, tDT, tDT_L):\n",
    "    \n",
    "    tDTa = list(tDT.sort(reverse=True))\n",
    "    print(type(tDT))\n",
    "    for t in tDT:\n",
    "        if (dt < t):\n",
    "            return(tDT_L[t.index -1])"
   ]
  },
  {
   "cell_type": "code",
   "execution_count": 119,
   "metadata": {
    "collapsed": false
   },
   "outputs": [
    {
     "ename": "TypeError",
     "evalue": "'NoneType' object is not iterable",
     "output_type": "error",
     "traceback": [
      "\u001b[1;31m---------------------------------------------------------------------------\u001b[0m",
      "\u001b[1;31mTypeError\u001b[0m                                 Traceback (most recent call last)",
      "\u001b[1;32m<ipython-input-119-86725966289e>\u001b[0m in \u001b[0;36m<module>\u001b[1;34m()\u001b[0m\n\u001b[1;32m----> 1\u001b[1;33m \u001b[0mdf_Ind\u001b[0m\u001b[1;33m[\u001b[0m\u001b[1;34m'Trend'\u001b[0m\u001b[1;33m]\u001b[0m \u001b[1;33m=\u001b[0m \u001b[0mdf_Ind\u001b[0m\u001b[1;33m.\u001b[0m\u001b[0mDateTime\u001b[0m\u001b[1;33m.\u001b[0m\u001b[0mapply\u001b[0m\u001b[1;33m(\u001b[0m\u001b[0mtimesort\u001b[0m\u001b[1;33m(\u001b[0m\u001b[1;33m[\u001b[0m\u001b[1;34m'DateTime'\u001b[0m\u001b[1;33m]\u001b[0m\u001b[1;33m,\u001b[0m \u001b[0mtrend_range_DT\u001b[0m\u001b[1;33m,\u001b[0m \u001b[0mtrend_labels\u001b[0m\u001b[1;33m)\u001b[0m\u001b[1;33m)\u001b[0m\u001b[1;33m\u001b[0m\u001b[0m\n\u001b[0m",
      "\u001b[1;32m<ipython-input-118-6b6b991417e5>\u001b[0m in \u001b[0;36mtimesort\u001b[1;34m(dt, tDT, tDT_L)\u001b[0m\n\u001b[0;32m      1\u001b[0m \u001b[1;32mdef\u001b[0m \u001b[0mtimesort\u001b[0m\u001b[1;33m(\u001b[0m\u001b[0mdt\u001b[0m\u001b[1;33m,\u001b[0m \u001b[0mtDT\u001b[0m\u001b[1;33m,\u001b[0m \u001b[0mtDT_L\u001b[0m\u001b[1;33m)\u001b[0m\u001b[1;33m:\u001b[0m\u001b[1;33m\u001b[0m\u001b[0m\n\u001b[0;32m      2\u001b[0m \u001b[1;33m\u001b[0m\u001b[0m\n\u001b[1;32m----> 3\u001b[1;33m     \u001b[0mtDTa\u001b[0m \u001b[1;33m=\u001b[0m \u001b[0mlist\u001b[0m\u001b[1;33m(\u001b[0m\u001b[0mtDT\u001b[0m\u001b[1;33m.\u001b[0m\u001b[0msort\u001b[0m\u001b[1;33m(\u001b[0m\u001b[0mreverse\u001b[0m\u001b[1;33m=\u001b[0m\u001b[1;32mTrue\u001b[0m\u001b[1;33m)\u001b[0m\u001b[1;33m)\u001b[0m\u001b[1;33m\u001b[0m\u001b[0m\n\u001b[0m\u001b[0;32m      4\u001b[0m     \u001b[0mprint\u001b[0m\u001b[1;33m(\u001b[0m\u001b[0mtype\u001b[0m\u001b[1;33m(\u001b[0m\u001b[0mtDT\u001b[0m\u001b[1;33m)\u001b[0m\u001b[1;33m)\u001b[0m\u001b[1;33m\u001b[0m\u001b[0m\n\u001b[0;32m      5\u001b[0m     \u001b[1;32mfor\u001b[0m \u001b[0mt\u001b[0m \u001b[1;32min\u001b[0m \u001b[0mtDT\u001b[0m\u001b[1;33m:\u001b[0m\u001b[1;33m\u001b[0m\u001b[0m\n",
      "\u001b[1;31mTypeError\u001b[0m: 'NoneType' object is not iterable"
     ]
    }
   ],
   "source": [
    "df_Ind['Trend'] = df_Ind.DateTime.apply(timesort(['DateTime'], trend_range_DT, trend_labels))"
   ]
  },
  {
   "cell_type": "code",
   "execution_count": null,
   "metadata": {
    "collapsed": true
   },
   "outputs": [],
   "source": []
  }
 ],
 "metadata": {
  "kernelspec": {
   "display_name": "Python 3",
   "language": "python",
   "name": "python3"
  },
  "language_info": {
   "codemirror_mode": {
    "name": "ipython",
    "version": 3
   },
   "file_extension": ".py",
   "mimetype": "text/x-python",
   "name": "python",
   "nbconvert_exporter": "python",
   "pygments_lexer": "ipython3",
   "version": "3.5.1"
  }
 },
 "nbformat": 4,
 "nbformat_minor": 0
}
