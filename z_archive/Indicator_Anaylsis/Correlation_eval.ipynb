{
 "cells": [
  {
   "cell_type": "code",
   "execution_count": 39,
   "metadata": {
    "collapsed": true
   },
   "outputs": [],
   "source": [
    "import pandas as pd\n",
    "import numpy as np\n",
    "import matplotlib.pyplot as plt\n",
    "import datetime as DT\n",
    "from matplotlib import style\n",
    "\n",
    "style.use('fivethirtyeight')"
   ]
  },
  {
   "cell_type": "code",
   "execution_count": 40,
   "metadata": {
    "collapsed": false
   },
   "outputs": [],
   "source": [
    "# 1 minute EURUSD prices\n",
    "## Work\n",
    "# m1 = pd.read_csv(\n",
    "#     'C:/Users/kwilliams/Google Drive/dev/python/projects/DochianChannel/Indicator_Anaylsis/EURUSD1_2015.csv',\n",
    "#     header=None)\n",
    "## Home\n",
    "m1 = pd.read_csv(\n",
    "    'C:/Users/Kevin/Google Drive/dev/python/projects/DochianChannel/Indicator_Anaylsis/EURUSD1_2015.csv',\n",
    "    header=None)"
   ]
  },
  {
   "cell_type": "code",
   "execution_count": 41,
   "metadata": {
    "collapsed": false
   },
   "outputs": [],
   "source": [
    "m1.columns = ['Date', 'Time', 'Open', 'High', 'Low', 'Close', 'Ticks']\n",
    "m1['DateTime'] = m1['Date'] + ' ' + m1['Time']\n",
    "m1['DateTime'] = pd.to_datetime(m1['DateTime'],format='%Y.%m.%d %H:%M')\n",
    "#m1.set_index('DateTime', inplace=True)\n",
    "#m1.head()"
   ]
  },
  {
   "cell_type": "code",
   "execution_count": 42,
   "metadata": {
    "collapsed": true
   },
   "outputs": [],
   "source": [
    "def movingaverage(values,window):\n",
    "    weigths = np.repeat(1.0, window)/window\n",
    "    smas = np.convolve(values, weigths, 'valid')\n",
    "    return smas # as a numpy array\n",
    "\n",
    "\n",
    "def ExpMovingAverage(values, window):\n",
    "    weights = np.exp(np.linspace(-1., 0., window))\n",
    "    weights /= weights.sum()\n",
    "    a =  np.convolve(values, weights, mode='full')[:len(values)]\n",
    "    a[:window] = a[window]\n",
    "    return a\n",
    "\n",
    "\n",
    "def computeMACD(x, slow=26, fast=12):\n",
    "    \"\"\"\n",
    "    compute the MACD (Moving Average Convergence/Divergence) using a fast and slow exponential moving avg'\n",
    "    return value is emaslow, emafast, macd which are len(x) arrays\n",
    "    \"\"\"\n",
    "    emaslow = ExpMovingAverage(x, slow)\n",
    "    emafast = ExpMovingAverage(x, fast)\n",
    "    return emaslow, emafast, emafast - emaslow"
   ]
  },
  {
   "cell_type": "code",
   "execution_count": 43,
   "metadata": {
    "collapsed": false
   },
   "outputs": [],
   "source": [
    "m1['MACD_slow'], m1['MACD_fast'], m1['MACD'] = computeMACD(m1['Close'])"
   ]
  },
  {
   "cell_type": "code",
   "execution_count": 44,
   "metadata": {
    "collapsed": false
   },
   "outputs": [],
   "source": [
    "m1['MACD_slow1'] = pd.ewma(m1['Close'], min_periods=26, halflife=13)"
   ]
  },
  {
   "cell_type": "code",
   "execution_count": 12,
   "metadata": {
    "collapsed": false
   },
   "outputs": [],
   "source": [
    "\n",
    "#m1.iloc[:,('DateTime')].head(3)\n",
    "#m1.head()"
   ]
  },
  {
   "cell_type": "code",
   "execution_count": 21,
   "metadata": {
    "collapsed": false
   },
   "outputs": [],
   "source": [
    "m1.set_index(['DateTime'], inplace=True)\n",
    "start = m1.index.searchsorted(DT.datetime(2015, 1, 1))\n",
    "end = m1.index.searchsorted(DT.datetime(2015, 12, 31))\n",
    "\n",
    "#m1_2015 = m1['2015']\n",
    "m1_2015 = m1.ix[start:end]"
   ]
  },
  {
   "cell_type": "code",
   "execution_count": 45,
   "metadata": {
    "collapsed": false
   },
   "outputs": [
    {
     "data": {
      "text/plain": [
       "0.010456566734769218"
      ]
     },
     "execution_count": 45,
     "metadata": {},
     "output_type": "execute_result"
    }
   ],
   "source": [
    "m1_2015['2015-03'].corr()['Close']['MACD']"
   ]
  },
  {
   "cell_type": "code",
   "execution_count": 46,
   "metadata": {
    "collapsed": false
   },
   "outputs": [],
   "source": [
    "trend_labels = ['UP1', 'FLAT1', 'DOWN1', 'UP2', 'DOWN2', 'FLAT2', 'DOWN3', 'UP3', 'DOWN4', 'UP4', \n",
    "               'DOWN5', 'UP6', 'FLAT3']\n",
    "trend_range_DT_sec = pd.Series((1420414890, 1421139880, 1422408640, 1424763719, 1426153060, 1426664604, 1430408260,\n",
    "                               1431608358, 1433516560, 1434035260, 1439409580, 1443017060, 1447421435, 1450310490))"
   ]
  },
  {
   "cell_type": "code",
   "execution_count": 48,
   "metadata": {
    "collapsed": false
   },
   "outputs": [],
   "source": [
    "# function to convert 'DateTime' to seconds\n",
    "def seconds(datetime):\n",
    "    return (datetime - DT.datetime(1970, 1, 1)).total_seconds()\n",
    "\n",
    "m1_2015.reset_index(inplace=True)\n",
    "#study = df_Ind.loc[:, ('DateTime', 'Trend', 'BBAND(100)', 'MACD(12) MAIN', 'MACD(2) SIGNAL', 'MACD(10) SIGNAL', 'MACD(12) SIGNAL' , 'MACD(20) SIGNAL')]\n",
    "m1_2015['DateTime_sec'] = m1_2015['DateTime'].apply(seconds)\n"
   ]
  },
  {
   "cell_type": "code",
   "execution_count": 49,
   "metadata": {
    "collapsed": false
   },
   "outputs": [],
   "source": [
    "m1_2015.set_index('DateTime', inplace=True)"
   ]
  },
  {
   "cell_type": "code",
   "execution_count": 50,
   "metadata": {
    "collapsed": false
   },
   "outputs": [],
   "source": [
    "m1_2015['Trend'] = pd.cut(m1_2015.DateTime_sec, trend_range_DT_sec, labels=trend_labels).astype('category')"
   ]
  },
  {
   "cell_type": "code",
   "execution_count": 51,
   "metadata": {
    "collapsed": false
   },
   "outputs": [
    {
     "data": {
      "text/html": [
       "<div>\n",
       "<table border=\"1\" class=\"dataframe\">\n",
       "  <thead>\n",
       "    <tr style=\"text-align: right;\">\n",
       "      <th></th>\n",
       "      <th>level_0</th>\n",
       "      <th>index</th>\n",
       "      <th>Date</th>\n",
       "      <th>Time</th>\n",
       "      <th>Open</th>\n",
       "      <th>High</th>\n",
       "      <th>Low</th>\n",
       "      <th>Close</th>\n",
       "      <th>Ticks</th>\n",
       "      <th>MACD_slow</th>\n",
       "      <th>MACD_fast</th>\n",
       "      <th>MACD</th>\n",
       "      <th>MACD_slow1</th>\n",
       "      <th>DateTime_sec</th>\n",
       "      <th>Trend</th>\n",
       "    </tr>\n",
       "    <tr>\n",
       "      <th>DateTime</th>\n",
       "      <th></th>\n",
       "      <th></th>\n",
       "      <th></th>\n",
       "      <th></th>\n",
       "      <th></th>\n",
       "      <th></th>\n",
       "      <th></th>\n",
       "      <th></th>\n",
       "      <th></th>\n",
       "      <th></th>\n",
       "      <th></th>\n",
       "      <th></th>\n",
       "      <th></th>\n",
       "      <th></th>\n",
       "      <th></th>\n",
       "    </tr>\n",
       "  </thead>\n",
       "  <tbody>\n",
       "    <tr>\n",
       "      <th>2015-01-02 08:00:00</th>\n",
       "      <td>0</td>\n",
       "      <td>0</td>\n",
       "      <td>2015.01.02</td>\n",
       "      <td>08:00</td>\n",
       "      <td>1.20545</td>\n",
       "      <td>1.20545</td>\n",
       "      <td>1.20514</td>\n",
       "      <td>1.20516</td>\n",
       "      <td>31</td>\n",
       "      <td>1.210236</td>\n",
       "      <td>1.209972</td>\n",
       "      <td>-0.000265</td>\n",
       "      <td>1.210024</td>\n",
       "      <td>1420185600</td>\n",
       "      <td>NaN</td>\n",
       "    </tr>\n",
       "    <tr>\n",
       "      <th>2015-01-02 08:01:00</th>\n",
       "      <td>1</td>\n",
       "      <td>1</td>\n",
       "      <td>2015.01.02</td>\n",
       "      <td>08:01</td>\n",
       "      <td>1.20516</td>\n",
       "      <td>1.20521</td>\n",
       "      <td>1.20503</td>\n",
       "      <td>1.20503</td>\n",
       "      <td>31</td>\n",
       "      <td>1.210115</td>\n",
       "      <td>1.209693</td>\n",
       "      <td>-0.000423</td>\n",
       "      <td>1.209765</td>\n",
       "      <td>1420185660</td>\n",
       "      <td>NaN</td>\n",
       "    </tr>\n",
       "    <tr>\n",
       "      <th>2015-01-02 08:02:00</th>\n",
       "      <td>2</td>\n",
       "      <td>2</td>\n",
       "      <td>2015.01.02</td>\n",
       "      <td>08:02</td>\n",
       "      <td>1.20503</td>\n",
       "      <td>1.20503</td>\n",
       "      <td>1.20468</td>\n",
       "      <td>1.20473</td>\n",
       "      <td>51</td>\n",
       "      <td>1.209985</td>\n",
       "      <td>1.209371</td>\n",
       "      <td>-0.000614</td>\n",
       "      <td>1.209504</td>\n",
       "      <td>1420185720</td>\n",
       "      <td>NaN</td>\n",
       "    </tr>\n",
       "    <tr>\n",
       "      <th>2015-01-02 08:03:00</th>\n",
       "      <td>3</td>\n",
       "      <td>3</td>\n",
       "      <td>2015.01.02</td>\n",
       "      <td>08:03</td>\n",
       "      <td>1.20473</td>\n",
       "      <td>1.20475</td>\n",
       "      <td>1.20346</td>\n",
       "      <td>1.20385</td>\n",
       "      <td>81</td>\n",
       "      <td>1.209825</td>\n",
       "      <td>1.208992</td>\n",
       "      <td>-0.000833</td>\n",
       "      <td>1.209210</td>\n",
       "      <td>1420185780</td>\n",
       "      <td>NaN</td>\n",
       "    </tr>\n",
       "    <tr>\n",
       "      <th>2015-01-02 08:04:00</th>\n",
       "      <td>4</td>\n",
       "      <td>4</td>\n",
       "      <td>2015.01.02</td>\n",
       "      <td>08:04</td>\n",
       "      <td>1.20379</td>\n",
       "      <td>1.20421</td>\n",
       "      <td>1.20375</td>\n",
       "      <td>1.20421</td>\n",
       "      <td>79</td>\n",
       "      <td>1.209657</td>\n",
       "      <td>1.208580</td>\n",
       "      <td>-0.001077</td>\n",
       "      <td>1.208950</td>\n",
       "      <td>1420185840</td>\n",
       "      <td>NaN</td>\n",
       "    </tr>\n",
       "  </tbody>\n",
       "</table>\n",
       "</div>"
      ],
      "text/plain": [
       "                     level_0  index        Date   Time     Open     High  \\\n",
       "DateTime                                                                   \n",
       "2015-01-02 08:00:00        0      0  2015.01.02  08:00  1.20545  1.20545   \n",
       "2015-01-02 08:01:00        1      1  2015.01.02  08:01  1.20516  1.20521   \n",
       "2015-01-02 08:02:00        2      2  2015.01.02  08:02  1.20503  1.20503   \n",
       "2015-01-02 08:03:00        3      3  2015.01.02  08:03  1.20473  1.20475   \n",
       "2015-01-02 08:04:00        4      4  2015.01.02  08:04  1.20379  1.20421   \n",
       "\n",
       "                         Low    Close  Ticks  MACD_slow  MACD_fast      MACD  \\\n",
       "DateTime                                                                       \n",
       "2015-01-02 08:00:00  1.20514  1.20516     31   1.210236   1.209972 -0.000265   \n",
       "2015-01-02 08:01:00  1.20503  1.20503     31   1.210115   1.209693 -0.000423   \n",
       "2015-01-02 08:02:00  1.20468  1.20473     51   1.209985   1.209371 -0.000614   \n",
       "2015-01-02 08:03:00  1.20346  1.20385     81   1.209825   1.208992 -0.000833   \n",
       "2015-01-02 08:04:00  1.20375  1.20421     79   1.209657   1.208580 -0.001077   \n",
       "\n",
       "                     MACD_slow1  DateTime_sec Trend  \n",
       "DateTime                                             \n",
       "2015-01-02 08:00:00    1.210024    1420185600   NaN  \n",
       "2015-01-02 08:01:00    1.209765    1420185660   NaN  \n",
       "2015-01-02 08:02:00    1.209504    1420185720   NaN  \n",
       "2015-01-02 08:03:00    1.209210    1420185780   NaN  \n",
       "2015-01-02 08:04:00    1.208950    1420185840   NaN  "
      ]
     },
     "execution_count": 51,
     "metadata": {},
     "output_type": "execute_result"
    }
   ],
   "source": [
    "m1_2015.head()"
   ]
  },
  {
   "cell_type": "code",
   "execution_count": 80,
   "metadata": {
    "collapsed": false
   },
   "outputs": [],
   "source": [
    "?"
   ]
  },
  {
   "cell_type": "code",
   "execution_count": null,
   "metadata": {
    "collapsed": true
   },
   "outputs": [],
   "source": []
  }
 ],
 "metadata": {
  "kernelspec": {
   "display_name": "Python 3",
   "language": "python",
   "name": "python3"
  },
  "language_info": {
   "codemirror_mode": {
    "name": "ipython",
    "version": 3
   },
   "file_extension": ".py",
   "mimetype": "text/x-python",
   "name": "python",
   "nbconvert_exporter": "python",
   "pygments_lexer": "ipython3",
   "version": "3.5.1"
  }
 },
 "nbformat": 4,
 "nbformat_minor": 0
}
