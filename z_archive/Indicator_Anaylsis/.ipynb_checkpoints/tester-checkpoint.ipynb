{
 "cells": [
  {
   "cell_type": "code",
   "execution_count": 2,
   "metadata": {
    "collapsed": true
   },
   "outputs": [],
   "source": [
    "import pandas as pd\n",
    "import numpy as np\n",
    "import matplotlib.pyplot as plt\n",
    "import datetime as DT\n",
    "from matplotlib import style\n",
    "\n",
    "style.use('fivethirtyeight')"
   ]
  },
  {
   "cell_type": "code",
   "execution_count": 43,
   "metadata": {
    "collapsed": false
   },
   "outputs": [],
   "source": [
    "# 1 minute EURUSD prices\n",
    "## Work\n",
    "# m1 = pd.read_csv(\n",
    "#     'C:/Users/kwilliams/Google Drive/dev/python/projects/DochianChannel/Indicator_Anaylsis/EURUSD1_2015.csv',\n",
    "#     header=None)\n",
    "## Home\n",
    "m1 = pd.read_csv(\n",
    "    'C:/Users/Kevin/Google Drive/dev/python/projects/DochianChannel/Indicator_Anaylsis/EURUSD1_2015.csv',\n",
    "    header=None)"
   ]
  },
  {
   "cell_type": "code",
   "execution_count": 44,
   "metadata": {
    "collapsed": false
   },
   "outputs": [],
   "source": [
    "m1.columns = ['Date', 'Time', 'Open', 'High', 'Low', 'Close', 'Ticks']\n",
    "m1['DateTime'] = m1['Date'] + ' ' + m1['Time']\n",
    "m1['DateTime'] = pd.to_datetime(m1['DateTime'],format='%Y.%m.%d %H:%M')\n",
    "m1['Date'] = pd.to_datetime(m1['Date'],format='%Y.%m.%d')"
   ]
  },
  {
   "cell_type": "code",
   "execution_count": 59,
   "metadata": {
    "collapsed": false
   },
   "outputs": [
    {
     "data": {
      "text/html": [
       "<div>\n",
       "<table border=\"1\" class=\"dataframe\">\n",
       "  <thead>\n",
       "    <tr style=\"text-align: right;\">\n",
       "      <th></th>\n",
       "      <th>Date</th>\n",
       "      <th>Time</th>\n",
       "      <th>Open</th>\n",
       "      <th>High</th>\n",
       "      <th>Low</th>\n",
       "      <th>Close</th>\n",
       "      <th>Ticks</th>\n",
       "      <th>DateTime</th>\n",
       "      <th>TREND</th>\n",
       "    </tr>\n",
       "  </thead>\n",
       "  <tbody>\n",
       "    <tr>\n",
       "      <th>1009333</th>\n",
       "      <td>2016-01-19</td>\n",
       "      <td>14:50</td>\n",
       "      <td>1.09048</td>\n",
       "      <td>1.09077</td>\n",
       "      <td>1.09036</td>\n",
       "      <td>1.09075</td>\n",
       "      <td>271</td>\n",
       "      <td>2016-01-19 14:50:00</td>\n",
       "      <td>NULL</td>\n",
       "    </tr>\n",
       "    <tr>\n",
       "      <th>1009334</th>\n",
       "      <td>2016-01-19</td>\n",
       "      <td>14:51</td>\n",
       "      <td>1.09076</td>\n",
       "      <td>1.09077</td>\n",
       "      <td>1.09040</td>\n",
       "      <td>1.09058</td>\n",
       "      <td>168</td>\n",
       "      <td>2016-01-19 14:51:00</td>\n",
       "      <td>NULL</td>\n",
       "    </tr>\n",
       "    <tr>\n",
       "      <th>1009335</th>\n",
       "      <td>2016-01-19</td>\n",
       "      <td>14:52</td>\n",
       "      <td>1.09056</td>\n",
       "      <td>1.09060</td>\n",
       "      <td>1.09007</td>\n",
       "      <td>1.09019</td>\n",
       "      <td>178</td>\n",
       "      <td>2016-01-19 14:52:00</td>\n",
       "      <td>NULL</td>\n",
       "    </tr>\n",
       "    <tr>\n",
       "      <th>1009336</th>\n",
       "      <td>2016-01-19</td>\n",
       "      <td>14:53</td>\n",
       "      <td>1.09020</td>\n",
       "      <td>1.09023</td>\n",
       "      <td>1.08987</td>\n",
       "      <td>1.08993</td>\n",
       "      <td>141</td>\n",
       "      <td>2016-01-19 14:53:00</td>\n",
       "      <td>NULL</td>\n",
       "    </tr>\n",
       "    <tr>\n",
       "      <th>1009337</th>\n",
       "      <td>2016-01-19</td>\n",
       "      <td>14:54</td>\n",
       "      <td>1.08992</td>\n",
       "      <td>1.08997</td>\n",
       "      <td>1.08947</td>\n",
       "      <td>1.08968</td>\n",
       "      <td>189</td>\n",
       "      <td>2016-01-19 14:54:00</td>\n",
       "      <td>NULL</td>\n",
       "    </tr>\n",
       "  </tbody>\n",
       "</table>\n",
       "</div>"
      ],
      "text/plain": [
       "              Date   Time     Open     High      Low    Close  Ticks  \\\n",
       "1009333 2016-01-19  14:50  1.09048  1.09077  1.09036  1.09075    271   \n",
       "1009334 2016-01-19  14:51  1.09076  1.09077  1.09040  1.09058    168   \n",
       "1009335 2016-01-19  14:52  1.09056  1.09060  1.09007  1.09019    178   \n",
       "1009336 2016-01-19  14:53  1.09020  1.09023  1.08987  1.08993    141   \n",
       "1009337 2016-01-19  14:54  1.08992  1.08997  1.08947  1.08968    189   \n",
       "\n",
       "                   DateTime TREND  \n",
       "1009333 2016-01-19 14:50:00  NULL  \n",
       "1009334 2016-01-19 14:51:00  NULL  \n",
       "1009335 2016-01-19 14:52:00  NULL  \n",
       "1009336 2016-01-19 14:53:00  NULL  \n",
       "1009337 2016-01-19 14:54:00  NULL  "
      ]
     },
     "execution_count": 59,
     "metadata": {},
     "output_type": "execute_result"
    }
   ],
   "source": [
    "m1.tail()"
   ]
  },
  {
   "cell_type": "code",
   "execution_count": 28,
   "metadata": {
    "collapsed": false
   },
   "outputs": [],
   "source": [
    "m1.set_index(['Date'], inplace=True)"
   ]
  },
  {
   "cell_type": "markdown",
   "metadata": {},
   "source": [
    "# Create Trend Ranges, based on visual inspection of previous graph, and add Trends to Order dataframe\n",
    "trend_range = [0, 6, 33, 60, 77, 86, 150, 171, 207, 222, 271, 314, 331, 348]\n",
    "trend_labels = ['UP1', 'FLAT1', 'DOWN1', 'UP2', 'DOWN2', 'FLAT2', 'DOWN3', 'UP3', 'DOWN4', 'UP4', \n",
    "               'DOWN5', 'UP6', 'FLAT3']\n",
    "\n",
    "#Categorize order dataframe based on trend ranges\n",
    "df_ord['Trend'] = pd.cut(df_ord.Ticket, trend_range, labels=trend_labels).astype('category')"
   ]
  },
  {
   "cell_type": "code",
   "execution_count": 50,
   "metadata": {
    "collapsed": false
   },
   "outputs": [
    {
     "data": {
      "text/plain": [
       "datetime.datetime(2014, 6, 20, 0, 0)"
      ]
     },
     "execution_count": 50,
     "metadata": {},
     "output_type": "execute_result"
    }
   ],
   "source": [
    "trend_range = np.array([DT.datetime(2014,6,20),\n",
    "                        DT.datetime(2015,7,1,),\n",
    "                        DT.datetime(2015,10,1)])\n",
    "trend_labels = ['UP1', 'FLAT1', 'DOWN1']\n",
    "trend_range[0]"
   ]
  },
  {
   "cell_type": "code",
   "execution_count": 56,
   "metadata": {
    "collapsed": false
   },
   "outputs": [],
   "source": [
    "def trend(item):\n",
    "    tr = 'NULL'\n",
    "    if trend_range[0] < item <= trend_range[1]:\n",
    "        tr = 'ONE'\n",
    "    if trend_range[1] < item <= trend_range[2]:\n",
    "        tr = 'TWO'\n",
    "    return tr"
   ]
  },
  {
   "cell_type": "code",
   "execution_count": 57,
   "metadata": {
    "collapsed": false
   },
   "outputs": [],
   "source": [
    "m1['TREND'] = list(map(trend, m1['Date']))"
   ]
  },
  {
   "cell_type": "code",
   "execution_count": 76,
   "metadata": {
    "collapsed": false
   },
   "outputs": [
    {
     "data": {
      "text/html": [
       "<div>\n",
       "<table border=\"1\" class=\"dataframe\">\n",
       "  <thead>\n",
       "    <tr style=\"text-align: right;\">\n",
       "      <th></th>\n",
       "      <th>Date</th>\n",
       "      <th>Time</th>\n",
       "      <th>Open</th>\n",
       "      <th>High</th>\n",
       "      <th>Low</th>\n",
       "      <th>Close</th>\n",
       "      <th>Ticks</th>\n",
       "      <th>DateTime</th>\n",
       "    </tr>\n",
       "    <tr>\n",
       "      <th>TREND</th>\n",
       "      <th></th>\n",
       "      <th></th>\n",
       "      <th></th>\n",
       "      <th></th>\n",
       "      <th></th>\n",
       "      <th></th>\n",
       "      <th></th>\n",
       "      <th></th>\n",
       "    </tr>\n",
       "  </thead>\n",
       "  <tbody>\n",
       "    <tr>\n",
       "      <th>NULL</th>\n",
       "      <td>537151</td>\n",
       "      <td>537151</td>\n",
       "      <td>537151</td>\n",
       "      <td>537151</td>\n",
       "      <td>537151</td>\n",
       "      <td>537151</td>\n",
       "      <td>537151</td>\n",
       "      <td>537151</td>\n",
       "    </tr>\n",
       "    <tr>\n",
       "      <th>ONE</th>\n",
       "      <td>377259</td>\n",
       "      <td>377259</td>\n",
       "      <td>377259</td>\n",
       "      <td>377259</td>\n",
       "      <td>377259</td>\n",
       "      <td>377259</td>\n",
       "      <td>377259</td>\n",
       "      <td>377259</td>\n",
       "    </tr>\n",
       "    <tr>\n",
       "      <th>TWO</th>\n",
       "      <td>94928</td>\n",
       "      <td>94928</td>\n",
       "      <td>94928</td>\n",
       "      <td>94928</td>\n",
       "      <td>94928</td>\n",
       "      <td>94928</td>\n",
       "      <td>94928</td>\n",
       "      <td>94928</td>\n",
       "    </tr>\n",
       "  </tbody>\n",
       "</table>\n",
       "</div>"
      ],
      "text/plain": [
       "         Date    Time    Open    High     Low   Close   Ticks  DateTime\n",
       "TREND                                                                  \n",
       "NULL   537151  537151  537151  537151  537151  537151  537151    537151\n",
       "ONE    377259  377259  377259  377259  377259  377259  377259    377259\n",
       "TWO     94928   94928   94928   94928   94928   94928   94928     94928"
      ]
     },
     "execution_count": 76,
     "metadata": {},
     "output_type": "execute_result"
    }
   ],
   "source": [
    "#m1.groupby('Date' == '2014').count()\n",
    "m1.groupby('TREND').count()"
   ]
  },
  {
   "cell_type": "code",
   "execution_count": null,
   "metadata": {
    "collapsed": true
   },
   "outputs": [],
   "source": []
  }
 ],
 "metadata": {
  "kernelspec": {
   "display_name": "Python 3",
   "language": "python",
   "name": "python3"
  },
  "language_info": {
   "codemirror_mode": {
    "name": "ipython",
    "version": 3
   },
   "file_extension": ".py",
   "mimetype": "text/x-python",
   "name": "python",
   "nbconvert_exporter": "python",
   "pygments_lexer": "ipython3",
   "version": "3.5.1"
  }
 },
 "nbformat": 4,
 "nbformat_minor": 0
}
