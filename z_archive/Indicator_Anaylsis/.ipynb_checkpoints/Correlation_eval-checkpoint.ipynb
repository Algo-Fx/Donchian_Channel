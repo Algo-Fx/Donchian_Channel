{
 "cells": [
  {
   "cell_type": "code",
   "execution_count": 70,
   "metadata": {
    "collapsed": true
   },
   "outputs": [],
   "source": [
    "import pandas as pd\n",
    "import numpy as np\n",
    "import matplotlib.pyplot as plt\n",
    "import datetime as DT\n",
    "from matplotlib import style\n",
    "\n",
    "style.use('fivethirtyeight')"
   ]
  },
  {
   "cell_type": "code",
   "execution_count": 71,
   "metadata": {
    "collapsed": false
   },
   "outputs": [],
   "source": [
    "# 1 minute EURUSD prices\n",
    "m1 = pd.read_csv(\n",
    "    'C:/Users/kwilliams/Google Drive/dev/python/projects/DochianChannel/Indicator_Anaylsis/EURUSD1_2015.csv',\n",
    "    header=None)"
   ]
  },
  {
   "cell_type": "code",
   "execution_count": 72,
   "metadata": {
    "collapsed": false
   },
   "outputs": [],
   "source": [
    "m1.columns = ['Date', 'Time', 'Open', 'High', 'Low', 'Close', 'Ticks']\n",
    "m1['DateTime'] = m1['Date'] + ' ' + m1['Time']\n",
    "m1['DateTime'] = pd.to_datetime(m1['DateTime'],format='%Y.%m.%d %H:%M')\n",
    "#m1.set_index('DateTime', inplace=True)\n",
    "#m1.head()"
   ]
  },
  {
   "cell_type": "code",
   "execution_count": 73,
   "metadata": {
    "collapsed": true
   },
   "outputs": [],
   "source": [
    "def movingaverage(values,window):\n",
    "    weigths = np.repeat(1.0, window)/window\n",
    "    smas = np.convolve(values, weigths, 'valid')\n",
    "    return smas # as a numpy array\n",
    "\n",
    "\n",
    "def ExpMovingAverage(values, window):\n",
    "    weights = np.exp(np.linspace(-1., 0., window))\n",
    "    weights /= weights.sum()\n",
    "    a =  np.convolve(values, weights, mode='full')[:len(values)]\n",
    "    a[:window] = a[window]\n",
    "    return a\n",
    "\n",
    "\n",
    "def computeMACD(x, slow=26, fast=12):\n",
    "    \"\"\"\n",
    "    compute the MACD (Moving Average Convergence/Divergence) using a fast and slow exponential moving avg'\n",
    "    return value is emaslow, emafast, macd which are len(x) arrays\n",
    "    \"\"\"\n",
    "    emaslow = ExpMovingAverage(x, slow)\n",
    "    emafast = ExpMovingAverage(x, fast)\n",
    "    return emaslow, emafast, emafast - emaslow"
   ]
  },
  {
   "cell_type": "code",
   "execution_count": 74,
   "metadata": {
    "collapsed": false
   },
   "outputs": [],
   "source": [
    "m1['MACD_slow'], m1['MACD_fast'], m1['MACD'] = computeMACD(m1['Close'])"
   ]
  },
  {
   "cell_type": "code",
   "execution_count": 75,
   "metadata": {
    "collapsed": false
   },
   "outputs": [],
   "source": [
    "m1['MACD_slow1'] = pd.ewma(m1['Close'], min_periods=26, halflife=13)"
   ]
  },
  {
   "cell_type": "code",
   "execution_count": 77,
   "metadata": {
    "collapsed": false
   },
   "outputs": [
    {
     "ename": "SyntaxError",
     "evalue": "invalid syntax (<ipython-input-77-24453b09cd62>, line 1)",
     "output_type": "error",
     "traceback": [
      "\u001b[1;36m  File \u001b[1;32m\"<ipython-input-77-24453b09cd62>\"\u001b[1;36m, line \u001b[1;32m1\u001b[0m\n\u001b[1;33m    m1.iloc(['DateTime']:['2015-02-02']).head(3)\u001b[0m\n\u001b[1;37m                        ^\u001b[0m\n\u001b[1;31mSyntaxError\u001b[0m\u001b[1;31m:\u001b[0m invalid syntax\n"
     ]
    }
   ],
   "source": [
    "m1.iloc(['DateTime']:['2015-02-02']).head(3)"
   ]
  },
  {
   "cell_type": "code",
   "execution_count": 56,
   "metadata": {
    "collapsed": false
   },
   "outputs": [],
   "source": [
    "m1_2015 = m1['2015']"
   ]
  },
  {
   "cell_type": "code",
   "execution_count": 39,
   "metadata": {
    "collapsed": false
   },
   "outputs": [
    {
     "data": {
      "text/plain": [
       "0.010456566734772457"
      ]
     },
     "execution_count": 39,
     "metadata": {},
     "output_type": "execute_result"
    }
   ],
   "source": [
    "m1_2015['2015-03'].corr()['Close']['MACD']"
   ]
  },
  {
   "cell_type": "code",
   "execution_count": 46,
   "metadata": {
    "collapsed": false
   },
   "outputs": [],
   "source": [
    "trend_labels = ['UP1', 'FLAT1', 'DOWN1', 'UP2', 'DOWN2', 'FLAT2', 'DOWN3', 'UP3', 'DOWN4', 'UP4', \n",
    "               'DOWN5', 'UP6', 'FLAT3']\n",
    "trend_range_DT_sec = pd.Series((1 420 414 890, 1421139880, 1422408640, 1424763719, 1426153060, 1426664604, 1430408260,\n",
    "                               1431608358, 1433516560, 1434035260, 1439409580, 1443017060, 1447421435, 1450310490))"
   ]
  },
  {
   "cell_type": "code",
   "execution_count": 65,
   "metadata": {
    "collapsed": false
   },
   "outputs": [
    {
     "name": "stderr",
     "output_type": "stream",
     "text": [
      "C:\\Users\\kwilliams\\Google Drive\\dev\\python\\Anaconda3\\lib\\site-packages\\ipykernel\\__main__.py:6: SettingWithCopyWarning: \n",
      "A value is trying to be set on a copy of a slice from a DataFrame.\n",
      "Try using .loc[row_indexer,col_indexer] = value instead\n",
      "\n",
      "See the caveats in the documentation: http://pandas.pydata.org/pandas-docs/stable/indexing.html#indexing-view-versus-copy\n"
     ]
    }
   ],
   "source": [
    "# function to convert 'DateTime' to seconds\n",
    "def seconds(datetime):\n",
    "    return (datetime - DT.datetime(1970, 1, 1)).total_seconds()\n",
    "\n",
    "m1_2015.reset_index(inplace=True)\n",
    "m1_2015['DateTime_sec'] = m1_2015['DateTime'].apply(seconds)"
   ]
  },
  {
   "cell_type": "code",
   "execution_count": 66,
   "metadata": {
    "collapsed": false
   },
   "outputs": [],
   "source": [
    "#m1_2015.set_index('DateTime', inplace=True)"
   ]
  },
  {
   "cell_type": "code",
   "execution_count": 67,
   "metadata": {
    "collapsed": false
   },
   "outputs": [
    {
     "name": "stderr",
     "output_type": "stream",
     "text": [
      "C:\\Users\\kwilliams\\Google Drive\\dev\\python\\Anaconda3\\lib\\site-packages\\ipykernel\\__main__.py:1: SettingWithCopyWarning: \n",
      "A value is trying to be set on a copy of a slice from a DataFrame.\n",
      "Try using .loc[row_indexer,col_indexer] = value instead\n",
      "\n",
      "See the caveats in the documentation: http://pandas.pydata.org/pandas-docs/stable/indexing.html#indexing-view-versus-copy\n",
      "  if __name__ == '__main__':\n"
     ]
    }
   ],
   "source": [
    "m1_2015['Trend'] = pd.cut(m1_2015.DateTime_sec, trend_range_DT_sec, labels=trend_labels).astype('category')"
   ]
  },
  {
   "cell_type": "code",
   "execution_count": 68,
   "metadata": {
    "collapsed": false
   },
   "outputs": [
    {
     "data": {
      "text/html": [
       "<div>\n",
       "<table border=\"1\" class=\"dataframe\">\n",
       "  <thead>\n",
       "    <tr style=\"text-align: right;\">\n",
       "      <th></th>\n",
       "      <th>DateTime</th>\n",
       "      <th>Date</th>\n",
       "      <th>Time</th>\n",
       "      <th>Open</th>\n",
       "      <th>High</th>\n",
       "      <th>Low</th>\n",
       "      <th>Close</th>\n",
       "      <th>Ticks</th>\n",
       "      <th>MACD_slow</th>\n",
       "      <th>MACD_fast</th>\n",
       "      <th>MACD</th>\n",
       "      <th>MACD_slow1</th>\n",
       "      <th>DateTime_sec</th>\n",
       "      <th>Trend</th>\n",
       "    </tr>\n",
       "  </thead>\n",
       "  <tbody>\n",
       "    <tr>\n",
       "      <th>0</th>\n",
       "      <td>2015-01-02 08:00:00</td>\n",
       "      <td>2015.01.02</td>\n",
       "      <td>08:00</td>\n",
       "      <td>1.20545</td>\n",
       "      <td>1.20545</td>\n",
       "      <td>1.20514</td>\n",
       "      <td>1.20516</td>\n",
       "      <td>31</td>\n",
       "      <td>1.210236</td>\n",
       "      <td>1.209972</td>\n",
       "      <td>-0.000265</td>\n",
       "      <td>1.210024</td>\n",
       "      <td>1420185600</td>\n",
       "      <td>NaN</td>\n",
       "    </tr>\n",
       "    <tr>\n",
       "      <th>1</th>\n",
       "      <td>2015-01-02 08:01:00</td>\n",
       "      <td>2015.01.02</td>\n",
       "      <td>08:01</td>\n",
       "      <td>1.20516</td>\n",
       "      <td>1.20521</td>\n",
       "      <td>1.20503</td>\n",
       "      <td>1.20503</td>\n",
       "      <td>31</td>\n",
       "      <td>1.210115</td>\n",
       "      <td>1.209693</td>\n",
       "      <td>-0.000423</td>\n",
       "      <td>1.209765</td>\n",
       "      <td>1420185660</td>\n",
       "      <td>NaN</td>\n",
       "    </tr>\n",
       "    <tr>\n",
       "      <th>2</th>\n",
       "      <td>2015-01-02 08:02:00</td>\n",
       "      <td>2015.01.02</td>\n",
       "      <td>08:02</td>\n",
       "      <td>1.20503</td>\n",
       "      <td>1.20503</td>\n",
       "      <td>1.20468</td>\n",
       "      <td>1.20473</td>\n",
       "      <td>51</td>\n",
       "      <td>1.209985</td>\n",
       "      <td>1.209371</td>\n",
       "      <td>-0.000614</td>\n",
       "      <td>1.209504</td>\n",
       "      <td>1420185720</td>\n",
       "      <td>NaN</td>\n",
       "    </tr>\n",
       "    <tr>\n",
       "      <th>3</th>\n",
       "      <td>2015-01-02 08:03:00</td>\n",
       "      <td>2015.01.02</td>\n",
       "      <td>08:03</td>\n",
       "      <td>1.20473</td>\n",
       "      <td>1.20475</td>\n",
       "      <td>1.20346</td>\n",
       "      <td>1.20385</td>\n",
       "      <td>81</td>\n",
       "      <td>1.209825</td>\n",
       "      <td>1.208992</td>\n",
       "      <td>-0.000833</td>\n",
       "      <td>1.209210</td>\n",
       "      <td>1420185780</td>\n",
       "      <td>NaN</td>\n",
       "    </tr>\n",
       "    <tr>\n",
       "      <th>4</th>\n",
       "      <td>2015-01-02 08:04:00</td>\n",
       "      <td>2015.01.02</td>\n",
       "      <td>08:04</td>\n",
       "      <td>1.20379</td>\n",
       "      <td>1.20421</td>\n",
       "      <td>1.20375</td>\n",
       "      <td>1.20421</td>\n",
       "      <td>79</td>\n",
       "      <td>1.209657</td>\n",
       "      <td>1.208580</td>\n",
       "      <td>-0.001077</td>\n",
       "      <td>1.208950</td>\n",
       "      <td>1420185840</td>\n",
       "      <td>NaN</td>\n",
       "    </tr>\n",
       "  </tbody>\n",
       "</table>\n",
       "</div>"
      ],
      "text/plain": [
       "             DateTime        Date   Time     Open     High      Low    Close  \\\n",
       "0 2015-01-02 08:00:00  2015.01.02  08:00  1.20545  1.20545  1.20514  1.20516   \n",
       "1 2015-01-02 08:01:00  2015.01.02  08:01  1.20516  1.20521  1.20503  1.20503   \n",
       "2 2015-01-02 08:02:00  2015.01.02  08:02  1.20503  1.20503  1.20468  1.20473   \n",
       "3 2015-01-02 08:03:00  2015.01.02  08:03  1.20473  1.20475  1.20346  1.20385   \n",
       "4 2015-01-02 08:04:00  2015.01.02  08:04  1.20379  1.20421  1.20375  1.20421   \n",
       "\n",
       "   Ticks  MACD_slow  MACD_fast      MACD  MACD_slow1  DateTime_sec Trend  \n",
       "0     31   1.210236   1.209972 -0.000265    1.210024    1420185600   NaN  \n",
       "1     31   1.210115   1.209693 -0.000423    1.209765    1420185660   NaN  \n",
       "2     51   1.209985   1.209371 -0.000614    1.209504    1420185720   NaN  \n",
       "3     81   1.209825   1.208992 -0.000833    1.209210    1420185780   NaN  \n",
       "4     79   1.209657   1.208580 -0.001077    1.208950    1420185840   NaN  "
      ]
     },
     "execution_count": 68,
     "metadata": {},
     "output_type": "execute_result"
    }
   ],
   "source": [
    "m1_2015.head()"
   ]
  },
  {
   "cell_type": "code",
   "execution_count": 80,
   "metadata": {
    "collapsed": false
   },
   "outputs": [],
   "source": [
    "?pd.DataFrame.iloc()"
   ]
  },
  {
   "cell_type": "code",
   "execution_count": null,
   "metadata": {
    "collapsed": true
   },
   "outputs": [],
   "source": []
  }
 ],
 "metadata": {
  "kernelspec": {
   "display_name": "Python 3",
   "language": "python",
   "name": "python3"
  },
  "language_info": {
   "codemirror_mode": {
    "name": "ipython",
    "version": 3
   },
   "file_extension": ".py",
   "mimetype": "text/x-python",
   "name": "python",
   "nbconvert_exporter": "python",
   "pygments_lexer": "ipython3",
   "version": "3.5.1"
  }
 },
 "nbformat": 4,
 "nbformat_minor": 0
}
