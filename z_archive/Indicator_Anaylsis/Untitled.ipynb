{
 "cells": [
  {
   "cell_type": "code",
   "execution_count": 1,
   "metadata": {
    "collapsed": true
   },
   "outputs": [],
   "source": [
    "import pandas as pd\n",
    "import numpy as np\n",
    "import matplotlib.pyplot as plt\n",
    "from matplotlib import style"
   ]
  },
  {
   "cell_type": "code",
   "execution_count": 2,
   "metadata": {
    "collapsed": true
   },
   "outputs": [],
   "source": [
    "# def ExpMovingAverage(values, window):\n",
    "#     weights = np.exp(np.linspace(-1., 0., window))\n",
    "#     weights /= weights.sum()\n",
    "#     a =  np.convolve(values, weights, mode='full')[:len(values)]\n",
    "#     a[:window] = a[window]\n",
    "#     return a"
   ]
  },
  {
   "cell_type": "code",
   "execution_count": 13,
   "metadata": {
    "collapsed": true
   },
   "outputs": [],
   "source": [
    "# 1 minute EURUSD prices\n",
    "m1 = pd.read_csv(\n",
    "    'C:/Users/kwilliams/Google Drive/dev/python/projects/DochianChannel/Indicator_Anaylsis/EURUSD1_2015.csv',\n",
    "    header=None)\n",
    "m1.columns = ['Date', 'Time', 'Open', 'High', 'Low', 'Close', 'Ticks']\n",
    "m1['DateTime'] = m1['Date'] + ' ' + m1['Time']\n",
    "m1['DateTime'] = pd.to_datetime(m1['DateTime'],format='%Y.%m.%d %H:%M')\n",
    "m1.set_index('DateTime', inplace=True)\n",
    "#m1.head()\n",
    "values = m1['Close']"
   ]
  },
  {
   "cell_type": "code",
   "execution_count": 7,
   "metadata": {
    "collapsed": true
   },
   "outputs": [],
   "source": [
    "weights = np.exp(np.linspace(-1., 0., 12))"
   ]
  },
  {
   "cell_type": "code",
   "execution_count": 10,
   "metadata": {
    "collapsed": false
   },
   "outputs": [
    {
     "data": {
      "text/plain": [
       "array([ 0.04813882,  0.05272016,  0.05773751,  0.06323236,  0.06925014,\n",
       "        0.07584064,  0.08305835,  0.09096297,  0.09961986,  0.10910063,\n",
       "        0.11948368,  0.13085487])"
      ]
     },
     "execution_count": 10,
     "metadata": {},
     "output_type": "execute_result"
    }
   ],
   "source": [
    "weights"
   ]
  },
  {
   "cell_type": "code",
   "execution_count": 11,
   "metadata": {
    "collapsed": false
   },
   "outputs": [
    {
     "data": {
      "text/plain": [
       "1.0"
      ]
     },
     "execution_count": 11,
     "metadata": {},
     "output_type": "execute_result"
    }
   ],
   "source": [
    "weights.sum()"
   ]
  },
  {
   "cell_type": "code",
   "execution_count": 9,
   "metadata": {
    "collapsed": false
   },
   "outputs": [
    {
     "data": {
      "text/plain": [
       "array([ 0.04813882,  0.05272016,  0.05773751,  0.06323236,  0.06925014,\n",
       "        0.07584064,  0.08305835,  0.09096297,  0.09961986,  0.10910063,\n",
       "        0.11948368,  0.13085487])"
      ]
     },
     "execution_count": 9,
     "metadata": {},
     "output_type": "execute_result"
    }
   ],
   "source": [
    "weights /= weights.sum()\n",
    "weights"
   ]
  },
  {
   "cell_type": "code",
   "execution_count": 16,
   "metadata": {
    "collapsed": false
   },
   "outputs": [],
   "source": [
    "a =  np.convolve(values, weights, mode='full')[:len(values)]"
   ]
  },
  {
   "cell_type": "code",
   "execution_count": 22,
   "metadata": {
    "collapsed": false
   },
   "outputs": [
    {
     "data": {
      "text/plain": [
       "array([ 0.06291599,  0.13181918,  0.20728129,  0.28991209,  0.38040248,\n",
       "        0.47951153,  0.58805274,  0.70691846,  0.83708501,  0.97964569,\n",
       "        1.13578871,  1.30678697,  1.30676522,  1.30675102,  1.30672298,\n",
       "        1.30673866,  1.306762  ,  1.30675884,  1.30675681,  1.30677565,\n",
       "        1.30681576,  1.30684634,  1.30684023,  1.3068676 ,  1.30686738,\n",
       "        1.30684086])"
      ]
     },
     "execution_count": 22,
     "metadata": {},
     "output_type": "execute_result"
    }
   ],
   "source": [
    "a[:26]"
   ]
  },
  {
   "cell_type": "code",
   "execution_count": null,
   "metadata": {
    "collapsed": true
   },
   "outputs": [],
   "source": []
  }
 ],
 "metadata": {
  "kernelspec": {
   "display_name": "Python 3",
   "language": "python",
   "name": "python3"
  },
  "language_info": {
   "codemirror_mode": {
    "name": "ipython",
    "version": 3
   },
   "file_extension": ".py",
   "mimetype": "text/x-python",
   "name": "python",
   "nbconvert_exporter": "python",
   "pygments_lexer": "ipython3",
   "version": "3.5.1"
  }
 },
 "nbformat": 4,
 "nbformat_minor": 0
}
