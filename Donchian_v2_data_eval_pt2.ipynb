{
 "cells": [
  {
   "cell_type": "code",
   "execution_count": 1,
   "metadata": {
    "collapsed": false
   },
   "outputs": [
    {
     "name": "stdout",
     "output_type": "stream",
     "text": [
      "system:  3.5.1 |Anaconda 2.4.1 (64-bit)| (default, Dec  7 2015, 15:00:12) [MSC v.1900 64 bit (AMD64)]\n",
      "numpy:  1.10.1\n",
      "panda:  0.17.1\n"
     ]
    }
   ],
   "source": [
    "import sys\n",
    "import numpy as np\n",
    "import pandas as pd\n",
    "import os.path\n",
    "import time\n",
    "import datetime\n",
    "import matplotlib.pyplot as plt\n",
    "from matplotlib.dates import MonthLocator, WeekdayLocator, DateFormatter\n",
    "from matplotlib.dates import MONDAY\n",
    "from Functions import datapath, read_history, read_indicator, read_order, MagicNumber, pickle_write, pickle_read\n",
    "\n",
    "print('system: ', sys.version)\n",
    "print('numpy: ', np.__version__)\n",
    "print('panda: ', pd.__version__)\n"
   ]
  },
  {
   "cell_type": "code",
   "execution_count": 3,
   "metadata": {
    "collapsed": false
   },
   "outputs": [
    {
     "name": "stdout",
     "output_type": "stream",
     "text": [
      "Reading Indicator data\n",
      "-> reading -- data/160002/160002_indicator_wStats.pickle\n",
      "       mod -- Mon Apr  4 12:56:00 2016\n",
      "Reading History data\n",
      "-> reading -- data/160002/160002_history_wStats.pickle\n",
      "       mod -- Mon Apr  4 12:56:00 2016\n",
      "Reading OER data\n",
      "-> reading -- data/160002/160002_Optimization Evaluation Results.pickle\n",
      "       mod -- Tue Apr  5 12:24:13 2016\n"
     ]
    }
   ],
   "source": [
    "#-----------------------------------------------------------------\n",
    "#-----------------------------------------------------------------\n",
    "# read data\n",
    "#-----------------------------------------------------------------\n",
    "if read_indicator:\n",
    "    indicator = pickle_read(datapath, MagicNumber, \n",
    "        'indicator_wStats.pickle', \n",
    "        'Reading Indicator data')\n",
    "\n",
    "if read_order:\n",
    "    orders = pickle_read(datapath, MagicNumber, \n",
    "        'orders_wStats.pickle', \n",
    "        'Reading Order data')\n",
    "\n",
    "if read_history:\n",
    "    history = pickle_read(datapath, MagicNumber, \n",
    "        'history_wStats.pickle', \n",
    "        'Reading History data')\n",
    "\n",
    "OER = pickle_read(datapath, MagicNumber, \n",
    "      'Optimization Evaluation Results.pickle', \n",
    "      'Reading OER data')\n"
   ]
  },
  {
   "cell_type": "code",
   "execution_count": 5,
   "metadata": {
    "collapsed": false
   },
   "outputs": [
    {
     "data": {
      "text/plain": [
       "Index(['DateTime', 'Seconds', 'SMA30', 'SMA40', 'SMA50', 'SMA60', 'STD50',\n",
       "       'ATR25', 'MOM25', 'RSI14', 'SMA30-Roll_Mean', 'SMA30-Roll_std',\n",
       "       'SMA30-Roll_var', 'SMA40-Roll_Mean', 'SMA40-Roll_std', 'SMA40-Roll_var',\n",
       "       'SMA50-Roll_Mean', 'SMA50-Roll_std', 'SMA50-Roll_var',\n",
       "       'SMA60-Roll_Mean', 'SMA60-Roll_std', 'SMA60-Roll_var',\n",
       "       'STD50-Roll_Mean', 'STD50-Roll_std', 'STD50-Roll_var',\n",
       "       'ATR25-Roll_Mean', 'ATR25-Roll_std', 'ATR25-Roll_var',\n",
       "       'MOM25-Roll_Mean', 'MOM25-Roll_std', 'MOM25-Roll_var',\n",
       "       'RSI14-Roll_Mean', 'RSI14-Roll_std', 'RSI14-Roll_var'],\n",
       "      dtype='object')"
      ]
     },
     "execution_count": 5,
     "metadata": {},
     "output_type": "execute_result"
    }
   ],
   "source": [
    "indicator.columns"
   ]
  },
  {
   "cell_type": "code",
   "execution_count": 6,
   "metadata": {
    "collapsed": true
   },
   "outputs": [],
   "source": [
    "indicator.set_index('DateTime', inplace=True)"
   ]
  },
  {
   "cell_type": "code",
   "execution_count": 24,
   "metadata": {
    "collapsed": false
   },
   "outputs": [],
   "source": [
    "def plot_data(ind, period, data):\n",
    "    everymonth = MonthLocator(range(1, 13), bymonthday=1, interval=1)\n",
    "    months = MonthLocator(range(1, 13), bymonthday=1, interval=1)\n",
    "    monthsFmt = DateFormatter(\"%b '%y\")\n",
    "    \n",
    "    title = ind + ' ' + period\n",
    "    prefix = ind + period\n",
    "    cols = [prefix, prefix + '-Roll_Mean', prefix + '-Roll_std',prefix + '-Roll_var']\n",
    "    fig, axes  = plt.subplots(5,1,sharex='all')  # create a figure with 4 subplots and shared x axis\n",
    "    fig.text(.5,.95,title)  # position the title of the figure\n",
    "    fig.autofmt_xdate()\n",
    "    \n",
    "    def plot_axes(ax, c):   # plot data on each subplot\n",
    "        ax.xaxis.set_major_locator(months)\n",
    "        ax.xaxis.set_major_formatter(monthsFmt)\n",
    "        ax.xaxis.set_minor_locator(everymonth)\n",
    "        ax.autoscale_view()\n",
    "        ax.grid(True)\n",
    "        ax.grid(axis='x', which='major', color='black', linestyle='-')\n",
    "        ax.grid(which='minor', color='black')\n",
    "        ax.plot_date(data.index, data[cols[c]], '-')\n",
    "\n",
    "\n",
    "    ax1, ax2, ax3, ax4, ax5 = axes\n",
    "    plot_axes(ax1, 0)\n",
    "    ax1.set_ylabel(title)  # set title of main data\n",
    "    \n",
    "    plot_axes(ax2, 1)\n",
    "    ax2.set_ylabel('Roll-Mean') # set tile of other subplots based on statistical data being used\n",
    "    \n",
    "    plot_axes(ax3, 2)\n",
    "    ax3.set_ylabel('Roll-Std')\n",
    "    \n",
    "    plot_axes(ax4, 3)\n",
    "    ax4.set_ylabel('Roll-Var')\n",
    "    \n",
    "    ax5.set_ylabel('Balance')\n",
    "    \n",
    "    plot_start = datetime.datetime(2015, 5, 1)  #set start and end time for charts\n",
    "    plot_end = datetime.datetime(2015, 8, 30)\n",
    "    plt.xlim([plot_start, plot_end])  # limit chart to start and end times\n",
    "\n",
    "    #plt.show()"
   ]
  },
  {
   "cell_type": "code",
   "execution_count": 25,
   "metadata": {
    "collapsed": false
   },
   "outputs": [
    {
     "data": {
      "text/plain": [
       "[<matplotlib.lines.Line2D at 0xa5b97b8>]"
      ]
     },
     "execution_count": 25,
     "metadata": {},
     "output_type": "execute_result"
    }
   ],
   "source": [
    "plot_data('SMA', '40', indicator)\n",
    "plt.plot_date(OER.index, OER.Balance, '-')\n"
   ]
  },
  {
   "cell_type": "code",
   "execution_count": 26,
   "metadata": {
    "collapsed": false
   },
   "outputs": [],
   "source": [
    "plt.show()"
   ]
  },
  {
   "cell_type": "code",
   "execution_count": null,
   "metadata": {
    "collapsed": true
   },
   "outputs": [],
   "source": []
  }
 ],
 "metadata": {
  "kernelspec": {
   "display_name": "Python 3",
   "language": "python",
   "name": "python3"
  },
  "language_info": {
   "codemirror_mode": {
    "name": "ipython",
    "version": 3
   },
   "file_extension": ".py",
   "mimetype": "text/x-python",
   "name": "python",
   "nbconvert_exporter": "python",
   "pygments_lexer": "ipython3",
   "version": "3.5.1"
  }
 },
 "nbformat": 4,
 "nbformat_minor": 0
}
