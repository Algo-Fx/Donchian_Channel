{
 "cells": [
  {
   "cell_type": "code",
   "execution_count": 1,
   "metadata": {
    "collapsed": false
   },
   "outputs": [
    {
     "name": "stdout",
     "output_type": "stream",
     "text": [
      "system:  3.5.1 |Anaconda 2.4.1 (64-bit)| (default, Dec  7 2015, 15:00:12) [MSC v.1900 64 bit (AMD64)]\n",
      "numpy:  1.10.1\n",
      "panda:  0.17.1\n"
     ]
    }
   ],
   "source": [
    "import sys\n",
    "import numpy as np\n",
    "import pandas as pd\n",
    "import os.path\n",
    "import time\n",
    "from Functions import datapath, read_history, read_order, MagicNumber, pickle_write, pickle_read\n",
    "\n",
    "print('system: ', sys.version)\n",
    "print('numpy: ', np.__version__)\n",
    "print('panda: ', pd.__version__)"
   ]
  },
  {
   "cell_type": "code",
   "execution_count": 2,
   "metadata": {
    "collapsed": false
   },
   "outputs": [
    {
     "name": "stdout",
     "output_type": "stream",
     "text": [
      "Reading Order data\n",
      "-> reading -- data/160001_order_M_indicator.pickle\n",
      "       mod -- Wed Feb 24 16:14:50 2016\n"
     ]
    }
   ],
   "source": [
    "#-----------------------------------------------------------------\n",
    "#-----------------------------------------------------------------\n",
    "# read data\n",
    "#-----------------------------------------------------------------\n",
    "if read_order:\n",
    "    orders = pickle_read(datapath, MagicNumber, \n",
    "        'order_M_indicator.pickle', \n",
    "        'Reading Order data')\n",
    "\n",
    "if read_history:\n",
    "    history = pickle_read(datapath, MagicNumber, \n",
    "        'history_M_Indicator.pickle', \n",
    "        'Reading History data')"
   ]
  },
  {
   "cell_type": "code",
   "execution_count": 3,
   "metadata": {
    "collapsed": false
   },
   "outputs": [
    {
     "name": "stdout",
     "output_type": "stream",
     "text": [
      "Correlating Order Data\n"
     ]
    }
   ],
   "source": [
    "#-----------------------------------------------------------------\n",
    "#-----------------------------------------------------------------\n",
    "# correlate data\n",
    "#-----------------------------------------------------------------\n",
    "if read_order:\n",
    "    print('Correlating Order Data')\n",
    "    order_cor = orders.corr()\n",
    "\n",
    "if read_history:\n",
    "    print('Correlating History Data')\n",
    "    history_cor = history.corr()\n"
   ]
  },
  {
   "cell_type": "code",
   "execution_count": 4,
   "metadata": {
    "collapsed": false
   },
   "outputs": [
    {
     "name": "stdout",
     "output_type": "stream",
     "text": [
      "['Seconds_x', 'Ticket', 'Profit', 'Lots', 'Open Price', 'StopLoss', 'TakeProfit', 'Close Price', 'Commission', 'Swap', 'Open Price-Roll_Mean', 'Open Price-Roll_std', 'Open Price-Roll_var', 'Close Price-Roll_Mean', 'Close Price-Roll_std', 'Close Price-Roll_var', 'Profit-Roll_Mean', 'Profit-Roll_std', 'Profit-Roll_var', 'Seconds_y', 'DOCR16', 'DOCT16', 'DOCS16', 'SMA25', 'SMA50', 'SMA100', 'EMA25', 'EMA50', 'EMA100', 'MACD_MAIN', 'MACD_SIGNAL', 'STD50', 'ATR25', 'MOM25', 'RSI7', 'RSI14', 'RSI30', 'DOCS16-Roll_Mean', 'DOCS16-Roll_std', 'DOCS16-Roll_var', 'SMA25-Roll_Mean', 'SMA25-Roll_std', 'SMA25-Roll_var', 'SMA50-Roll_Mean', 'SMA50-Roll_std', 'SMA50-Roll_var', 'SMA100-Roll_Mean', 'SMA100-Roll_std', 'SMA100-Roll_var', 'EMA25-Roll_Mean', 'EMA25-Roll_std', 'EMA25-Roll_var', 'EMA50-Roll_Mean', 'EMA50-Roll_std', 'EMA50-Roll_var', 'EMA100-Roll_Mean', 'EMA100-Roll_std', 'EMA100-Roll_var', 'MACD_MAIN-Roll_Mean', 'MACD_MAIN-Roll_std', 'MACD_MAIN-Roll_var', 'MACD_SIGNAL-Roll_Mean', 'MACD_SIGNAL-Roll_std', 'MACD_SIGNAL-Roll_var', 'STD50-Roll_Mean', 'STD50-Roll_std', 'STD50-Roll_var', 'ATR25-Roll_Mean', 'ATR25-Roll_std', 'ATR25-Roll_var', 'MOM25-Roll_Mean', 'MOM25-Roll_std', 'MOM25-Roll_var', 'RSI7-Roll_Mean', 'RSI7-Roll_std', 'RSI7-Roll_var', 'RSI14-Roll_Mean', 'RSI14-Roll_std', 'RSI14-Roll_var', 'RSI30-Roll_Mean', 'RSI30-Roll_std', 'RSI30-Roll_var']\n"
     ]
    }
   ],
   "source": [
    "print(list(order_cor.columns.values))"
   ]
  },
  {
   "cell_type": "code",
   "execution_count": 5,
   "metadata": {
    "collapsed": false
   },
   "outputs": [
    {
     "name": "stdout",
     "output_type": "stream",
     "text": [
      "                       Open Price  Close Price    Profit\n",
      "DOCS16                   0.999205     0.997800  0.017191\n",
      "SMA25                    0.999084     0.997699  0.016354\n",
      "SMA50                    0.998714     0.997355  0.016695\n",
      "SMA100                   0.997840     0.996463  0.017223\n",
      "EMA25                    0.999226     0.997853  0.016421\n",
      "EMA50                    0.998882     0.997508  0.016696\n",
      "EMA100                   0.998216     0.996837  0.017194\n",
      "MACD_MAIN                0.037357     0.036130  0.017755\n",
      "MACD_SIGNAL              0.024232     0.025509  0.009039\n",
      "DOCS16-Roll_Mean         0.998800     0.997380  0.016936\n",
      "DOCS16-Roll_std          0.024683     0.023080  0.022962\n",
      "DOCS16-Roll_var          0.037767     0.036487  0.015815\n",
      "SMA25-Roll_Mean          0.998853     0.997472  0.016945\n",
      "SMA50-Roll_Mean          0.998468     0.997101  0.017330\n",
      "SMA100-Roll_Mean         0.997581     0.996198  0.017865\n",
      "EMA25-Roll_Mean          0.998919     0.997529  0.017089\n",
      "EMA50-Roll_Mean          0.998612     0.997230  0.017336\n",
      "EMA100-Roll_Mean         0.997951     0.996565  0.017821\n",
      "MACD_MAIN-Roll_Mean      0.029110     0.030609  0.008109\n",
      "MACD_MAIN-Roll_var       0.005868     0.007328  0.019645\n",
      "MACD_SIGNAL-Roll_Mean    0.026690     0.028326  0.008511\n",
      "ATR25-Roll_var           0.010231     0.010067 -0.030177\n",
      "RSI7-Roll_std            0.016452     0.015748 -0.004791\n",
      "RSI7-Roll_var            0.022277     0.021966 -0.005783\n",
      "RSI14-Roll_std           0.028075     0.027573 -0.008794\n",
      "RSI14-Roll_var           0.034789     0.034864 -0.016847\n",
      "RSI30-Roll_std           0.031307     0.031052 -0.014131\n",
      "RSI30-Roll_var           0.041196     0.041777 -0.022272\n"
     ]
    }
   ],
   "source": [
    "filter = (order_cor['Open Price'] > 0)\n",
    "print(order_cor[filter].ix[10:][['Open Price', 'Close Price', 'Profit']])"
   ]
  },
  {
   "cell_type": "code",
   "execution_count": 6,
   "metadata": {
    "collapsed": false
   },
   "outputs": [
    {
     "name": "stdout",
     "output_type": "stream",
     "text": [
      "                      Open Price  Close Price    Profit\n",
      "Seconds_y              -0.327928    -0.327122  0.005027\n",
      "STD50                  -0.041157    -0.041174  0.016959\n",
      "ATR25                  -0.062885    -0.062584 -0.003088\n",
      "MOM25                  -0.038510    -0.036513  0.005783\n",
      "RSI7                   -0.029157    -0.022532 -0.005268\n",
      "RSI14                  -0.040882    -0.034958 -0.009647\n",
      "RSI30                  -0.050904    -0.046468 -0.011816\n",
      "SMA25-Roll_std         -0.023773    -0.023946  0.030116\n",
      "SMA25-Roll_var         -0.009302    -0.010743  0.021476\n",
      "SMA50-Roll_std         -0.043098    -0.043142  0.038380\n",
      "SMA50-Roll_var         -0.028624    -0.029468  0.038095\n",
      "SMA100-Roll_std        -0.053798    -0.053703  0.021568\n",
      "SMA100-Roll_var        -0.036623    -0.036161  0.017905\n",
      "EMA25-Roll_std         -0.025455    -0.024778  0.017833\n",
      "EMA25-Roll_var         -0.013175    -0.013015  0.011718\n",
      "EMA50-Roll_std         -0.029395    -0.029037  0.028032\n",
      "EMA50-Roll_var         -0.018673    -0.019049  0.020224\n",
      "EMA100-Roll_std        -0.042434    -0.042030  0.027657\n",
      "EMA100-Roll_var        -0.027459    -0.027513  0.022024\n",
      "MACD_MAIN-Roll_std     -0.024862    -0.023868  0.004654\n",
      "MACD_SIGNAL-Roll_std   -0.040656    -0.040182  0.012215\n",
      "MACD_SIGNAL-Roll_var   -0.008124    -0.008402  0.007405\n",
      "STD50-Roll_Mean        -0.051212    -0.051256  0.021551\n",
      "STD50-Roll_std         -0.034072    -0.034326  0.025309\n",
      "STD50-Roll_var         -0.011773    -0.011506  0.038395\n",
      "ATR25-Roll_Mean        -0.073410    -0.073163 -0.005114\n",
      "ATR25-Roll_std         -0.002317    -0.002315 -0.027170\n",
      "MOM25-Roll_Mean        -0.023599    -0.025264 -0.008357\n",
      "MOM25-Roll_std         -0.056194    -0.056369 -0.019478\n",
      "MOM25-Roll_var         -0.021215    -0.022108 -0.016268\n",
      "RSI7-Roll_Mean         -0.041669    -0.040473 -0.022120\n",
      "RSI14-Roll_Mean        -0.041869    -0.042407 -0.019311\n",
      "RSI30-Roll_Mean        -0.038929    -0.039828 -0.015465\n"
     ]
    }
   ],
   "source": [
    "filter = (order_cor['Open Price'] < 0)\n",
    "print(order_cor[filter].ix[10:][['Open Price', 'Close Price', 'Profit']])"
   ]
  },
  {
   "cell_type": "code",
   "execution_count": null,
   "metadata": {
    "collapsed": true
   },
   "outputs": [],
   "source": []
  }
 ],
 "metadata": {
  "kernelspec": {
   "display_name": "Python 3",
   "language": "python",
   "name": "python3"
  },
  "language_info": {
   "codemirror_mode": {
    "name": "ipython",
    "version": 3
   },
   "file_extension": ".py",
   "mimetype": "text/x-python",
   "name": "python",
   "nbconvert_exporter": "python",
   "pygments_lexer": "ipython3",
   "version": "3.5.1"
  }
 },
 "nbformat": 4,
 "nbformat_minor": 0
}
