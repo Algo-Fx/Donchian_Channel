{
 "cells": [
  {
   "cell_type": "code",
   "execution_count": 1,
   "metadata": {
    "collapsed": false
   },
   "outputs": [
    {
     "name": "stdout",
     "output_type": "stream",
     "text": [
      "system:  3.5.1 |Anaconda 2.4.1 (64-bit)| (default, Dec  7 2015, 15:00:12) [MSC v.1900 64 bit (AMD64)]\n",
      "numpy:  1.10.1\n",
      "panda:  0.17.1\n"
     ]
    }
   ],
   "source": [
    "import sys\n",
    "import numpy as np\n",
    "import pandas as pd\n",
    "import os.path\n",
    "import time\n",
    "from Functions import datapath, read_history, read_order, MagicNumber, pickle_write, pickle_read\n",
    "\n",
    "print('system: ', sys.version)\n",
    "print('numpy: ', np.__version__)\n",
    "print('panda: ', pd.__version__)"
   ]
  },
  {
   "cell_type": "code",
   "execution_count": 2,
   "metadata": {
    "collapsed": false
   },
   "outputs": [
    {
     "data": {
      "text/plain": [
       "True"
      ]
     },
     "execution_count": 2,
     "metadata": {},
     "output_type": "execute_result"
    }
   ],
   "source": [
    "read_history"
   ]
  },
  {
   "cell_type": "code",
   "execution_count": 3,
   "metadata": {
    "collapsed": false
   },
   "outputs": [
    {
     "name": "stdout",
     "output_type": "stream",
     "text": [
      "Reading Order data\n",
      "-> reading -- data/160001_order_M_indicator.pickle\n",
      "       mod -- Thu Feb 25 12:23:43 2016\n",
      "Reading History data\n",
      "-> reading -- data/160001_history_M_Indicator.pickle\n",
      "       mod -- Thu Feb 25 12:23:38 2016\n"
     ]
    }
   ],
   "source": [
    "#-----------------------------------------------------------------\n",
    "#-----------------------------------------------------------------\n",
    "# read data\n",
    "#-----------------------------------------------------------------\n",
    "if read_order:\n",
    "    orders = pickle_read(datapath, MagicNumber, \n",
    "        'order_M_indicator.pickle', \n",
    "        'Reading Order data')\n",
    "\n",
    "if read_history:\n",
    "    history = pickle_read(datapath, MagicNumber, \n",
    "        'history_M_Indicator.pickle', \n",
    "        'Reading History data')"
   ]
  },
  {
   "cell_type": "code",
   "execution_count": 4,
   "metadata": {
    "collapsed": false
   },
   "outputs": [
    {
     "name": "stdout",
     "output_type": "stream",
     "text": [
      "Correlating Order Data\n",
      "Correlating History Data\n"
     ]
    }
   ],
   "source": [
    "#-----------------------------------------------------------------\n",
    "#-----------------------------------------------------------------\n",
    "# correlate data\n",
    "#-----------------------------------------------------------------\n",
    "if read_order:\n",
    "    print('Correlating Order Data')\n",
    "    order_cor = orders.corr()\n",
    "\n",
    "if read_history:\n",
    "    print('Correlating History Data')\n",
    "    history_cor = history.corr()\n"
   ]
  },
  {
   "cell_type": "code",
   "execution_count": 39,
   "metadata": {
    "collapsed": false
   },
   "outputs": [
    {
     "data": {
      "text/html": [
       "<div>\n",
       "<table border=\"1\" class=\"dataframe\">\n",
       "  <thead>\n",
       "    <tr style=\"text-align: right;\">\n",
       "      <th></th>\n",
       "      <th>Open</th>\n",
       "      <th>High</th>\n",
       "      <th>Low</th>\n",
       "      <th>Close</th>\n",
       "    </tr>\n",
       "  </thead>\n",
       "  <tbody>\n",
       "    <tr>\n",
       "      <th>Open</th>\n",
       "      <td>1.000000</td>\n",
       "      <td>0.999980</td>\n",
       "      <td>0.999982</td>\n",
       "      <td>0.999969</td>\n",
       "    </tr>\n",
       "    <tr>\n",
       "      <th>High</th>\n",
       "      <td>0.999980</td>\n",
       "      <td>1.000000</td>\n",
       "      <td>0.999966</td>\n",
       "      <td>0.999983</td>\n",
       "    </tr>\n",
       "    <tr>\n",
       "      <th>Low</th>\n",
       "      <td>0.999982</td>\n",
       "      <td>0.999966</td>\n",
       "      <td>1.000000</td>\n",
       "      <td>0.999982</td>\n",
       "    </tr>\n",
       "    <tr>\n",
       "      <th>Close</th>\n",
       "      <td>0.999969</td>\n",
       "      <td>0.999983</td>\n",
       "      <td>0.999982</td>\n",
       "      <td>1.000000</td>\n",
       "    </tr>\n",
       "    <tr>\n",
       "      <th>Open-Roll_Mean</th>\n",
       "      <td>0.999863</td>\n",
       "      <td>0.999842</td>\n",
       "      <td>0.999848</td>\n",
       "      <td>0.999835</td>\n",
       "    </tr>\n",
       "    <tr>\n",
       "      <th>Close-Roll_Mean</th>\n",
       "      <td>0.999888</td>\n",
       "      <td>0.999869</td>\n",
       "      <td>0.999874</td>\n",
       "      <td>0.999863</td>\n",
       "    </tr>\n",
       "    <tr>\n",
       "      <th>DOCR16</th>\n",
       "      <td>0.999753</td>\n",
       "      <td>0.999769</td>\n",
       "      <td>0.999701</td>\n",
       "      <td>0.999724</td>\n",
       "    </tr>\n",
       "    <tr>\n",
       "      <th>DOCT16</th>\n",
       "      <td>0.999883</td>\n",
       "      <td>0.999864</td>\n",
       "      <td>0.999867</td>\n",
       "      <td>0.999855</td>\n",
       "    </tr>\n",
       "    <tr>\n",
       "      <th>DOCS16</th>\n",
       "      <td>0.999777</td>\n",
       "      <td>0.999723</td>\n",
       "      <td>0.999797</td>\n",
       "      <td>0.999750</td>\n",
       "    </tr>\n",
       "    <tr>\n",
       "      <th>SMA25</th>\n",
       "      <td>0.999801</td>\n",
       "      <td>0.999780</td>\n",
       "      <td>0.999786</td>\n",
       "      <td>0.999774</td>\n",
       "    </tr>\n",
       "    <tr>\n",
       "      <th>SMA50</th>\n",
       "      <td>0.999574</td>\n",
       "      <td>0.999552</td>\n",
       "      <td>0.999560</td>\n",
       "      <td>0.999548</td>\n",
       "    </tr>\n",
       "    <tr>\n",
       "      <th>SMA100</th>\n",
       "      <td>0.999118</td>\n",
       "      <td>0.999094</td>\n",
       "      <td>0.999104</td>\n",
       "      <td>0.999092</td>\n",
       "    </tr>\n",
       "    <tr>\n",
       "      <th>EMA25</th>\n",
       "      <td>0.999857</td>\n",
       "      <td>0.999837</td>\n",
       "      <td>0.999842</td>\n",
       "      <td>0.999830</td>\n",
       "    </tr>\n",
       "    <tr>\n",
       "      <th>EMA50</th>\n",
       "      <td>0.999687</td>\n",
       "      <td>0.999665</td>\n",
       "      <td>0.999673</td>\n",
       "      <td>0.999661</td>\n",
       "    </tr>\n",
       "    <tr>\n",
       "      <th>EMA100</th>\n",
       "      <td>0.999344</td>\n",
       "      <td>0.999320</td>\n",
       "      <td>0.999330</td>\n",
       "      <td>0.999318</td>\n",
       "    </tr>\n",
       "    <tr>\n",
       "      <th>DOCS16-Roll_Mean</th>\n",
       "      <td>0.999634</td>\n",
       "      <td>0.999583</td>\n",
       "      <td>0.999651</td>\n",
       "      <td>0.999608</td>\n",
       "    </tr>\n",
       "    <tr>\n",
       "      <th>SMA25-Roll_Mean</th>\n",
       "      <td>0.999634</td>\n",
       "      <td>0.999612</td>\n",
       "      <td>0.999619</td>\n",
       "      <td>0.999608</td>\n",
       "    </tr>\n",
       "    <tr>\n",
       "      <th>SMA50-Roll_Mean</th>\n",
       "      <td>0.999402</td>\n",
       "      <td>0.999379</td>\n",
       "      <td>0.999388</td>\n",
       "      <td>0.999376</td>\n",
       "    </tr>\n",
       "    <tr>\n",
       "      <th>SMA100-Roll_Mean</th>\n",
       "      <td>0.998942</td>\n",
       "      <td>0.998917</td>\n",
       "      <td>0.998928</td>\n",
       "      <td>0.998916</td>\n",
       "    </tr>\n",
       "    <tr>\n",
       "      <th>EMA25-Roll_Mean</th>\n",
       "      <td>0.999690</td>\n",
       "      <td>0.999669</td>\n",
       "      <td>0.999676</td>\n",
       "      <td>0.999664</td>\n",
       "    </tr>\n",
       "    <tr>\n",
       "      <th>EMA50-Roll_Mean</th>\n",
       "      <td>0.999513</td>\n",
       "      <td>0.999491</td>\n",
       "      <td>0.999499</td>\n",
       "      <td>0.999487</td>\n",
       "    </tr>\n",
       "    <tr>\n",
       "      <th>EMA100-Roll_Mean</th>\n",
       "      <td>0.999167</td>\n",
       "      <td>0.999142</td>\n",
       "      <td>0.999154</td>\n",
       "      <td>0.999141</td>\n",
       "    </tr>\n",
       "  </tbody>\n",
       "</table>\n",
       "</div>"
      ],
      "text/plain": [
       "                      Open      High       Low     Close\n",
       "Open              1.000000  0.999980  0.999982  0.999969\n",
       "High              0.999980  1.000000  0.999966  0.999983\n",
       "Low               0.999982  0.999966  1.000000  0.999982\n",
       "Close             0.999969  0.999983  0.999982  1.000000\n",
       "Open-Roll_Mean    0.999863  0.999842  0.999848  0.999835\n",
       "Close-Roll_Mean   0.999888  0.999869  0.999874  0.999863\n",
       "DOCR16            0.999753  0.999769  0.999701  0.999724\n",
       "DOCT16            0.999883  0.999864  0.999867  0.999855\n",
       "DOCS16            0.999777  0.999723  0.999797  0.999750\n",
       "SMA25             0.999801  0.999780  0.999786  0.999774\n",
       "SMA50             0.999574  0.999552  0.999560  0.999548\n",
       "SMA100            0.999118  0.999094  0.999104  0.999092\n",
       "EMA25             0.999857  0.999837  0.999842  0.999830\n",
       "EMA50             0.999687  0.999665  0.999673  0.999661\n",
       "EMA100            0.999344  0.999320  0.999330  0.999318\n",
       "DOCS16-Roll_Mean  0.999634  0.999583  0.999651  0.999608\n",
       "SMA25-Roll_Mean   0.999634  0.999612  0.999619  0.999608\n",
       "SMA50-Roll_Mean   0.999402  0.999379  0.999388  0.999376\n",
       "SMA100-Roll_Mean  0.998942  0.998917  0.998928  0.998916\n",
       "EMA25-Roll_Mean   0.999690  0.999669  0.999676  0.999664\n",
       "EMA50-Roll_Mean   0.999513  0.999491  0.999499  0.999487\n",
       "EMA100-Roll_Mean  0.999167  0.999142  0.999154  0.999141"
      ]
     },
     "execution_count": 39,
     "metadata": {},
     "output_type": "execute_result"
    }
   ],
   "source": [
    "history_cor.query('High > 0.9 or Low > 0.9')[['Open', 'High', 'Low', 'Close']]"
   ]
  },
  {
   "cell_type": "code",
   "execution_count": null,
   "metadata": {
    "collapsed": true
   },
   "outputs": [],
   "source": []
  }
 ],
 "metadata": {
  "kernelspec": {
   "display_name": "Python 3",
   "language": "python",
   "name": "python3"
  },
  "language_info": {
   "codemirror_mode": {
    "name": "ipython",
    "version": 3
   },
   "file_extension": ".py",
   "mimetype": "text/x-python",
   "name": "python",
   "nbconvert_exporter": "python",
   "pygments_lexer": "ipython3",
   "version": "3.5.1"
  }
 },
 "nbformat": 4,
 "nbformat_minor": 0
}
