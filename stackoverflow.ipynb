{
 "cells": [
  {
   "cell_type": "code",
   "execution_count": 127,
   "metadata": {
    "collapsed": true
   },
   "outputs": [],
   "source": [
    "import pandas as pd\n",
    "import numpy as np"
   ]
  },
  {
   "cell_type": "code",
   "execution_count": 151,
   "metadata": {
    "collapsed": false
   },
   "outputs": [
    {
     "data": {
      "text/html": [
       "<div>\n",
       "<table border=\"1\" class=\"dataframe\">\n",
       "  <thead>\n",
       "    <tr style=\"text-align: right;\">\n",
       "      <th></th>\n",
       "      <th>BR</th>\n",
       "      <th>Close</th>\n",
       "      <th>High</th>\n",
       "      <th>Low</th>\n",
       "      <th>Open</th>\n",
       "      <th>Support</th>\n",
       "    </tr>\n",
       "  </thead>\n",
       "  <tbody>\n",
       "    <tr>\n",
       "      <th>0</th>\n",
       "      <td>False</td>\n",
       "      <td>1.20438</td>\n",
       "      <td>1.20447</td>\n",
       "      <td>1.20429</td>\n",
       "      <td>1.20443</td>\n",
       "      <td>1.20346</td>\n",
       "    </tr>\n",
       "    <tr>\n",
       "      <th>1</th>\n",
       "      <td>False</td>\n",
       "      <td>1.20466</td>\n",
       "      <td>1.20467</td>\n",
       "      <td>1.20436</td>\n",
       "      <td>1.20438</td>\n",
       "      <td>1.20346</td>\n",
       "    </tr>\n",
       "    <tr>\n",
       "      <th>2</th>\n",
       "      <td>True</td>\n",
       "      <td>1.20486</td>\n",
       "      <td>1.20497</td>\n",
       "      <td>1.20464</td>\n",
       "      <td>1.20464</td>\n",
       "      <td>1.20361</td>\n",
       "    </tr>\n",
       "    <tr>\n",
       "      <th>3</th>\n",
       "      <td>False</td>\n",
       "      <td>1.20439</td>\n",
       "      <td>1.20505</td>\n",
       "      <td>1.20439</td>\n",
       "      <td>1.20443</td>\n",
       "      <td>1.20363</td>\n",
       "    </tr>\n",
       "    <tr>\n",
       "      <th>4</th>\n",
       "      <td>True</td>\n",
       "      <td>1.20438</td>\n",
       "      <td>1.20446</td>\n",
       "      <td>1.20429</td>\n",
       "      <td>1.20443</td>\n",
       "      <td>1.20362</td>\n",
       "    </tr>\n",
       "    <tr>\n",
       "      <th>5</th>\n",
       "      <td>False</td>\n",
       "      <td>1.20497</td>\n",
       "      <td>1.20447</td>\n",
       "      <td>1.20441</td>\n",
       "      <td>1.20490</td>\n",
       "      <td>1.20364</td>\n",
       "    </tr>\n",
       "    <tr>\n",
       "      <th>6</th>\n",
       "      <td>True</td>\n",
       "      <td>1.20446</td>\n",
       "      <td>1.20446</td>\n",
       "      <td>1.20350</td>\n",
       "      <td>1.20444</td>\n",
       "      <td>1.20367</td>\n",
       "    </tr>\n",
       "    <tr>\n",
       "      <th>7</th>\n",
       "      <td>False</td>\n",
       "      <td>1.20439</td>\n",
       "      <td>1.20446</td>\n",
       "      <td>1.20439</td>\n",
       "      <td>1.20443</td>\n",
       "      <td>1.20360</td>\n",
       "    </tr>\n",
       "  </tbody>\n",
       "</table>\n",
       "</div>"
      ],
      "text/plain": [
       "      BR    Close     High      Low     Open  Support\n",
       "0  False  1.20438  1.20447  1.20429  1.20443  1.20346\n",
       "1  False  1.20466  1.20467  1.20436  1.20438  1.20346\n",
       "2   True  1.20486  1.20497  1.20464  1.20464  1.20361\n",
       "3  False  1.20439  1.20505  1.20439  1.20443  1.20363\n",
       "4   True  1.20438  1.20446  1.20429  1.20443  1.20362\n",
       "5  False  1.20497  1.20447  1.20441  1.20490  1.20364\n",
       "6   True  1.20446  1.20446  1.20350  1.20444  1.20367\n",
       "7  False  1.20439  1.20446  1.20439  1.20443  1.20360"
      ]
     },
     "execution_count": 151,
     "metadata": {},
     "output_type": "execute_result"
    }
   ],
   "source": [
    "df = pd.DataFrame({'Open': [1.20443, 1.20438, 1.20464, 1.20443, 1.20443, 1.2049, 1.20444, 1.20443],\n",
    "                   'High': [1.20447, 1.20467, 1.20497, 1.20505, 1.20446, 1.20447, 1.20446, 1.20446],\n",
    "                   'Low':  [1.20429, 1.20436, 1.20464, 1.20439, 1.20429, 1.20441, 1.20350, 1.20439],\n",
    "                   'Close': [1.20438, 1.20466, 1.20486, 1.20439, 1.20438, 1.20497, 1.20446, 1.20439],\n",
    "                   'Support': [1.20346, 1.20346, 1.20361, 1.20363, 1.20362, 1.20364, 1.20367, 1.20360],\n",
    "                   'BR': [False, False, True, False, True, False, True, False]})\n",
    "df"
   ]
  },
  {
   "cell_type": "code",
   "execution_count": 152,
   "metadata": {
    "collapsed": false
   },
   "outputs": [
    {
     "data": {
      "text/html": [
       "<div>\n",
       "<table border=\"1\" class=\"dataframe\">\n",
       "  <thead>\n",
       "    <tr style=\"text-align: right;\">\n",
       "      <th></th>\n",
       "      <th>BR</th>\n",
       "      <th>Close</th>\n",
       "      <th>High</th>\n",
       "      <th>Low</th>\n",
       "      <th>Open</th>\n",
       "      <th>Support</th>\n",
       "      <th>Support_sft</th>\n",
       "    </tr>\n",
       "  </thead>\n",
       "  <tbody>\n",
       "    <tr>\n",
       "      <th>0</th>\n",
       "      <td>False</td>\n",
       "      <td>1.20438</td>\n",
       "      <td>1.20447</td>\n",
       "      <td>1.20429</td>\n",
       "      <td>1.20443</td>\n",
       "      <td>1.20346</td>\n",
       "      <td>NaN</td>\n",
       "    </tr>\n",
       "    <tr>\n",
       "      <th>1</th>\n",
       "      <td>False</td>\n",
       "      <td>1.20466</td>\n",
       "      <td>1.20467</td>\n",
       "      <td>1.20436</td>\n",
       "      <td>1.20438</td>\n",
       "      <td>1.20346</td>\n",
       "      <td>1.20346</td>\n",
       "    </tr>\n",
       "    <tr>\n",
       "      <th>2</th>\n",
       "      <td>True</td>\n",
       "      <td>1.20486</td>\n",
       "      <td>1.20497</td>\n",
       "      <td>1.20464</td>\n",
       "      <td>1.20464</td>\n",
       "      <td>1.20361</td>\n",
       "      <td>1.20346</td>\n",
       "    </tr>\n",
       "    <tr>\n",
       "      <th>3</th>\n",
       "      <td>False</td>\n",
       "      <td>1.20439</td>\n",
       "      <td>1.20505</td>\n",
       "      <td>1.20439</td>\n",
       "      <td>1.20443</td>\n",
       "      <td>1.20363</td>\n",
       "      <td>1.20361</td>\n",
       "    </tr>\n",
       "    <tr>\n",
       "      <th>4</th>\n",
       "      <td>True</td>\n",
       "      <td>1.20438</td>\n",
       "      <td>1.20446</td>\n",
       "      <td>1.20429</td>\n",
       "      <td>1.20443</td>\n",
       "      <td>1.20362</td>\n",
       "      <td>1.20363</td>\n",
       "    </tr>\n",
       "    <tr>\n",
       "      <th>5</th>\n",
       "      <td>False</td>\n",
       "      <td>1.20497</td>\n",
       "      <td>1.20447</td>\n",
       "      <td>1.20441</td>\n",
       "      <td>1.20490</td>\n",
       "      <td>1.20364</td>\n",
       "      <td>1.20362</td>\n",
       "    </tr>\n",
       "    <tr>\n",
       "      <th>6</th>\n",
       "      <td>True</td>\n",
       "      <td>1.20446</td>\n",
       "      <td>1.20446</td>\n",
       "      <td>1.20350</td>\n",
       "      <td>1.20444</td>\n",
       "      <td>1.20367</td>\n",
       "      <td>1.20364</td>\n",
       "    </tr>\n",
       "    <tr>\n",
       "      <th>7</th>\n",
       "      <td>False</td>\n",
       "      <td>1.20439</td>\n",
       "      <td>1.20446</td>\n",
       "      <td>1.20439</td>\n",
       "      <td>1.20443</td>\n",
       "      <td>1.20360</td>\n",
       "      <td>1.20367</td>\n",
       "    </tr>\n",
       "  </tbody>\n",
       "</table>\n",
       "</div>"
      ],
      "text/plain": [
       "      BR    Close     High      Low     Open  Support  Support_sft\n",
       "0  False  1.20438  1.20447  1.20429  1.20443  1.20346          NaN\n",
       "1  False  1.20466  1.20467  1.20436  1.20438  1.20346      1.20346\n",
       "2   True  1.20486  1.20497  1.20464  1.20464  1.20361      1.20346\n",
       "3  False  1.20439  1.20505  1.20439  1.20443  1.20363      1.20361\n",
       "4   True  1.20438  1.20446  1.20429  1.20443  1.20362      1.20363\n",
       "5  False  1.20497  1.20447  1.20441  1.20490  1.20364      1.20362\n",
       "6   True  1.20446  1.20446  1.20350  1.20444  1.20367      1.20364\n",
       "7  False  1.20439  1.20446  1.20439  1.20443  1.20360      1.20367"
      ]
     },
     "execution_count": 152,
     "metadata": {},
     "output_type": "execute_result"
    }
   ],
   "source": [
    "df['Support_sft'] = df.Support.shift(1)\n",
    "df"
   ]
  },
  {
   "cell_type": "code",
   "execution_count": 153,
   "metadata": {
    "collapsed": false
   },
   "outputs": [
    {
     "data": {
      "text/plain": [
       "(array([2, 4, 6], dtype=int64),)"
      ]
     },
     "execution_count": 153,
     "metadata": {},
     "output_type": "execute_result"
    }
   ],
   "source": [
    "np.where(df['BR'] == True)"
   ]
  },
  {
   "cell_type": "code",
   "execution_count": 154,
   "metadata": {
    "collapsed": false
   },
   "outputs": [
    {
     "data": {
      "text/html": [
       "<div>\n",
       "<table border=\"1\" class=\"dataframe\">\n",
       "  <thead>\n",
       "    <tr style=\"text-align: right;\">\n",
       "      <th></th>\n",
       "      <th>BR</th>\n",
       "      <th>Low</th>\n",
       "    </tr>\n",
       "  </thead>\n",
       "  <tbody>\n",
       "    <tr>\n",
       "      <th>2</th>\n",
       "      <td>True</td>\n",
       "      <td>1.20464</td>\n",
       "    </tr>\n",
       "    <tr>\n",
       "      <th>4</th>\n",
       "      <td>True</td>\n",
       "      <td>1.20429</td>\n",
       "    </tr>\n",
       "    <tr>\n",
       "      <th>6</th>\n",
       "      <td>True</td>\n",
       "      <td>1.20350</td>\n",
       "    </tr>\n",
       "  </tbody>\n",
       "</table>\n",
       "</div>"
      ],
      "text/plain": [
       "     BR      Low\n",
       "2  True  1.20464\n",
       "4  True  1.20429\n",
       "6  True  1.20350"
      ]
     },
     "execution_count": 154,
     "metadata": {},
     "output_type": "execute_result"
    }
   ],
   "source": [
    "df[(df['BR'] == True)][['BR','Low']]"
   ]
  },
  {
   "cell_type": "code",
   "execution_count": 256,
   "metadata": {
    "collapsed": false
   },
   "outputs": [
    {
     "name": "stdout",
     "output_type": "stream",
     "text": [
      "2    1.20497\n",
      "Name: High, dtype: float64\n",
      "-------\n",
      "PROFIT at index 4\n",
      "Loss at index 1\n",
      "LOSS\n",
      "4    1.20446\n",
      "Name: High, dtype: float64\n",
      "-------\n",
      "PROFIT at index 2\n",
      "no loss found\n",
      "LOSS\n",
      "6    1.20446\n",
      "Name: High, dtype: float64\n",
      "-------\n",
      "PROFIT at index 0\n",
      "no loss found\n",
      "PROFIT\n"
     ]
    }
   ],
   "source": [
    "ind = np.where(df['BR'] == True)\n",
    "for i in np.nditer(ind):\n",
    "    subdf = df.loc[int(i):]\n",
    "    print(subdf.High[0:1])\n",
    "    ind2 = np.where(subdf.Low <= subdf.Support_sft)\n",
    "    ind3 = np.where(subdf.High > 1.20500)\n",
    "    print('-------')\n",
    "    try:\n",
    "        for j in np.nditer(ind2):\n",
    "            print('PROFIT at index', j)\n",
    "    except ValueError:\n",
    "        print('no profit found')\n",
    "    try:\n",
    "        for k in np.nditer(ind3):\n",
    "            print('Loss at index', k)\n",
    "    except ValueError:\n",
    "        print('no loss found')\n",
    "    if j.min() < k.min():\n",
    "        print('PROFIT')\n",
    "    if k.min() < j.min():\n",
    "        print('LOSS')"
   ]
  },
  {
   "cell_type": "code",
   "execution_count": 251,
   "metadata": {
    "collapsed": false
   },
   "outputs": [],
   "source": [
    "def f():\n",
    "    print(df.High)\n",
    "    return df.High - df.Low, 'hello'"
   ]
  },
  {
   "cell_type": "code",
   "execution_count": 252,
   "metadata": {
    "collapsed": false
   },
   "outputs": [
    {
     "name": "stdout",
     "output_type": "stream",
     "text": [
      "0    1.20447\n",
      "1    1.20467\n",
      "2    1.20497\n",
      "3    1.20505\n",
      "4    1.20446\n",
      "5    1.20447\n",
      "6    1.20446\n",
      "7    1.20446\n",
      "Name: High, dtype: float64\n"
     ]
    }
   ],
   "source": [
    "df['test1'], df['test2'] = f()"
   ]
  },
  {
   "cell_type": "code",
   "execution_count": 245,
   "metadata": {
    "collapsed": false
   },
   "outputs": [
    {
     "data": {
      "text/html": [
       "<div>\n",
       "<table border=\"1\" class=\"dataframe\">\n",
       "  <thead>\n",
       "    <tr style=\"text-align: right;\">\n",
       "      <th></th>\n",
       "      <th>BR</th>\n",
       "      <th>Close</th>\n",
       "      <th>High</th>\n",
       "      <th>Low</th>\n",
       "      <th>Open</th>\n",
       "      <th>Support</th>\n",
       "      <th>Support_sft</th>\n",
       "      <th>test1</th>\n",
       "      <th>test2</th>\n",
       "    </tr>\n",
       "  </thead>\n",
       "  <tbody>\n",
       "    <tr>\n",
       "      <th>0</th>\n",
       "      <td>False</td>\n",
       "      <td>1.20438</td>\n",
       "      <td>1.20447</td>\n",
       "      <td>1.20429</td>\n",
       "      <td>1.20443</td>\n",
       "      <td>1.20346</td>\n",
       "      <td>NaN</td>\n",
       "      <td>0.00018</td>\n",
       "      <td>hello</td>\n",
       "    </tr>\n",
       "    <tr>\n",
       "      <th>1</th>\n",
       "      <td>False</td>\n",
       "      <td>1.20466</td>\n",
       "      <td>1.20467</td>\n",
       "      <td>1.20436</td>\n",
       "      <td>1.20438</td>\n",
       "      <td>1.20346</td>\n",
       "      <td>1.20346</td>\n",
       "      <td>0.00031</td>\n",
       "      <td>hello</td>\n",
       "    </tr>\n",
       "    <tr>\n",
       "      <th>2</th>\n",
       "      <td>True</td>\n",
       "      <td>1.20486</td>\n",
       "      <td>1.20497</td>\n",
       "      <td>1.20464</td>\n",
       "      <td>1.20464</td>\n",
       "      <td>1.20361</td>\n",
       "      <td>1.20346</td>\n",
       "      <td>0.00033</td>\n",
       "      <td>hello</td>\n",
       "    </tr>\n",
       "    <tr>\n",
       "      <th>3</th>\n",
       "      <td>False</td>\n",
       "      <td>1.20439</td>\n",
       "      <td>1.20505</td>\n",
       "      <td>1.20439</td>\n",
       "      <td>1.20443</td>\n",
       "      <td>1.20363</td>\n",
       "      <td>1.20361</td>\n",
       "      <td>0.00066</td>\n",
       "      <td>hello</td>\n",
       "    </tr>\n",
       "    <tr>\n",
       "      <th>4</th>\n",
       "      <td>True</td>\n",
       "      <td>1.20438</td>\n",
       "      <td>1.20446</td>\n",
       "      <td>1.20429</td>\n",
       "      <td>1.20443</td>\n",
       "      <td>1.20362</td>\n",
       "      <td>1.20363</td>\n",
       "      <td>0.00017</td>\n",
       "      <td>hello</td>\n",
       "    </tr>\n",
       "    <tr>\n",
       "      <th>5</th>\n",
       "      <td>False</td>\n",
       "      <td>1.20497</td>\n",
       "      <td>1.20447</td>\n",
       "      <td>1.20441</td>\n",
       "      <td>1.20490</td>\n",
       "      <td>1.20364</td>\n",
       "      <td>1.20362</td>\n",
       "      <td>0.00006</td>\n",
       "      <td>hello</td>\n",
       "    </tr>\n",
       "    <tr>\n",
       "      <th>6</th>\n",
       "      <td>True</td>\n",
       "      <td>1.20446</td>\n",
       "      <td>1.20446</td>\n",
       "      <td>1.20350</td>\n",
       "      <td>1.20444</td>\n",
       "      <td>1.20367</td>\n",
       "      <td>1.20364</td>\n",
       "      <td>0.00096</td>\n",
       "      <td>hello</td>\n",
       "    </tr>\n",
       "    <tr>\n",
       "      <th>7</th>\n",
       "      <td>False</td>\n",
       "      <td>1.20439</td>\n",
       "      <td>1.20446</td>\n",
       "      <td>1.20439</td>\n",
       "      <td>1.20443</td>\n",
       "      <td>1.20360</td>\n",
       "      <td>1.20367</td>\n",
       "      <td>0.00007</td>\n",
       "      <td>hello</td>\n",
       "    </tr>\n",
       "  </tbody>\n",
       "</table>\n",
       "</div>"
      ],
      "text/plain": [
       "      BR    Close     High      Low     Open  Support  Support_sft    test1  \\\n",
       "0  False  1.20438  1.20447  1.20429  1.20443  1.20346          NaN  0.00018   \n",
       "1  False  1.20466  1.20467  1.20436  1.20438  1.20346      1.20346  0.00031   \n",
       "2   True  1.20486  1.20497  1.20464  1.20464  1.20361      1.20346  0.00033   \n",
       "3  False  1.20439  1.20505  1.20439  1.20443  1.20363      1.20361  0.00066   \n",
       "4   True  1.20438  1.20446  1.20429  1.20443  1.20362      1.20363  0.00017   \n",
       "5  False  1.20497  1.20447  1.20441  1.20490  1.20364      1.20362  0.00006   \n",
       "6   True  1.20446  1.20446  1.20350  1.20444  1.20367      1.20364  0.00096   \n",
       "7  False  1.20439  1.20446  1.20439  1.20443  1.20360      1.20367  0.00007   \n",
       "\n",
       "   test2  \n",
       "0  hello  \n",
       "1  hello  \n",
       "2  hello  \n",
       "3  hello  \n",
       "4  hello  \n",
       "5  hello  \n",
       "6  hello  \n",
       "7  hello  "
      ]
     },
     "execution_count": 245,
     "metadata": {},
     "output_type": "execute_result"
    }
   ],
   "source": [
    "df"
   ]
  },
  {
   "cell_type": "code",
   "execution_count": null,
   "metadata": {
    "collapsed": true
   },
   "outputs": [],
   "source": []
  }
 ],
 "metadata": {
  "kernelspec": {
   "display_name": "Python 3",
   "language": "python",
   "name": "python3"
  },
  "language_info": {
   "codemirror_mode": {
    "name": "ipython",
    "version": 3
   },
   "file_extension": ".py",
   "mimetype": "text/x-python",
   "name": "python",
   "nbconvert_exporter": "python",
   "pygments_lexer": "ipython3",
   "version": "3.5.1"
  }
 },
 "nbformat": 4,
 "nbformat_minor": 0
}
