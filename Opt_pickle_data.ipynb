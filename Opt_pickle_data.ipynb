{
 "cells": [
  {
   "cell_type": "code",
   "execution_count": 1,
   "metadata": {
    "collapsed": false
   },
   "outputs": [
    {
     "name": "stdout",
     "output_type": "stream",
     "text": [
      "system:  3.5.1 |Anaconda 2.4.1 (64-bit)| (default, Dec  7 2015, 15:00:12) [MSC v.1900 64 bit (AMD64)]\n",
      "numpy:  1.10.1\n",
      "panda:  0.17.1\n"
     ]
    }
   ],
   "source": [
    "import sys\n",
    "import numpy as np\n",
    "import pandas as pd\n",
    "import os.path\n",
    "import time\n",
    "import datetime\n",
    "import matplotlib.pyplot as plt\n",
    "from matplotlib.dates import MonthLocator, WeekdayLocator, DateFormatter\n",
    "from matplotlib.dates import MONDAY\n",
    "from Functions import datapath, read_history, read_indicator, read_order, MagicNumber, pickle_write, pickle_read\n",
    "\n",
    "print('system: ', sys.version)\n",
    "print('numpy: ', np.__version__)\n",
    "print('panda: ', pd.__version__)"
   ]
  },
  {
   "cell_type": "code",
   "execution_count": 7,
   "metadata": {
    "collapsed": false
   },
   "outputs": [
    {
     "name": "stdout",
     "output_type": "stream",
     "text": [
      "-> reading -- data/160002/Optimization Evaluation Results.csv\n",
      "       mod -- Tue Apr  5 12:16:17 2016\n"
     ]
    }
   ],
   "source": [
    "file = datapath + 'Optimization Evaluation Results.csv'\n",
    "print('-> reading -- ' + file)\n",
    "print(\"       mod -- %s\" % time.ctime(os.path.getmtime(file)))\n",
    "dataframe = pd.read_csv(file)\n",
    "dataframe['DateTime'] = pd.to_datetime(dataframe['DateTime'])\n",
    "dataframe.set_index('DateTime', inplace=True)"
   ]
  },
  {
   "cell_type": "code",
   "execution_count": 8,
   "metadata": {
    "collapsed": false
   },
   "outputs": [
    {
     "data": {
      "text/html": [
       "<div>\n",
       "<table border=\"1\" class=\"dataframe\">\n",
       "  <thead>\n",
       "    <tr style=\"text-align: right;\">\n",
       "      <th></th>\n",
       "      <th>Balance</th>\n",
       "    </tr>\n",
       "    <tr>\n",
       "      <th>DateTime</th>\n",
       "      <th></th>\n",
       "    </tr>\n",
       "  </thead>\n",
       "  <tbody>\n",
       "    <tr>\n",
       "      <th>2015-04-01 08:17:00</th>\n",
       "      <td>10023.1</td>\n",
       "    </tr>\n",
       "    <tr>\n",
       "      <th>2015-04-03 11:06:00</th>\n",
       "      <td>10038.0</td>\n",
       "    </tr>\n",
       "    <tr>\n",
       "      <th>2015-04-03 12:48:00</th>\n",
       "      <td>10048.4</td>\n",
       "    </tr>\n",
       "    <tr>\n",
       "      <th>2015-04-06 12:17:00</th>\n",
       "      <td>10051.9</td>\n",
       "    </tr>\n",
       "    <tr>\n",
       "      <th>2015-04-07 03:02:00</th>\n",
       "      <td>10000.7</td>\n",
       "    </tr>\n",
       "  </tbody>\n",
       "</table>\n",
       "</div>"
      ],
      "text/plain": [
       "                     Balance\n",
       "DateTime                    \n",
       "2015-04-01 08:17:00  10023.1\n",
       "2015-04-03 11:06:00  10038.0\n",
       "2015-04-03 12:48:00  10048.4\n",
       "2015-04-06 12:17:00  10051.9\n",
       "2015-04-07 03:02:00  10000.7"
      ]
     },
     "execution_count": 8,
     "metadata": {},
     "output_type": "execute_result"
    }
   ],
   "source": [
    "dataframe.head()"
   ]
  },
  {
   "cell_type": "code",
   "execution_count": 10,
   "metadata": {
    "collapsed": false
   },
   "outputs": [
    {
     "name": "stdout",
     "output_type": "stream",
     "text": [
      "Pickling OER Data\n",
      "-> writing -- data/160002/160002_Optimization Evaluation Results.pickle\n"
     ]
    }
   ],
   "source": [
    "pickle_write(dataframe, datapath, MagicNumber, \n",
    "        'Optimization Evaluation Results.pickle', \n",
    "        'Pickling OER Data')"
   ]
  },
  {
   "cell_type": "code",
   "execution_count": null,
   "metadata": {
    "collapsed": true
   },
   "outputs": [],
   "source": []
  }
 ],
 "metadata": {
  "kernelspec": {
   "display_name": "Python 3",
   "language": "python",
   "name": "python3"
  },
  "language_info": {
   "codemirror_mode": {
    "name": "ipython",
    "version": 3
   },
   "file_extension": ".py",
   "mimetype": "text/x-python",
   "name": "python",
   "nbconvert_exporter": "python",
   "pygments_lexer": "ipython3",
   "version": "3.5.1"
  }
 },
 "nbformat": 4,
 "nbformat_minor": 0
}
