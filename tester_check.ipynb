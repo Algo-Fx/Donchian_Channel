{
 "cells": [
  {
   "cell_type": "code",
   "execution_count": 1,
   "metadata": {
    "collapsed": false
   },
   "outputs": [
    {
     "name": "stdout",
     "output_type": "stream",
     "text": [
      "system:  3.5.1 |Anaconda 2.4.1 (64-bit)| (default, Dec  7 2015, 15:00:12) [MSC v.1900 64 bit (AMD64)]\n",
      "numpy:  1.10.1\n",
      "panda:  0.17.1\n"
     ]
    }
   ],
   "source": [
    "import sys\n",
    "import numpy as np\n",
    "import pandas as pd\n",
    "import functools\n",
    "print('system: ', sys.version)\n",
    "print('numpy: ', np.__version__)\n",
    "print('panda: ', pd.__version__)"
   ]
  },
  {
   "cell_type": "code",
   "execution_count": 2,
   "metadata": {
    "collapsed": false
   },
   "outputs": [
    {
     "name": "stdout",
     "output_type": "stream",
     "text": [
      "Reading Price data\n"
     ]
    },
    {
     "data": {
      "text/plain": [
       "Index(['DateTime', 'Seconds', 'Date', 'Time', 'Open', 'High', 'Low', 'Close',\n",
       "       'Ticks', 'Close-Roll_Mean',\n",
       "       ...\n",
       "       'RSI(7)-Roll_var', 'RSI(14)-Roll_Mean', 'RSI(14)-Roll_std',\n",
       "       'RSI(14)-Roll_var', 'RSI(30)-Roll_Mean', 'RSI(30)-Roll_std',\n",
       "       'RSI(30)-Roll_var', 'Break_Support', 'Break_Resistance', 'DOCS25_sft1'],\n",
       "      dtype='object', length=107)"
      ]
     },
     "execution_count": 2,
     "metadata": {},
     "output_type": "execute_result"
    }
   ],
   "source": [
    "print('Reading Price data')\n",
    "price_data = pd.read_pickle('data/history_M_Indicator.pickle')\n",
    "price_data['DOCS25_sft1'] = price_data['DOCS(25)'].shift(1)\n",
    "price_data.columns"
   ]
  },
  {
   "cell_type": "code",
   "execution_count": 3,
   "metadata": {
    "collapsed": false
   },
   "outputs": [],
   "source": [
    "BR = price_data[(price_data['Break_Resistance'] == True)][['DateTime',\n",
    "                                                   'Open', 'High', 'Low', 'Close',\n",
    "                                                   'DOCS(25)', 'DOCR(25)']]"
   ]
  },
  {
   "cell_type": "code",
   "execution_count": 14,
   "metadata": {
    "collapsed": false
   },
   "outputs": [],
   "source": [
    "br_test = price_data.head(10000).copy()"
   ]
  },
  {
   "cell_type": "code",
   "execution_count": 5,
   "metadata": {
    "collapsed": false
   },
   "outputs": [],
   "source": [
    "def check_profit_loss_SELL(df, BR):\n",
    "    sl = 50\n",
    "    tp = 50\n",
    "    point = 0.0001\n",
    "    xecn = 10\n",
    "    order_price = br_test.High\n",
    "    c = 0\n",
    "    #print('br:', BR)\n",
    "    if not BR:\n",
    "        SELL = 'NO ORDER'\n",
    "    else:\n",
    "        SELL = ''\n",
    "    while (SELL == ''):\n",
    "        ind = np.where(df.Break_Resistance == True)\n",
    "        \n",
    "        if SELL == '':\n",
    "            #print('s1--------------------------------------------')\n",
    "            for i in np.nditer(ind):\n",
    "                subdf = df.loc[int(i):]\n",
    "                #print(subdf[['DateTime', 'High', 'Low', 'DOCS(25)', 'DOCR(25)', 'DOCS25_sft1', \n",
    "                             #'Break_Support', 'Break_Resistance']])                \n",
    "                sl_sell = subdf.High.iloc[0] + (sl * point * xecn)\n",
    "                #print('ORDER PRICE', subdf.High.iloc[0], 'sl_sell', sl_sell)\n",
    "                # Break resistance, SELL check for profit\n",
    "                p = np.where(subdf.Low <= subdf.DOCS25_sft1)[0]\n",
    "                # Break resistance, SELL check for loss\n",
    "                l = np.where(subdf.High > sl_sell)[0]\n",
    "                #print('p', p, 'l', l)\n",
    "                if (p.size > 0) & (l.size > 0):\n",
    "                    if p.min() < l.min():\n",
    "                        SELL = 'PROFIT'\n",
    "                    if l.min() < p.min():\n",
    "                        SELL = 'LOSS'\n",
    "                elif (p.size > 0) & (l.size == 0):\n",
    "                    SELL = 'PROFIT'\n",
    "                elif (p.size == 0) & (l.size > 0):\n",
    "                    SELL = 'LOSS'\n",
    "                elif (p.size ==0 ) & (l.size == 0):\n",
    "                    SELL = 'UNK'\n",
    "                #input('Enter to continue SELL')\n",
    "    c += 1\n",
    "    #print('c=', c)\n",
    "    return SELL\n",
    "\n",
    "def check_profit_loss_BUY(df, BR):\n",
    "    sl = 50\n",
    "    tp = 50\n",
    "    point = 0.0001\n",
    "    xecn = 10\n",
    "    order_price = br_test.High\n",
    "    c = 0\n",
    "    #print('br:', BR)\n",
    "    if not BR:\n",
    "        BUY = 'NO ORDER'\n",
    "    else:\n",
    "        BUY = ''\n",
    "    while (BUY == ''):\n",
    "        ind = np.where(df.Break_Resistance == True)        \n",
    "        if BUY == '':\n",
    "            #print('b1--------------------------------------------')\n",
    "            for i in np.nditer(ind):\n",
    "                subdf = df.loc[int(i):]\n",
    "                #print(subdf[['DateTime', 'High', 'Low', 'DOCS(25)', 'DOCR(25)', 'DOCS25_sft1', \n",
    "                             #'Break_Support', 'Break_Resistance']])\n",
    "                tp_buy = subdf.High.iloc[0] + (tp * point * xecn)\n",
    "                sl_buy = subdf.High.iloc[0] - (sl * point * xecn)\n",
    "                #print('ORDER PRICE', subdf.High.iloc[0], 'tp_buy', tp_buy, 'sl_buy', sl_buy)\n",
    "                # Break resistance, BUY check for profit\n",
    "                p = np.where(subdf.High >= tp_buy)[0]\n",
    "                # Break resistance, BUY check for loss\n",
    "                l = np.where(subdf.Low <= sl_buy)[0]\n",
    "                #print('p', p, 'l', l)\n",
    "                if (p.size > 0) & (l.size > 0):\n",
    "                    if p.min() < l.min():\n",
    "                        BUY = 'PROFIT'\n",
    "                    if l.min() < p.min():\n",
    "                        BUY = 'LOSS'\n",
    "                elif (p.size > 0) & (l.size == 0):\n",
    "                    BUY = 'PROFIT'\n",
    "                elif (p.size == 0) & (l.size > 0):\n",
    "                    BUY = 'LOSS'\n",
    "                elif (p.size ==0 ) & (l.size == 0):\n",
    "                    BUY = 'UNK'\n",
    "                \n",
    "    c += 1\n",
    "    #print('c=', c)\n",
    "    return BUY"
   ]
  },
  {
   "cell_type": "code",
   "execution_count": 13,
   "metadata": {
    "collapsed": false
   },
   "outputs": [
    {
     "data": {
      "text/plain": [
       "366111"
      ]
     },
     "execution_count": 13,
     "metadata": {},
     "output_type": "execute_result"
    }
   ],
   "source": [
    "len(price_data)"
   ]
  },
  {
   "cell_type": "code",
   "execution_count": 15,
   "metadata": {
    "collapsed": false
   },
   "outputs": [
    {
     "name": "stdout",
     "output_type": "stream",
     "text": [
      "1 loops, best of 3: 23min 53s per loop\n"
     ]
    }
   ],
   "source": [
    "%timeit br_test['BR_BUY'] = list(map(functools.partial(check_profit_loss_BUY, br_test), br_test.Break_Resistance))"
   ]
  },
  {
   "cell_type": "code",
   "execution_count": 9,
   "metadata": {
    "collapsed": false
   },
   "outputs": [],
   "source": [
    "br_test['BR_SELL'] = list(map(functools.partial(check_profit_loss_SELL, br_test), br_test.Break_Resistance))"
   ]
  },
  {
   "cell_type": "code",
   "execution_count": 14,
   "metadata": {
    "collapsed": false
   },
   "outputs": [
    {
     "data": {
      "text/html": [
       "<div>\n",
       "<table border=\"1\" class=\"dataframe\">\n",
       "  <thead>\n",
       "    <tr style=\"text-align: right;\">\n",
       "      <th></th>\n",
       "      <th>DateTime</th>\n",
       "      <th>Seconds</th>\n",
       "      <th>Date</th>\n",
       "      <th>Time</th>\n",
       "      <th>Open</th>\n",
       "      <th>High</th>\n",
       "      <th>Low</th>\n",
       "      <th>Close</th>\n",
       "      <th>Ticks</th>\n",
       "      <th>Close-Roll_Mean</th>\n",
       "      <th>...</th>\n",
       "      <th>RSI(14)-Roll_std</th>\n",
       "      <th>RSI(14)-Roll_var</th>\n",
       "      <th>RSI(30)-Roll_Mean</th>\n",
       "      <th>RSI(30)-Roll_std</th>\n",
       "      <th>RSI(30)-Roll_var</th>\n",
       "      <th>Break_Support</th>\n",
       "      <th>Break_Resistance</th>\n",
       "      <th>DOCS25_sft1</th>\n",
       "      <th>BR_BUY</th>\n",
       "      <th>BR_SELL</th>\n",
       "    </tr>\n",
       "  </thead>\n",
       "  <tbody>\n",
       "    <tr>\n",
       "      <th>0</th>\n",
       "      <td>2015-01-02 08:00:00</td>\n",
       "      <td>1420185600</td>\n",
       "      <td>2015.01.02</td>\n",
       "      <td>08:00</td>\n",
       "      <td>1.20545</td>\n",
       "      <td>1.20545</td>\n",
       "      <td>1.20514</td>\n",
       "      <td>1.20516</td>\n",
       "      <td>31</td>\n",
       "      <td>NaN</td>\n",
       "      <td>...</td>\n",
       "      <td>NaN</td>\n",
       "      <td>NaN</td>\n",
       "      <td>NaN</td>\n",
       "      <td>NaN</td>\n",
       "      <td>NaN</td>\n",
       "      <td>False</td>\n",
       "      <td>False</td>\n",
       "      <td>NaN</td>\n",
       "      <td>NO ORDER</td>\n",
       "      <td>NO ORDER</td>\n",
       "    </tr>\n",
       "    <tr>\n",
       "      <th>1</th>\n",
       "      <td>2015-01-02 08:01:00</td>\n",
       "      <td>1420185660</td>\n",
       "      <td>2015.01.02</td>\n",
       "      <td>08:01</td>\n",
       "      <td>1.20516</td>\n",
       "      <td>1.20521</td>\n",
       "      <td>1.20503</td>\n",
       "      <td>1.20503</td>\n",
       "      <td>31</td>\n",
       "      <td>NaN</td>\n",
       "      <td>...</td>\n",
       "      <td>NaN</td>\n",
       "      <td>NaN</td>\n",
       "      <td>NaN</td>\n",
       "      <td>NaN</td>\n",
       "      <td>NaN</td>\n",
       "      <td>True</td>\n",
       "      <td>False</td>\n",
       "      <td>1.20545</td>\n",
       "      <td>NO ORDER</td>\n",
       "      <td>NO ORDER</td>\n",
       "    </tr>\n",
       "    <tr>\n",
       "      <th>2</th>\n",
       "      <td>2015-01-02 08:02:00</td>\n",
       "      <td>1420185720</td>\n",
       "      <td>2015.01.02</td>\n",
       "      <td>08:02</td>\n",
       "      <td>1.20503</td>\n",
       "      <td>1.20503</td>\n",
       "      <td>1.20468</td>\n",
       "      <td>1.20473</td>\n",
       "      <td>51</td>\n",
       "      <td>NaN</td>\n",
       "      <td>...</td>\n",
       "      <td>NaN</td>\n",
       "      <td>NaN</td>\n",
       "      <td>NaN</td>\n",
       "      <td>NaN</td>\n",
       "      <td>NaN</td>\n",
       "      <td>True</td>\n",
       "      <td>False</td>\n",
       "      <td>1.20514</td>\n",
       "      <td>NO ORDER</td>\n",
       "      <td>NO ORDER</td>\n",
       "    </tr>\n",
       "  </tbody>\n",
       "</table>\n",
       "<p>3 rows × 109 columns</p>\n",
       "</div>"
      ],
      "text/plain": [
       "             DateTime     Seconds        Date   Time     Open     High  \\\n",
       "0 2015-01-02 08:00:00  1420185600  2015.01.02  08:00  1.20545  1.20545   \n",
       "1 2015-01-02 08:01:00  1420185660  2015.01.02  08:01  1.20516  1.20521   \n",
       "2 2015-01-02 08:02:00  1420185720  2015.01.02  08:02  1.20503  1.20503   \n",
       "\n",
       "       Low    Close  Ticks  Close-Roll_Mean    ...     RSI(14)-Roll_std  \\\n",
       "0  1.20514  1.20516     31              NaN    ...                  NaN   \n",
       "1  1.20503  1.20503     31              NaN    ...                  NaN   \n",
       "2  1.20468  1.20473     51              NaN    ...                  NaN   \n",
       "\n",
       "   RSI(14)-Roll_var  RSI(30)-Roll_Mean  RSI(30)-Roll_std  RSI(30)-Roll_var  \\\n",
       "0               NaN                NaN               NaN               NaN   \n",
       "1               NaN                NaN               NaN               NaN   \n",
       "2               NaN                NaN               NaN               NaN   \n",
       "\n",
       "   Break_Support  Break_Resistance  DOCS25_sft1    BR_BUY   BR_SELL  \n",
       "0          False             False          NaN  NO ORDER  NO ORDER  \n",
       "1           True             False      1.20545  NO ORDER  NO ORDER  \n",
       "2           True             False      1.20514  NO ORDER  NO ORDER  \n",
       "\n",
       "[3 rows x 109 columns]"
      ]
     },
     "execution_count": 14,
     "metadata": {},
     "output_type": "execute_result"
    }
   ],
   "source": [
    "br_test.head(3)"
   ]
  },
  {
   "cell_type": "code",
   "execution_count": 13,
   "metadata": {
    "collapsed": false
   },
   "outputs": [
    {
     "data": {
      "text/html": [
       "<div>\n",
       "<table border=\"1\" class=\"dataframe\">\n",
       "  <thead>\n",
       "    <tr style=\"text-align: right;\">\n",
       "      <th></th>\n",
       "      <th>DateTime</th>\n",
       "      <th>Seconds</th>\n",
       "      <th>Date</th>\n",
       "      <th>Time</th>\n",
       "      <th>Open</th>\n",
       "      <th>High</th>\n",
       "      <th>Low</th>\n",
       "      <th>Close</th>\n",
       "      <th>Ticks</th>\n",
       "      <th>Close-Roll_Mean</th>\n",
       "      <th>...</th>\n",
       "      <th>RSI(14)-Roll_Mean</th>\n",
       "      <th>RSI(14)-Roll_std</th>\n",
       "      <th>RSI(14)-Roll_var</th>\n",
       "      <th>RSI(30)-Roll_Mean</th>\n",
       "      <th>RSI(30)-Roll_std</th>\n",
       "      <th>RSI(30)-Roll_var</th>\n",
       "      <th>Break_Support</th>\n",
       "      <th>Break_Resistance</th>\n",
       "      <th>DOCS25_sft1</th>\n",
       "      <th>BR_BUY</th>\n",
       "    </tr>\n",
       "    <tr>\n",
       "      <th>BR_SELL</th>\n",
       "      <th></th>\n",
       "      <th></th>\n",
       "      <th></th>\n",
       "      <th></th>\n",
       "      <th></th>\n",
       "      <th></th>\n",
       "      <th></th>\n",
       "      <th></th>\n",
       "      <th></th>\n",
       "      <th></th>\n",
       "      <th></th>\n",
       "      <th></th>\n",
       "      <th></th>\n",
       "      <th></th>\n",
       "      <th></th>\n",
       "      <th></th>\n",
       "      <th></th>\n",
       "      <th></th>\n",
       "      <th></th>\n",
       "      <th></th>\n",
       "      <th></th>\n",
       "    </tr>\n",
       "  </thead>\n",
       "  <tbody>\n",
       "    <tr>\n",
       "      <th>NO ORDER</th>\n",
       "      <td>82</td>\n",
       "      <td>82</td>\n",
       "      <td>82</td>\n",
       "      <td>82</td>\n",
       "      <td>82</td>\n",
       "      <td>82</td>\n",
       "      <td>82</td>\n",
       "      <td>82</td>\n",
       "      <td>82</td>\n",
       "      <td>68</td>\n",
       "      <td>...</td>\n",
       "      <td>68</td>\n",
       "      <td>68</td>\n",
       "      <td>68</td>\n",
       "      <td>68</td>\n",
       "      <td>68</td>\n",
       "      <td>68</td>\n",
       "      <td>82</td>\n",
       "      <td>82</td>\n",
       "      <td>81</td>\n",
       "      <td>82</td>\n",
       "    </tr>\n",
       "    <tr>\n",
       "      <th>PROFIT</th>\n",
       "      <td>18</td>\n",
       "      <td>18</td>\n",
       "      <td>18</td>\n",
       "      <td>18</td>\n",
       "      <td>18</td>\n",
       "      <td>18</td>\n",
       "      <td>18</td>\n",
       "      <td>18</td>\n",
       "      <td>18</td>\n",
       "      <td>18</td>\n",
       "      <td>...</td>\n",
       "      <td>18</td>\n",
       "      <td>18</td>\n",
       "      <td>18</td>\n",
       "      <td>18</td>\n",
       "      <td>18</td>\n",
       "      <td>18</td>\n",
       "      <td>18</td>\n",
       "      <td>18</td>\n",
       "      <td>18</td>\n",
       "      <td>18</td>\n",
       "    </tr>\n",
       "  </tbody>\n",
       "</table>\n",
       "<p>2 rows × 108 columns</p>\n",
       "</div>"
      ],
      "text/plain": [
       "          DateTime  Seconds  Date  Time  Open  High  Low  Close  Ticks  \\\n",
       "BR_SELL                                                                  \n",
       "NO ORDER        82       82    82    82    82    82   82     82     82   \n",
       "PROFIT          18       18    18    18    18    18   18     18     18   \n",
       "\n",
       "          Close-Roll_Mean   ...    RSI(14)-Roll_Mean  RSI(14)-Roll_std  \\\n",
       "BR_SELL                     ...                                          \n",
       "NO ORDER               68   ...                   68                68   \n",
       "PROFIT                 18   ...                   18                18   \n",
       "\n",
       "          RSI(14)-Roll_var  RSI(30)-Roll_Mean  RSI(30)-Roll_std  \\\n",
       "BR_SELL                                                           \n",
       "NO ORDER                68                 68                68   \n",
       "PROFIT                  18                 18                18   \n",
       "\n",
       "          RSI(30)-Roll_var  Break_Support  Break_Resistance  DOCS25_sft1  \\\n",
       "BR_SELL                                                                    \n",
       "NO ORDER                68             82                82           81   \n",
       "PROFIT                  18             18                18           18   \n",
       "\n",
       "          BR_BUY  \n",
       "BR_SELL           \n",
       "NO ORDER      82  \n",
       "PROFIT        18  \n",
       "\n",
       "[2 rows x 108 columns]"
      ]
     },
     "execution_count": 13,
     "metadata": {},
     "output_type": "execute_result"
    }
   ],
   "source": [
    "br_test.groupby('BR_SELL').count()"
   ]
  },
  {
   "cell_type": "code",
   "execution_count": 15,
   "metadata": {
    "collapsed": false
   },
   "outputs": [
    {
     "data": {
      "text/html": [
       "<div>\n",
       "<table border=\"1\" class=\"dataframe\">\n",
       "  <thead>\n",
       "    <tr style=\"text-align: right;\">\n",
       "      <th></th>\n",
       "      <th>DateTime</th>\n",
       "      <th>Seconds</th>\n",
       "      <th>Date</th>\n",
       "      <th>Time</th>\n",
       "      <th>Open</th>\n",
       "      <th>High</th>\n",
       "      <th>Low</th>\n",
       "      <th>Close</th>\n",
       "      <th>Ticks</th>\n",
       "      <th>Close-Roll_Mean</th>\n",
       "      <th>...</th>\n",
       "      <th>RSI(14)-Roll_Mean</th>\n",
       "      <th>RSI(14)-Roll_std</th>\n",
       "      <th>RSI(14)-Roll_var</th>\n",
       "      <th>RSI(30)-Roll_Mean</th>\n",
       "      <th>RSI(30)-Roll_std</th>\n",
       "      <th>RSI(30)-Roll_var</th>\n",
       "      <th>Break_Support</th>\n",
       "      <th>Break_Resistance</th>\n",
       "      <th>DOCS25_sft1</th>\n",
       "      <th>BR_SELL</th>\n",
       "    </tr>\n",
       "    <tr>\n",
       "      <th>BR_BUY</th>\n",
       "      <th></th>\n",
       "      <th></th>\n",
       "      <th></th>\n",
       "      <th></th>\n",
       "      <th></th>\n",
       "      <th></th>\n",
       "      <th></th>\n",
       "      <th></th>\n",
       "      <th></th>\n",
       "      <th></th>\n",
       "      <th></th>\n",
       "      <th></th>\n",
       "      <th></th>\n",
       "      <th></th>\n",
       "      <th></th>\n",
       "      <th></th>\n",
       "      <th></th>\n",
       "      <th></th>\n",
       "      <th></th>\n",
       "      <th></th>\n",
       "      <th></th>\n",
       "    </tr>\n",
       "  </thead>\n",
       "  <tbody>\n",
       "    <tr>\n",
       "      <th>NO ORDER</th>\n",
       "      <td>82</td>\n",
       "      <td>82</td>\n",
       "      <td>82</td>\n",
       "      <td>82</td>\n",
       "      <td>82</td>\n",
       "      <td>82</td>\n",
       "      <td>82</td>\n",
       "      <td>82</td>\n",
       "      <td>82</td>\n",
       "      <td>68</td>\n",
       "      <td>...</td>\n",
       "      <td>68</td>\n",
       "      <td>68</td>\n",
       "      <td>68</td>\n",
       "      <td>68</td>\n",
       "      <td>68</td>\n",
       "      <td>68</td>\n",
       "      <td>82</td>\n",
       "      <td>82</td>\n",
       "      <td>81</td>\n",
       "      <td>82</td>\n",
       "    </tr>\n",
       "    <tr>\n",
       "      <th>UNK</th>\n",
       "      <td>18</td>\n",
       "      <td>18</td>\n",
       "      <td>18</td>\n",
       "      <td>18</td>\n",
       "      <td>18</td>\n",
       "      <td>18</td>\n",
       "      <td>18</td>\n",
       "      <td>18</td>\n",
       "      <td>18</td>\n",
       "      <td>18</td>\n",
       "      <td>...</td>\n",
       "      <td>18</td>\n",
       "      <td>18</td>\n",
       "      <td>18</td>\n",
       "      <td>18</td>\n",
       "      <td>18</td>\n",
       "      <td>18</td>\n",
       "      <td>18</td>\n",
       "      <td>18</td>\n",
       "      <td>18</td>\n",
       "      <td>18</td>\n",
       "    </tr>\n",
       "  </tbody>\n",
       "</table>\n",
       "<p>2 rows × 108 columns</p>\n",
       "</div>"
      ],
      "text/plain": [
       "          DateTime  Seconds  Date  Time  Open  High  Low  Close  Ticks  \\\n",
       "BR_BUY                                                                   \n",
       "NO ORDER        82       82    82    82    82    82   82     82     82   \n",
       "UNK             18       18    18    18    18    18   18     18     18   \n",
       "\n",
       "          Close-Roll_Mean   ...     RSI(14)-Roll_Mean  RSI(14)-Roll_std  \\\n",
       "BR_BUY                      ...                                           \n",
       "NO ORDER               68   ...                    68                68   \n",
       "UNK                    18   ...                    18                18   \n",
       "\n",
       "          RSI(14)-Roll_var  RSI(30)-Roll_Mean  RSI(30)-Roll_std  \\\n",
       "BR_BUY                                                            \n",
       "NO ORDER                68                 68                68   \n",
       "UNK                     18                 18                18   \n",
       "\n",
       "          RSI(30)-Roll_var  Break_Support  Break_Resistance  DOCS25_sft1  \\\n",
       "BR_BUY                                                                     \n",
       "NO ORDER                68             82                82           81   \n",
       "UNK                     18             18                18           18   \n",
       "\n",
       "          BR_SELL  \n",
       "BR_BUY             \n",
       "NO ORDER       82  \n",
       "UNK            18  \n",
       "\n",
       "[2 rows x 108 columns]"
      ]
     },
     "execution_count": 15,
     "metadata": {},
     "output_type": "execute_result"
    }
   ],
   "source": [
    "br_test.groupby('BR_BUY').count()"
   ]
  },
  {
   "cell_type": "code",
   "execution_count": 6,
   "metadata": {
    "collapsed": false
   },
   "outputs": [
    {
     "ename": "KeyboardInterrupt",
     "evalue": "",
     "output_type": "error",
     "traceback": [
      "\u001b[1;31m---------------------------------------------------------------------------\u001b[0m",
      "\u001b[1;31mKeyboardInterrupt\u001b[0m                         Traceback (most recent call last)",
      "\u001b[1;32m<ipython-input-6-007e0fd97cc4>\u001b[0m in \u001b[0;36m<module>\u001b[1;34m()\u001b[0m\n\u001b[1;32m----> 1\u001b[1;33m \u001b[0mprice_data\u001b[0m\u001b[1;33m[\u001b[0m\u001b[1;34m'BR_BUY'\u001b[0m\u001b[1;33m]\u001b[0m \u001b[1;33m=\u001b[0m \u001b[0mlist\u001b[0m\u001b[1;33m(\u001b[0m\u001b[0mmap\u001b[0m\u001b[1;33m(\u001b[0m\u001b[0mfunctools\u001b[0m\u001b[1;33m.\u001b[0m\u001b[0mpartial\u001b[0m\u001b[1;33m(\u001b[0m\u001b[0mcheck_profit_loss_BUY\u001b[0m\u001b[1;33m,\u001b[0m \u001b[0mprice_data\u001b[0m\u001b[1;33m)\u001b[0m\u001b[1;33m,\u001b[0m \u001b[0mprice_data\u001b[0m\u001b[1;33m.\u001b[0m\u001b[0mBreak_Resistance\u001b[0m\u001b[1;33m)\u001b[0m\u001b[1;33m)\u001b[0m\u001b[1;33m\u001b[0m\u001b[0m\n\u001b[0m\u001b[0;32m      2\u001b[0m \u001b[0mprice_data\u001b[0m\u001b[1;33m[\u001b[0m\u001b[1;34m'BR_SELL'\u001b[0m\u001b[1;33m]\u001b[0m \u001b[1;33m=\u001b[0m \u001b[0mlist\u001b[0m\u001b[1;33m(\u001b[0m\u001b[0mmap\u001b[0m\u001b[1;33m(\u001b[0m\u001b[0mfunctools\u001b[0m\u001b[1;33m.\u001b[0m\u001b[0mpartial\u001b[0m\u001b[1;33m(\u001b[0m\u001b[0mcheck_profit_loss_SELL\u001b[0m\u001b[1;33m,\u001b[0m \u001b[0mprice_data\u001b[0m\u001b[1;33m)\u001b[0m\u001b[1;33m,\u001b[0m \u001b[0mprice_data\u001b[0m\u001b[1;33m.\u001b[0m\u001b[0mBreak_Resistance\u001b[0m\u001b[1;33m)\u001b[0m\u001b[1;33m)\u001b[0m\u001b[1;33m\u001b[0m\u001b[0m\n",
      "\u001b[1;32m<ipython-input-5-c5d1fd236a82>\u001b[0m in \u001b[0;36mcheck_profit_loss_BUY\u001b[1;34m(df, BR)\u001b[0m\n\u001b[0;32m     67\u001b[0m                 \u001b[1;31m#print('ORDER PRICE', subdf.High.iloc[0], 'tp_buy', tp_buy, 'sl_buy', sl_buy)\u001b[0m\u001b[1;33m\u001b[0m\u001b[1;33m\u001b[0m\u001b[0m\n\u001b[0;32m     68\u001b[0m                 \u001b[1;31m# Break resistance, BUY check for profit\u001b[0m\u001b[1;33m\u001b[0m\u001b[1;33m\u001b[0m\u001b[0m\n\u001b[1;32m---> 69\u001b[1;33m                 \u001b[0mp\u001b[0m \u001b[1;33m=\u001b[0m \u001b[0mnp\u001b[0m\u001b[1;33m.\u001b[0m\u001b[0mwhere\u001b[0m\u001b[1;33m(\u001b[0m\u001b[0msubdf\u001b[0m\u001b[1;33m.\u001b[0m\u001b[0mHigh\u001b[0m \u001b[1;33m>=\u001b[0m \u001b[0mtp_buy\u001b[0m\u001b[1;33m)\u001b[0m\u001b[1;33m[\u001b[0m\u001b[1;36m0\u001b[0m\u001b[1;33m]\u001b[0m\u001b[1;33m\u001b[0m\u001b[0m\n\u001b[0m\u001b[0;32m     70\u001b[0m                 \u001b[1;31m# Break resistance, BUY check for loss\u001b[0m\u001b[1;33m\u001b[0m\u001b[1;33m\u001b[0m\u001b[0m\n\u001b[0;32m     71\u001b[0m                 \u001b[0ml\u001b[0m \u001b[1;33m=\u001b[0m \u001b[0mnp\u001b[0m\u001b[1;33m.\u001b[0m\u001b[0mwhere\u001b[0m\u001b[1;33m(\u001b[0m\u001b[0msubdf\u001b[0m\u001b[1;33m.\u001b[0m\u001b[0mLow\u001b[0m \u001b[1;33m<=\u001b[0m \u001b[0msl_buy\u001b[0m\u001b[1;33m)\u001b[0m\u001b[1;33m[\u001b[0m\u001b[1;36m0\u001b[0m\u001b[1;33m]\u001b[0m\u001b[1;33m\u001b[0m\u001b[0m\n",
      "\u001b[1;32mC:\\Users\\Kevin\\dev.local\\python\\Anaconda3\\lib\\site-packages\\pandas\\core\\ops.py\u001b[0m in \u001b[0;36mwrapper\u001b[1;34m(self, other, axis)\u001b[0m\n\u001b[0;32m    724\u001b[0m                 \u001b[0mother\u001b[0m \u001b[1;33m=\u001b[0m \u001b[0mnp\u001b[0m\u001b[1;33m.\u001b[0m\u001b[0masarray\u001b[0m\u001b[1;33m(\u001b[0m\u001b[0mother\u001b[0m\u001b[1;33m)\u001b[0m\u001b[1;33m\u001b[0m\u001b[0m\n\u001b[0;32m    725\u001b[0m \u001b[1;33m\u001b[0m\u001b[0m\n\u001b[1;32m--> 726\u001b[1;33m             \u001b[0mres\u001b[0m \u001b[1;33m=\u001b[0m \u001b[0mna_op\u001b[0m\u001b[1;33m(\u001b[0m\u001b[0mvalues\u001b[0m\u001b[1;33m,\u001b[0m \u001b[0mother\u001b[0m\u001b[1;33m)\u001b[0m\u001b[1;33m\u001b[0m\u001b[0m\n\u001b[0m\u001b[0;32m    727\u001b[0m             \u001b[1;32mif\u001b[0m \u001b[0misscalar\u001b[0m\u001b[1;33m(\u001b[0m\u001b[0mres\u001b[0m\u001b[1;33m)\u001b[0m\u001b[1;33m:\u001b[0m\u001b[1;33m\u001b[0m\u001b[0m\n\u001b[0;32m    728\u001b[0m                 raise TypeError('Could not compare %s type with Series'\n",
      "\u001b[1;32mC:\\Users\\Kevin\\dev.local\\python\\Anaconda3\\lib\\site-packages\\pandas\\core\\ops.py\u001b[0m in \u001b[0;36mna_op\u001b[1;34m(x, y)\u001b[0m\n\u001b[0;32m    678\u001b[0m \u001b[1;33m\u001b[0m\u001b[0m\n\u001b[0;32m    679\u001b[0m             \u001b[1;32mtry\u001b[0m\u001b[1;33m:\u001b[0m\u001b[1;33m\u001b[0m\u001b[0m\n\u001b[1;32m--> 680\u001b[1;33m                 \u001b[0mresult\u001b[0m \u001b[1;33m=\u001b[0m \u001b[0mgetattr\u001b[0m\u001b[1;33m(\u001b[0m\u001b[0mx\u001b[0m\u001b[1;33m,\u001b[0m \u001b[0mname\u001b[0m\u001b[1;33m)\u001b[0m\u001b[1;33m(\u001b[0m\u001b[0my\u001b[0m\u001b[1;33m)\u001b[0m\u001b[1;33m\u001b[0m\u001b[0m\n\u001b[0m\u001b[0;32m    681\u001b[0m                 \u001b[1;32mif\u001b[0m \u001b[0mresult\u001b[0m \u001b[1;32mis\u001b[0m \u001b[0mNotImplemented\u001b[0m\u001b[1;33m:\u001b[0m\u001b[1;33m\u001b[0m\u001b[0m\n\u001b[0;32m    682\u001b[0m                     \u001b[1;32mraise\u001b[0m \u001b[0mTypeError\u001b[0m\u001b[1;33m(\u001b[0m\u001b[1;34m\"invalid type comparison\"\u001b[0m\u001b[1;33m)\u001b[0m\u001b[1;33m\u001b[0m\u001b[0m\n",
      "\u001b[1;31mKeyboardInterrupt\u001b[0m: "
     ]
    }
   ],
   "source": [
    "price_data['BR_BUY'] = list(map(functools.partial(check_profit_loss_BUY, price_data), price_data.Break_Resistance))\n",
    "price_data['BR_SELL'] = list(map(functools.partial(check_profit_loss_SELL, price_data), price_data.Break_Resistance))"
   ]
  },
  {
   "cell_type": "code",
   "execution_count": 11,
   "metadata": {
    "collapsed": true
   },
   "outputs": [],
   "source": [
    "?%timeit"
   ]
  },
  {
   "cell_type": "code",
   "execution_count": null,
   "metadata": {
    "collapsed": true
   },
   "outputs": [],
   "source": []
  }
 ],
 "metadata": {
  "kernelspec": {
   "display_name": "Python 3",
   "language": "python",
   "name": "python3"
  },
  "language_info": {
   "codemirror_mode": {
    "name": "ipython",
    "version": 3
   },
   "file_extension": ".py",
   "mimetype": "text/x-python",
   "name": "python",
   "nbconvert_exporter": "python",
   "pygments_lexer": "ipython3",
   "version": "3.5.1"
  }
 },
 "nbformat": 4,
 "nbformat_minor": 0
}
