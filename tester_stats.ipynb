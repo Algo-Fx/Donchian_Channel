{
 "cells": [
  {
   "cell_type": "code",
   "execution_count": null,
   "metadata": {
    "collapsed": true
   },
   "outputs": [],
   "source": [
    "import sys\n",
    "import numpy as np\n",
    "import pandas as pd\n",
    "import matplotlib.pyplot as plt\n",
    "import datetime as dt\n",
    "from Functions import seconds"
   ]
  },
  {
   "cell_type": "code",
   "execution_count": null,
   "metadata": {
    "collapsed": true
   },
   "outputs": [],
   "source": [
    "MagicNumber = \"150000\""
   ]
  },
  {
   "cell_type": "code",
   "execution_count": 5,
   "metadata": {
    "collapsed": true
   },
   "outputs": [],
   "source": [
    "#-----------------------------------------------------------------\n",
    "# read in Indicator data into dataframe\n",
    "#-----------------------------------------------------------------\n",
    "def read_indicator_data(head=False):\n",
    "    dataframe = pd.read_csv('data/' + MagicNumber + '_Indicators.csv')\n",
    "    dataframe.rename(columns={'Date': 'DateTime'}, inplace=True)      # rename 'Date' column to 'DateTime'\n",
    "    dataframe['DateTime'] = pd.to_datetime(dataframe['DateTime'])     # convert 'DateTime' to pd.datetime\n",
    "    dataframe['Seconds'] = list(map(seconds, dataframe['DateTime']))  # calc seconds\n",
    "\n",
    "    #split apart datetime into date and time columns\n",
    "    #temp = pd.DatetimeIndex(dataframe['DateTime'])\n",
    "    #dataframe['Date'] = temp.date\n",
    "    #dataframe['Time'] = temp.time\n",
    "\n",
    "    cols = dataframe.columns.tolist()           # rearrange to put 'Date' and 'Time' up front behind 'DateTime'\n",
    "    cols = cols[0:1] + cols[-1:] + cols[1:-1]   #\n",
    "    dataframe = dataframe[cols]                 #\n",
    "\n",
    "    dataframe['DateTime'] = pd.to_datetime(dataframe['DateTime'])\n",
    "    if head:\n",
    "        print(dataframe.head(head))    \n",
    "    return dataframe\n",
    "\n",
    "#-----------------------------------------------------------------    \n",
    "# Add Rolling stats to dataframe\n",
    "#-----------------------------------------------------------------\n",
    "def add_rolling_stats(dataframe, fields, window=15, head=False):\n",
    "    # TODO - add ability to receive list of fields to apply rolling stats to, then for field in list apply stats\n",
    "    # TODO - add keyword args to determine which stats to apply\n",
    "    for field in fields:\n",
    "        dataframe['Roll_Profit_Count'] = pd.rolling_apply(dataframe[field], window, rolling_profit_count, 1)\n",
    "        dataframe['Roll_Mean'] = pd.rolling_mean(dataframe[field], window)\n",
    "        dataframe['Roll_std'] = pd.rolling_std(dataframe[field], window)\n",
    "        dataframe['Roll_var'] = pd.rolling_var(dataframe[field], window)\n",
    "    # Order Dataframe with Trends added\n",
    "    if head:  # print head if passed value\n",
    "        dataframe[['DateTime', 'Ticket', 'Profit', 'Trend', 'Roll_Profit_Count', 'Roll_Mean', 'Roll_std']].head(head)\n",
    "    return dataframe"
   ]
  },
  {
   "cell_type": "code",
   "execution_count": 3,
   "metadata": {
    "collapsed": false
   },
   "outputs": [
    {
     "name": "stdout",
     "output_type": "stream",
     "text": [
      "Reading Indicator data\n"
     ]
    }
   ],
   "source": [
    "print('Reading Indicator data')\n",
    "indicator = read_indicator_data()"
   ]
  },
  {
   "cell_type": "code",
   "execution_count": 14,
   "metadata": {
    "collapsed": false
   },
   "outputs": [
    {
     "data": {
      "text/plain": [
       "['DOCR(10)',\n",
       " 'DOCT(10)',\n",
       " 'DOCS(10)',\n",
       " 'DOCR(25)',\n",
       " 'DOCT(25)',\n",
       " 'DOCS(25)',\n",
       " 'DOCR(50)',\n",
       " 'DOCT(50)',\n",
       " 'DOCS(50)',\n",
       " 'SMA(25)',\n",
       " 'SMA(50)',\n",
       " 'SMA(100)',\n",
       " 'EMA(25)',\n",
       " 'EMA(50)',\n",
       " 'EMA(100)',\n",
       " 'MACD_MAIN',\n",
       " 'MACD_SIGNAL',\n",
       " 'STD(50)',\n",
       " 'ATR(25)',\n",
       " 'MOM(25)',\n",
       " 'RSI(7)',\n",
       " 'RSI(14)',\n",
       " 'RSI(30)']"
      ]
     },
     "execution_count": 14,
     "metadata": {},
     "output_type": "execute_result"
    }
   ],
   "source": [
    "st = list(indicator.columns[4:])\n",
    "st"
   ]
  },
  {
   "cell_type": "code",
   "execution_count": 15,
   "metadata": {
    "collapsed": false
   },
   "outputs": [
    {
     "data": {
      "text/plain": [
       "Index(['DateTime', 'Seconds', 'Ticket', 'Open/Close', 'DOCR(10)', 'DOCT(10)',\n",
       "       'DOCS(10)', 'DOCR(25)', 'DOCT(25)', 'DOCS(25)', 'DOCR(50)', 'DOCT(50)',\n",
       "       'DOCS(50)', 'SMA(25)', 'SMA(50)', 'SMA(100)', 'EMA(25)', 'EMA(50)',\n",
       "       'EMA(100)', 'MACD_MAIN', 'MACD_SIGNAL', 'STD(50)', 'ATR(25)', 'MOM(25)',\n",
       "       'RSI(7)', 'RSI(14)', 'RSI(30)'],\n",
       "      dtype='object')"
      ]
     },
     "execution_count": 15,
     "metadata": {},
     "output_type": "execute_result"
    }
   ],
   "source": [
    "indicator.columns"
   ]
  },
  {
   "cell_type": "code",
   "execution_count": 21,
   "metadata": {
    "collapsed": false
   },
   "outputs": [
    {
     "data": {
      "text/html": [
       "<div>\n",
       "<table border=\"1\" class=\"dataframe\">\n",
       "  <thead>\n",
       "    <tr style=\"text-align: right;\">\n",
       "      <th></th>\n",
       "      <th>DateTime</th>\n",
       "      <th>Seconds</th>\n",
       "      <th>Ticket</th>\n",
       "      <th>DOCR(10)</th>\n",
       "      <th>DOCT(10)</th>\n",
       "      <th>DOCS(10)</th>\n",
       "      <th>DOCR(25)</th>\n",
       "      <th>DOCT(25)</th>\n",
       "      <th>DOCS(25)</th>\n",
       "      <th>DOCR(50)</th>\n",
       "      <th>...</th>\n",
       "      <th>EMA(50)</th>\n",
       "      <th>EMA(100)</th>\n",
       "      <th>MACD_MAIN</th>\n",
       "      <th>MACD_SIGNAL</th>\n",
       "      <th>STD(50)</th>\n",
       "      <th>ATR(25)</th>\n",
       "      <th>MOM(25)</th>\n",
       "      <th>RSI(7)</th>\n",
       "      <th>RSI(14)</th>\n",
       "      <th>RSI(30)</th>\n",
       "    </tr>\n",
       "    <tr>\n",
       "      <th>Open/Close</th>\n",
       "      <th></th>\n",
       "      <th></th>\n",
       "      <th></th>\n",
       "      <th></th>\n",
       "      <th></th>\n",
       "      <th></th>\n",
       "      <th></th>\n",
       "      <th></th>\n",
       "      <th></th>\n",
       "      <th></th>\n",
       "      <th></th>\n",
       "      <th></th>\n",
       "      <th></th>\n",
       "      <th></th>\n",
       "      <th></th>\n",
       "      <th></th>\n",
       "      <th></th>\n",
       "      <th></th>\n",
       "      <th></th>\n",
       "      <th></th>\n",
       "      <th></th>\n",
       "    </tr>\n",
       "  </thead>\n",
       "  <tbody>\n",
       "    <tr>\n",
       "      <th>ON_NewBar</th>\n",
       "      <td>366111</td>\n",
       "      <td>366111</td>\n",
       "      <td>366111</td>\n",
       "      <td>366111</td>\n",
       "      <td>366111</td>\n",
       "      <td>366111</td>\n",
       "      <td>366111</td>\n",
       "      <td>366111</td>\n",
       "      <td>366111</td>\n",
       "      <td>366111</td>\n",
       "      <td>...</td>\n",
       "      <td>366111</td>\n",
       "      <td>366111</td>\n",
       "      <td>366111</td>\n",
       "      <td>366111</td>\n",
       "      <td>366111</td>\n",
       "      <td>366111</td>\n",
       "      <td>366111</td>\n",
       "      <td>366111</td>\n",
       "      <td>366111</td>\n",
       "      <td>366111</td>\n",
       "    </tr>\n",
       "  </tbody>\n",
       "</table>\n",
       "<p>1 rows × 26 columns</p>\n",
       "</div>"
      ],
      "text/plain": [
       "            DateTime  Seconds  Ticket  DOCR(10)  DOCT(10)  DOCS(10)  DOCR(25)  \\\n",
       "Open/Close                                                                      \n",
       "ON_NewBar     366111   366111  366111    366111    366111    366111    366111   \n",
       "\n",
       "            DOCT(25)  DOCS(25)  DOCR(50)   ...     EMA(50)  EMA(100)  \\\n",
       "Open/Close                                 ...                         \n",
       "ON_NewBar     366111    366111    366111   ...      366111    366111   \n",
       "\n",
       "            MACD_MAIN  MACD_SIGNAL  STD(50)  ATR(25)  MOM(25)  RSI(7)  \\\n",
       "Open/Close                                                              \n",
       "ON_NewBar      366111       366111   366111   366111   366111  366111   \n",
       "\n",
       "            RSI(14)  RSI(30)  \n",
       "Open/Close                    \n",
       "ON_NewBar    366111   366111  \n",
       "\n",
       "[1 rows x 26 columns]"
      ]
     },
     "execution_count": 21,
     "metadata": {},
     "output_type": "execute_result"
    }
   ],
   "source": [
    "indicator.groupby('Open/Close').count()"
   ]
  },
  {
   "cell_type": "code",
   "execution_count": 22,
   "metadata": {
    "collapsed": true
   },
   "outputs": [],
   "source": [
    "?map"
   ]
  },
  {
   "cell_type": "code",
   "execution_count": null,
   "metadata": {
    "collapsed": true
   },
   "outputs": [],
   "source": []
  }
 ],
 "metadata": {
  "kernelspec": {
   "display_name": "Python 3",
   "language": "python",
   "name": "python3"
  },
  "language_info": {
   "codemirror_mode": {
    "name": "ipython",
    "version": 3
   },
   "file_extension": ".py",
   "mimetype": "text/x-python",
   "name": "python",
   "nbconvert_exporter": "python",
   "pygments_lexer": "ipython3",
   "version": "3.5.1"
  }
 },
 "nbformat": 4,
 "nbformat_minor": 0
}
